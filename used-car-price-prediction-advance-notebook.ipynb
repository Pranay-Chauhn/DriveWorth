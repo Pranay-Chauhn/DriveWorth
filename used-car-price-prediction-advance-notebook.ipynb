{
 "cells": [
  {
   "cell_type": "markdown",
   "id": "e48d4ec8",
   "metadata": {
    "papermill": {
     "duration": 0.032685,
     "end_time": "2024-10-09T09:55:41.896947",
     "exception": false,
     "start_time": "2024-10-09T09:55:41.864262",
     "status": "completed"
    },
    "tags": []
   },
   "source": [
    "# CAR PRICE PREDICTION"
   ]
  },
  {
   "cell_type": "code",
   "execution_count": 1,
   "id": "a306fb02",
   "metadata": {
    "execution": {
     "iopub.execute_input": "2024-10-09T09:55:41.960848Z",
     "iopub.status.busy": "2024-10-09T09:55:41.960517Z",
     "iopub.status.idle": "2024-10-09T09:55:44.319256Z",
     "shell.execute_reply": "2024-10-09T09:55:44.318211Z"
    },
    "papermill": {
     "duration": 2.393256,
     "end_time": "2024-10-09T09:55:44.321592",
     "exception": false,
     "start_time": "2024-10-09T09:55:41.928336",
     "status": "completed"
    },
    "tags": []
   },
   "outputs": [],
   "source": [
    "# Importing Necessary Library\n",
    "import pandas as pd \n",
    "import numpy as np\n",
    "import matplotlib.pyplot as plt\n",
    "%matplotlib inline\n",
    "import seaborn as sns "
   ]
  },
  {
   "cell_type": "code",
   "execution_count": 2,
   "id": "cbf384ef",
   "metadata": {
    "execution": {
     "iopub.execute_input": "2024-10-09T09:55:44.388085Z",
     "iopub.status.busy": "2024-10-09T09:55:44.387273Z",
     "iopub.status.idle": "2024-10-09T09:55:45.729873Z",
     "shell.execute_reply": "2024-10-09T09:55:45.723619Z"
    },
    "papermill": {
     "duration": 1.378183,
     "end_time": "2024-10-09T09:55:45.732553",
     "exception": false,
     "start_time": "2024-10-09T09:55:44.354370",
     "status": "completed"
    },
    "tags": []
   },
   "outputs": [],
   "source": [
    "# Load Data \n",
    "data = pd.read_csv('/kaggle/input/playground-series-s4e9/train.csv')\n",
    "test = pd.read_csv('/kaggle/input/playground-series-s4e9/test.csv')"
   ]
  },
  {
   "cell_type": "markdown",
   "id": "b8d32811",
   "metadata": {
    "papermill": {
     "duration": 0.032386,
     "end_time": "2024-10-09T09:55:45.799067",
     "exception": false,
     "start_time": "2024-10-09T09:55:45.766681",
     "status": "completed"
    },
    "tags": []
   },
   "source": [
    "# 1. DATA READING"
   ]
  },
  {
   "cell_type": "code",
   "execution_count": 3,
   "id": "4fda5e7f",
   "metadata": {
    "execution": {
     "iopub.execute_input": "2024-10-09T09:55:45.871587Z",
     "iopub.status.busy": "2024-10-09T09:55:45.870632Z",
     "iopub.status.idle": "2024-10-09T09:55:45.906389Z",
     "shell.execute_reply": "2024-10-09T09:55:45.905280Z"
    },
    "papermill": {
     "duration": 0.076264,
     "end_time": "2024-10-09T09:55:45.908459",
     "exception": false,
     "start_time": "2024-10-09T09:55:45.832195",
     "status": "completed"
    },
    "tags": []
   },
   "outputs": [
    {
     "data": {
      "text/html": [
       "<div>\n",
       "<style scoped>\n",
       "    .dataframe tbody tr th:only-of-type {\n",
       "        vertical-align: middle;\n",
       "    }\n",
       "\n",
       "    .dataframe tbody tr th {\n",
       "        vertical-align: top;\n",
       "    }\n",
       "\n",
       "    .dataframe thead th {\n",
       "        text-align: right;\n",
       "    }\n",
       "</style>\n",
       "<table border=\"1\" class=\"dataframe\">\n",
       "  <thead>\n",
       "    <tr style=\"text-align: right;\">\n",
       "      <th></th>\n",
       "      <th>id</th>\n",
       "      <th>brand</th>\n",
       "      <th>model</th>\n",
       "      <th>model_year</th>\n",
       "      <th>milage</th>\n",
       "      <th>fuel_type</th>\n",
       "      <th>engine</th>\n",
       "      <th>transmission</th>\n",
       "      <th>ext_col</th>\n",
       "      <th>int_col</th>\n",
       "      <th>accident</th>\n",
       "      <th>clean_title</th>\n",
       "      <th>price</th>\n",
       "    </tr>\n",
       "  </thead>\n",
       "  <tbody>\n",
       "    <tr>\n",
       "      <th>0</th>\n",
       "      <td>0</td>\n",
       "      <td>MINI</td>\n",
       "      <td>Cooper S Base</td>\n",
       "      <td>2007</td>\n",
       "      <td>213000</td>\n",
       "      <td>Gasoline</td>\n",
       "      <td>172.0HP 1.6L 4 Cylinder Engine Gasoline Fuel</td>\n",
       "      <td>A/T</td>\n",
       "      <td>Yellow</td>\n",
       "      <td>Gray</td>\n",
       "      <td>None reported</td>\n",
       "      <td>Yes</td>\n",
       "      <td>4200</td>\n",
       "    </tr>\n",
       "    <tr>\n",
       "      <th>1</th>\n",
       "      <td>1</td>\n",
       "      <td>Lincoln</td>\n",
       "      <td>LS V8</td>\n",
       "      <td>2002</td>\n",
       "      <td>143250</td>\n",
       "      <td>Gasoline</td>\n",
       "      <td>252.0HP 3.9L 8 Cylinder Engine Gasoline Fuel</td>\n",
       "      <td>A/T</td>\n",
       "      <td>Silver</td>\n",
       "      <td>Beige</td>\n",
       "      <td>At least 1 accident or damage reported</td>\n",
       "      <td>Yes</td>\n",
       "      <td>4999</td>\n",
       "    </tr>\n",
       "    <tr>\n",
       "      <th>2</th>\n",
       "      <td>2</td>\n",
       "      <td>Chevrolet</td>\n",
       "      <td>Silverado 2500 LT</td>\n",
       "      <td>2002</td>\n",
       "      <td>136731</td>\n",
       "      <td>E85 Flex Fuel</td>\n",
       "      <td>320.0HP 5.3L 8 Cylinder Engine Flex Fuel Capab...</td>\n",
       "      <td>A/T</td>\n",
       "      <td>Blue</td>\n",
       "      <td>Gray</td>\n",
       "      <td>None reported</td>\n",
       "      <td>Yes</td>\n",
       "      <td>13900</td>\n",
       "    </tr>\n",
       "    <tr>\n",
       "      <th>3</th>\n",
       "      <td>3</td>\n",
       "      <td>Genesis</td>\n",
       "      <td>G90 5.0 Ultimate</td>\n",
       "      <td>2017</td>\n",
       "      <td>19500</td>\n",
       "      <td>Gasoline</td>\n",
       "      <td>420.0HP 5.0L 8 Cylinder Engine Gasoline Fuel</td>\n",
       "      <td>Transmission w/Dual Shift Mode</td>\n",
       "      <td>Black</td>\n",
       "      <td>Black</td>\n",
       "      <td>None reported</td>\n",
       "      <td>Yes</td>\n",
       "      <td>45000</td>\n",
       "    </tr>\n",
       "    <tr>\n",
       "      <th>4</th>\n",
       "      <td>4</td>\n",
       "      <td>Mercedes-Benz</td>\n",
       "      <td>Metris Base</td>\n",
       "      <td>2021</td>\n",
       "      <td>7388</td>\n",
       "      <td>Gasoline</td>\n",
       "      <td>208.0HP 2.0L 4 Cylinder Engine Gasoline Fuel</td>\n",
       "      <td>7-Speed A/T</td>\n",
       "      <td>Black</td>\n",
       "      <td>Beige</td>\n",
       "      <td>None reported</td>\n",
       "      <td>Yes</td>\n",
       "      <td>97500</td>\n",
       "    </tr>\n",
       "    <tr>\n",
       "      <th>...</th>\n",
       "      <td>...</td>\n",
       "      <td>...</td>\n",
       "      <td>...</td>\n",
       "      <td>...</td>\n",
       "      <td>...</td>\n",
       "      <td>...</td>\n",
       "      <td>...</td>\n",
       "      <td>...</td>\n",
       "      <td>...</td>\n",
       "      <td>...</td>\n",
       "      <td>...</td>\n",
       "      <td>...</td>\n",
       "      <td>...</td>\n",
       "    </tr>\n",
       "    <tr>\n",
       "      <th>188528</th>\n",
       "      <td>188528</td>\n",
       "      <td>Cadillac</td>\n",
       "      <td>Escalade ESV Platinum</td>\n",
       "      <td>2017</td>\n",
       "      <td>49000</td>\n",
       "      <td>Gasoline</td>\n",
       "      <td>420.0HP 6.2L 8 Cylinder Engine Gasoline Fuel</td>\n",
       "      <td>Transmission w/Dual Shift Mode</td>\n",
       "      <td>White</td>\n",
       "      <td>Beige</td>\n",
       "      <td>None reported</td>\n",
       "      <td>Yes</td>\n",
       "      <td>27500</td>\n",
       "    </tr>\n",
       "    <tr>\n",
       "      <th>188529</th>\n",
       "      <td>188529</td>\n",
       "      <td>Mercedes-Benz</td>\n",
       "      <td>AMG C 43 AMG C 43 4MATIC</td>\n",
       "      <td>2018</td>\n",
       "      <td>28600</td>\n",
       "      <td>Gasoline</td>\n",
       "      <td>385.0HP 3.0L V6 Cylinder Engine Gasoline Fuel</td>\n",
       "      <td>8-Speed A/T</td>\n",
       "      <td>White</td>\n",
       "      <td>Black</td>\n",
       "      <td>At least 1 accident or damage reported</td>\n",
       "      <td>Yes</td>\n",
       "      <td>30000</td>\n",
       "    </tr>\n",
       "    <tr>\n",
       "      <th>188530</th>\n",
       "      <td>188530</td>\n",
       "      <td>Mercedes-Benz</td>\n",
       "      <td>AMG GLC 63 Base 4MATIC</td>\n",
       "      <td>2021</td>\n",
       "      <td>13650</td>\n",
       "      <td>Gasoline</td>\n",
       "      <td>469.0HP 4.0L 8 Cylinder Engine Gasoline Fuel</td>\n",
       "      <td>7-Speed A/T</td>\n",
       "      <td>White</td>\n",
       "      <td>Black</td>\n",
       "      <td>None reported</td>\n",
       "      <td>Yes</td>\n",
       "      <td>86900</td>\n",
       "    </tr>\n",
       "    <tr>\n",
       "      <th>188531</th>\n",
       "      <td>188531</td>\n",
       "      <td>Audi</td>\n",
       "      <td>S5 3.0T Prestige</td>\n",
       "      <td>2022</td>\n",
       "      <td>13895</td>\n",
       "      <td>Gasoline</td>\n",
       "      <td>3.0L</td>\n",
       "      <td>1-Speed Automatic</td>\n",
       "      <td>Daytona Gray Pearl Effect</td>\n",
       "      <td>Black</td>\n",
       "      <td>None reported</td>\n",
       "      <td>NaN</td>\n",
       "      <td>84900</td>\n",
       "    </tr>\n",
       "    <tr>\n",
       "      <th>188532</th>\n",
       "      <td>188532</td>\n",
       "      <td>Porsche</td>\n",
       "      <td>Macan Base</td>\n",
       "      <td>2016</td>\n",
       "      <td>59500</td>\n",
       "      <td>Gasoline</td>\n",
       "      <td>252.0HP 2.0L 4 Cylinder Engine Gasoline Fuel</td>\n",
       "      <td>Transmission w/Dual Shift Mode</td>\n",
       "      <td>White</td>\n",
       "      <td>Black</td>\n",
       "      <td>None reported</td>\n",
       "      <td>Yes</td>\n",
       "      <td>28995</td>\n",
       "    </tr>\n",
       "  </tbody>\n",
       "</table>\n",
       "<p>188533 rows × 13 columns</p>\n",
       "</div>"
      ],
      "text/plain": [
       "            id          brand                     model  model_year  milage  \\\n",
       "0            0           MINI             Cooper S Base        2007  213000   \n",
       "1            1        Lincoln                     LS V8        2002  143250   \n",
       "2            2      Chevrolet         Silverado 2500 LT        2002  136731   \n",
       "3            3        Genesis          G90 5.0 Ultimate        2017   19500   \n",
       "4            4  Mercedes-Benz               Metris Base        2021    7388   \n",
       "...        ...            ...                       ...         ...     ...   \n",
       "188528  188528       Cadillac     Escalade ESV Platinum        2017   49000   \n",
       "188529  188529  Mercedes-Benz  AMG C 43 AMG C 43 4MATIC        2018   28600   \n",
       "188530  188530  Mercedes-Benz    AMG GLC 63 Base 4MATIC        2021   13650   \n",
       "188531  188531           Audi          S5 3.0T Prestige        2022   13895   \n",
       "188532  188532        Porsche                Macan Base        2016   59500   \n",
       "\n",
       "            fuel_type                                             engine  \\\n",
       "0            Gasoline       172.0HP 1.6L 4 Cylinder Engine Gasoline Fuel   \n",
       "1            Gasoline       252.0HP 3.9L 8 Cylinder Engine Gasoline Fuel   \n",
       "2       E85 Flex Fuel  320.0HP 5.3L 8 Cylinder Engine Flex Fuel Capab...   \n",
       "3            Gasoline       420.0HP 5.0L 8 Cylinder Engine Gasoline Fuel   \n",
       "4            Gasoline       208.0HP 2.0L 4 Cylinder Engine Gasoline Fuel   \n",
       "...               ...                                                ...   \n",
       "188528       Gasoline       420.0HP 6.2L 8 Cylinder Engine Gasoline Fuel   \n",
       "188529       Gasoline      385.0HP 3.0L V6 Cylinder Engine Gasoline Fuel   \n",
       "188530       Gasoline       469.0HP 4.0L 8 Cylinder Engine Gasoline Fuel   \n",
       "188531       Gasoline                                               3.0L   \n",
       "188532       Gasoline       252.0HP 2.0L 4 Cylinder Engine Gasoline Fuel   \n",
       "\n",
       "                          transmission                    ext_col int_col  \\\n",
       "0                                  A/T                     Yellow    Gray   \n",
       "1                                  A/T                     Silver   Beige   \n",
       "2                                  A/T                       Blue    Gray   \n",
       "3       Transmission w/Dual Shift Mode                      Black   Black   \n",
       "4                          7-Speed A/T                      Black   Beige   \n",
       "...                                ...                        ...     ...   \n",
       "188528  Transmission w/Dual Shift Mode                      White   Beige   \n",
       "188529                     8-Speed A/T                      White   Black   \n",
       "188530                     7-Speed A/T                      White   Black   \n",
       "188531               1-Speed Automatic  Daytona Gray Pearl Effect   Black   \n",
       "188532  Transmission w/Dual Shift Mode                      White   Black   \n",
       "\n",
       "                                      accident clean_title  price  \n",
       "0                                None reported         Yes   4200  \n",
       "1       At least 1 accident or damage reported         Yes   4999  \n",
       "2                                None reported         Yes  13900  \n",
       "3                                None reported         Yes  45000  \n",
       "4                                None reported         Yes  97500  \n",
       "...                                        ...         ...    ...  \n",
       "188528                           None reported         Yes  27500  \n",
       "188529  At least 1 accident or damage reported         Yes  30000  \n",
       "188530                           None reported         Yes  86900  \n",
       "188531                           None reported         NaN  84900  \n",
       "188532                           None reported         Yes  28995  \n",
       "\n",
       "[188533 rows x 13 columns]"
      ]
     },
     "execution_count": 3,
     "metadata": {},
     "output_type": "execute_result"
    }
   ],
   "source": [
    "data"
   ]
  },
  {
   "cell_type": "code",
   "execution_count": 4,
   "id": "e2ac3a84",
   "metadata": {
    "execution": {
     "iopub.execute_input": "2024-10-09T09:55:45.976449Z",
     "iopub.status.busy": "2024-10-09T09:55:45.975706Z",
     "iopub.status.idle": "2024-10-09T09:55:45.982307Z",
     "shell.execute_reply": "2024-10-09T09:55:45.981381Z"
    },
    "papermill": {
     "duration": 0.041552,
     "end_time": "2024-10-09T09:55:45.984315",
     "exception": false,
     "start_time": "2024-10-09T09:55:45.942763",
     "status": "completed"
    },
    "tags": []
   },
   "outputs": [
    {
     "data": {
      "text/plain": [
       "(188533, 13)"
      ]
     },
     "execution_count": 4,
     "metadata": {},
     "output_type": "execute_result"
    }
   ],
   "source": [
    "data.shape"
   ]
  },
  {
   "cell_type": "code",
   "execution_count": 5,
   "id": "0538d0c0",
   "metadata": {
    "execution": {
     "iopub.execute_input": "2024-10-09T09:55:46.059480Z",
     "iopub.status.busy": "2024-10-09T09:55:46.059160Z",
     "iopub.status.idle": "2024-10-09T09:55:46.065735Z",
     "shell.execute_reply": "2024-10-09T09:55:46.064610Z"
    },
    "papermill": {
     "duration": 0.043051,
     "end_time": "2024-10-09T09:55:46.068373",
     "exception": false,
     "start_time": "2024-10-09T09:55:46.025322",
     "status": "completed"
    },
    "tags": []
   },
   "outputs": [
    {
     "data": {
      "text/plain": [
       "Index(['id', 'brand', 'model', 'model_year', 'milage', 'fuel_type', 'engine',\n",
       "       'transmission', 'ext_col', 'int_col', 'accident', 'clean_title',\n",
       "       'price'],\n",
       "      dtype='object')"
      ]
     },
     "execution_count": 5,
     "metadata": {},
     "output_type": "execute_result"
    }
   ],
   "source": [
    "data.columns"
   ]
  },
  {
   "cell_type": "code",
   "execution_count": 6,
   "id": "06f176be",
   "metadata": {
    "execution": {
     "iopub.execute_input": "2024-10-09T09:55:46.142192Z",
     "iopub.status.busy": "2024-10-09T09:55:46.141882Z",
     "iopub.status.idle": "2024-10-09T09:55:46.168406Z",
     "shell.execute_reply": "2024-10-09T09:55:46.167488Z"
    },
    "papermill": {
     "duration": 0.062458,
     "end_time": "2024-10-09T09:55:46.170381",
     "exception": false,
     "start_time": "2024-10-09T09:55:46.107923",
     "status": "completed"
    },
    "tags": []
   },
   "outputs": [
    {
     "data": {
      "text/plain": [
       "array(['A/T', 'Transmission w/Dual Shift Mode', '7-Speed A/T',\n",
       "       '8-Speed A/T', '10-Speed Automatic', '1-Speed A/T', '6-Speed A/T',\n",
       "       '10-Speed A/T', '9-Speed A/T', '8-Speed Automatic',\n",
       "       '9-Speed Automatic', '5-Speed A/T', 'Automatic',\n",
       "       '7-Speed Automatic with Auto-Shift', 'CVT Transmission',\n",
       "       '5-Speed M/T', 'M/T', '6-Speed M/T', '6-Speed Automatic',\n",
       "       '4-Speed Automatic', '7-Speed M/T', '2-Speed A/T',\n",
       "       '1-Speed Automatic', 'Automatic CVT', '4-Speed A/T',\n",
       "       '6-Speed Manual', 'Transmission Overdrive Switch',\n",
       "       '8-Speed Automatic with Auto-Shift', '7-Speed Manual',\n",
       "       '7-Speed Automatic', '9-Speed Automatic with Auto-Shift',\n",
       "       '6-Speed Automatic with Auto-Shift',\n",
       "       '6-Speed Electronically Controlled Automatic with O', 'F', 'CVT-F',\n",
       "       '8-Speed Manual', 'Manual', '–', '2', '6 Speed At/Mt',\n",
       "       '5-Speed Automatic', '2-Speed Automatic', '8-SPEED A/T', '7-Speed',\n",
       "       'Variable', 'Single-Speed Fixed Gear', '8-SPEED AT',\n",
       "       '10-Speed Automatic with Overdrive', '7-Speed DCT Automatic',\n",
       "       'SCHEDULED FOR OR IN PRODUCTION', '6-Speed', '6 Speed Mt'],\n",
       "      dtype=object)"
      ]
     },
     "execution_count": 6,
     "metadata": {},
     "output_type": "execute_result"
    }
   ],
   "source": [
    "data['transmission'].unique()"
   ]
  },
  {
   "cell_type": "code",
   "execution_count": 7,
   "id": "e5e06e85",
   "metadata": {
    "execution": {
     "iopub.execute_input": "2024-10-09T09:55:46.238487Z",
     "iopub.status.busy": "2024-10-09T09:55:46.238177Z",
     "iopub.status.idle": "2024-10-09T09:55:46.457070Z",
     "shell.execute_reply": "2024-10-09T09:55:46.455986Z"
    },
    "papermill": {
     "duration": 0.255805,
     "end_time": "2024-10-09T09:55:46.459162",
     "exception": false,
     "start_time": "2024-10-09T09:55:46.203357",
     "status": "completed"
    },
    "tags": []
   },
   "outputs": [
    {
     "data": {
      "text/plain": [
       "array(['A/T', '7-Speed A/T', '8-Speed A/T', '10-Speed Automatic',\n",
       "       '1-Speed A/T', '6-Speed A/T', '10-Speed A/T', '9-Speed A/T',\n",
       "       '8-Speed Automatic', '9-Speed Automatic', '5-Speed A/T',\n",
       "       'Automatic', '7-Speed Automatic with Auto-Shift',\n",
       "       '6-Speed Automatic', '4-Speed Automatic', '2-Speed A/T',\n",
       "       '1-Speed Automatic', 'Automatic CVT', '4-Speed A/T',\n",
       "       '8-Speed Automatic with Auto-Shift', '7-Speed Automatic',\n",
       "       '9-Speed Automatic with Auto-Shift',\n",
       "       '6-Speed Automatic with Auto-Shift',\n",
       "       '6-Speed Electronically Controlled Automatic with O',\n",
       "       '5-Speed Automatic', '2-Speed Automatic', '8-SPEED A/T',\n",
       "       '10-Speed Automatic with Overdrive', '7-Speed DCT Automatic'],\n",
       "      dtype=object)"
      ]
     },
     "execution_count": 7,
     "metadata": {},
     "output_type": "execute_result"
    }
   ],
   "source": [
    "data[(data.transmission.str.contains('Automatic')) | (data.transmission.str.contains('A/T'))]['transmission'].unique()"
   ]
  },
  {
   "cell_type": "code",
   "execution_count": 8,
   "id": "14aa1453",
   "metadata": {
    "execution": {
     "iopub.execute_input": "2024-10-09T09:55:46.527144Z",
     "iopub.status.busy": "2024-10-09T09:55:46.526277Z",
     "iopub.status.idle": "2024-10-09T09:55:46.550773Z",
     "shell.execute_reply": "2024-10-09T09:55:46.549834Z"
    },
    "papermill": {
     "duration": 0.060785,
     "end_time": "2024-10-09T09:55:46.552705",
     "exception": false,
     "start_time": "2024-10-09T09:55:46.491920",
     "status": "completed"
    },
    "tags": []
   },
   "outputs": [
    {
     "data": {
      "text/plain": [
       "array(['MINI', 'Lincoln', 'Chevrolet', 'Genesis', 'Mercedes-Benz', 'Audi',\n",
       "       'Ford', 'BMW', 'Tesla', 'Cadillac', 'Land', 'GMC', 'Toyota',\n",
       "       'Hyundai', 'Volvo', 'Volkswagen', 'Buick', 'Rivian', 'RAM',\n",
       "       'Hummer', 'Alfa', 'INFINITI', 'Jeep', 'Porsche', 'McLaren',\n",
       "       'Honda', 'Lexus', 'Dodge', 'Nissan', 'Jaguar', 'Acura', 'Kia',\n",
       "       'Mitsubishi', 'Rolls-Royce', 'Maserati', 'Pontiac', 'Saturn',\n",
       "       'Bentley', 'Mazda', 'Subaru', 'Ferrari', 'Aston', 'Lamborghini',\n",
       "       'Chrysler', 'Lucid', 'Lotus', 'Scion', 'smart', 'Karma',\n",
       "       'Plymouth', 'Suzuki', 'FIAT', 'Saab', 'Bugatti', 'Mercury',\n",
       "       'Polestar', 'Maybach'], dtype=object)"
      ]
     },
     "execution_count": 8,
     "metadata": {},
     "output_type": "execute_result"
    }
   ],
   "source": [
    "data['brand'].unique()"
   ]
  },
  {
   "cell_type": "code",
   "execution_count": 9,
   "id": "30cd3f85",
   "metadata": {
    "execution": {
     "iopub.execute_input": "2024-10-09T09:55:46.619797Z",
     "iopub.status.busy": "2024-10-09T09:55:46.619488Z",
     "iopub.status.idle": "2024-10-09T09:55:46.637272Z",
     "shell.execute_reply": "2024-10-09T09:55:46.636179Z"
    },
    "papermill": {
     "duration": 0.053719,
     "end_time": "2024-10-09T09:55:46.639205",
     "exception": false,
     "start_time": "2024-10-09T09:55:46.585486",
     "status": "completed"
    },
    "tags": []
   },
   "outputs": [
    {
     "data": {
      "text/plain": [
       "array(['Gasoline', 'E85 Flex Fuel', nan, 'Hybrid', 'Diesel',\n",
       "       'Plug-In Hybrid', '–', 'not supported'], dtype=object)"
      ]
     },
     "execution_count": 9,
     "metadata": {},
     "output_type": "execute_result"
    }
   ],
   "source": [
    "data['fuel_type'].unique()"
   ]
  },
  {
   "cell_type": "code",
   "execution_count": 10,
   "id": "fda8ed25",
   "metadata": {
    "execution": {
     "iopub.execute_input": "2024-10-09T09:55:46.706303Z",
     "iopub.status.busy": "2024-10-09T09:55:46.706018Z",
     "iopub.status.idle": "2024-10-09T09:55:46.723915Z",
     "shell.execute_reply": "2024-10-09T09:55:46.722939Z"
    },
    "papermill": {
     "duration": 0.053998,
     "end_time": "2024-10-09T09:55:46.726246",
     "exception": false,
     "start_time": "2024-10-09T09:55:46.672248",
     "status": "completed"
    },
    "tags": []
   },
   "outputs": [
    {
     "data": {
      "text/plain": [
       "array(['Yes', nan], dtype=object)"
      ]
     },
     "execution_count": 10,
     "metadata": {},
     "output_type": "execute_result"
    }
   ],
   "source": [
    "data['clean_title'].unique()"
   ]
  },
  {
   "cell_type": "code",
   "execution_count": 11,
   "id": "e0006dcb",
   "metadata": {
    "execution": {
     "iopub.execute_input": "2024-10-09T09:55:46.797878Z",
     "iopub.status.busy": "2024-10-09T09:55:46.797590Z",
     "iopub.status.idle": "2024-10-09T09:55:46.853632Z",
     "shell.execute_reply": "2024-10-09T09:55:46.852714Z"
    },
    "papermill": {
     "duration": 0.092206,
     "end_time": "2024-10-09T09:55:46.855662",
     "exception": false,
     "start_time": "2024-10-09T09:55:46.763456",
     "status": "completed"
    },
    "tags": []
   },
   "outputs": [
    {
     "data": {
      "text/plain": [
       "count            186081\n",
       "unique                2\n",
       "top       None reported\n",
       "freq             144514\n",
       "Name: accident, dtype: object"
      ]
     },
     "execution_count": 11,
     "metadata": {},
     "output_type": "execute_result"
    }
   ],
   "source": [
    "data['accident'].describe()"
   ]
  },
  {
   "cell_type": "code",
   "execution_count": 12,
   "id": "bd58ceff",
   "metadata": {
    "execution": {
     "iopub.execute_input": "2024-10-09T09:55:46.926795Z",
     "iopub.status.busy": "2024-10-09T09:55:46.926257Z",
     "iopub.status.idle": "2024-10-09T09:55:46.943729Z",
     "shell.execute_reply": "2024-10-09T09:55:46.942867Z"
    },
    "papermill": {
     "duration": 0.055708,
     "end_time": "2024-10-09T09:55:46.945581",
     "exception": false,
     "start_time": "2024-10-09T09:55:46.889873",
     "status": "completed"
    },
    "tags": []
   },
   "outputs": [
    {
     "data": {
      "text/plain": [
       "array(['Gasoline', 'E85 Flex Fuel', nan, 'Hybrid', 'Diesel',\n",
       "       'Plug-In Hybrid', '–', 'not supported'], dtype=object)"
      ]
     },
     "execution_count": 12,
     "metadata": {},
     "output_type": "execute_result"
    }
   ],
   "source": [
    "data['fuel_type'].unique()"
   ]
  },
  {
   "cell_type": "markdown",
   "id": "e6f18d18",
   "metadata": {
    "papermill": {
     "duration": 0.032636,
     "end_time": "2024-10-09T09:55:47.011236",
     "exception": false,
     "start_time": "2024-10-09T09:55:46.978600",
     "status": "completed"
    },
    "tags": []
   },
   "source": [
    "# 2. DATA VISUALIZATION"
   ]
  },
  {
   "cell_type": "code",
   "execution_count": 13,
   "id": "bf3fc4ea",
   "metadata": {
    "execution": {
     "iopub.execute_input": "2024-10-09T09:55:47.078908Z",
     "iopub.status.busy": "2024-10-09T09:55:47.078616Z",
     "iopub.status.idle": "2024-10-09T09:55:47.870286Z",
     "shell.execute_reply": "2024-10-09T09:55:47.869458Z"
    },
    "papermill": {
     "duration": 0.827908,
     "end_time": "2024-10-09T09:55:47.872318",
     "exception": false,
     "start_time": "2024-10-09T09:55:47.044410",
     "status": "completed"
    },
    "tags": []
   },
   "outputs": [
    {
     "data": {
      "text/plain": [
       "<Axes: xlabel='brand', ylabel='price'>"
      ]
     },
     "execution_count": 13,
     "metadata": {},
     "output_type": "execute_result"
    },
    {
     "data": {
      "image/png": "[encoded data removed]",
      "text/plain": [
       "<Figure size 1500x500 with 1 Axes>"
      ]
     },
     "metadata": {},
     "output_type": "display_data"
    }
   ],
   "source": [
    "plt.figure(figsize=(15,5))\n",
    "brand_order = data.groupby('brand')['price'].mean().sort_values(ascending = True).head(10).index\n",
    "sns.barplot(data=data , x='brand' ,y='price',order = brand_order)"
   ]
  },
  {
   "cell_type": "code",
   "execution_count": 14,
   "id": "c255642d",
   "metadata": {
    "execution": {
     "iopub.execute_input": "2024-10-09T09:55:47.940884Z",
     "iopub.status.busy": "2024-10-09T09:55:47.940574Z",
     "iopub.status.idle": "2024-10-09T09:55:48.348518Z",
     "shell.execute_reply": "2024-10-09T09:55:48.347611Z"
    },
    "papermill": {
     "duration": 0.444488,
     "end_time": "2024-10-09T09:55:48.350465",
     "exception": false,
     "start_time": "2024-10-09T09:55:47.905977",
     "status": "completed"
    },
    "tags": []
   },
   "outputs": [
    {
     "data": {
      "text/plain": [
       "<Axes: xlabel='brand', ylabel='count'>"
      ]
     },
     "execution_count": 14,
     "metadata": {},
     "output_type": "execute_result"
    },
    {
     "data": {
      "image/png": "[encoded data removed]",
      "text/plain": [
       "<Figure size 1500x500 with 1 Axes>"
      ]
     },
     "metadata": {},
     "output_type": "display_data"
    }
   ],
   "source": [
    "plt.figure(figsize=(15,5))\n",
    "sns.countplot(data=data , x='brand' ,order = brand_order)"
   ]
  },
  {
   "cell_type": "code",
   "execution_count": 15,
   "id": "ec071886",
   "metadata": {
    "execution": {
     "iopub.execute_input": "2024-10-09T09:55:48.420219Z",
     "iopub.status.busy": "2024-10-09T09:55:48.419914Z",
     "iopub.status.idle": "2024-10-09T09:55:50.923229Z",
     "shell.execute_reply": "2024-10-09T09:55:50.922328Z"
    },
    "papermill": {
     "duration": 2.540891,
     "end_time": "2024-10-09T09:55:50.925581",
     "exception": false,
     "start_time": "2024-10-09T09:55:48.384690",
     "status": "completed"
    },
    "tags": []
   },
   "outputs": [
    {
     "data": {
      "image/png": "[encoded data removed]",
      "text/plain": [
       "<Figure size 1500x500 with 1 Axes>"
      ]
     },
     "metadata": {},
     "output_type": "display_data"
    }
   ],
   "source": [
    "plt.figure(figsize=(15,5))\n",
    "sns.barplot(data=data , x='model_year',y='price' )\n",
    "plt.grid()\n",
    "plt.xticks( rotation = 'vertical')\n",
    "plt.xlabel('Model Year')\n",
    "plt.ylabel('Price')\n",
    "plt.show()"
   ]
  },
  {
   "cell_type": "code",
   "execution_count": 16,
   "id": "7ef4d3eb",
   "metadata": {
    "execution": {
     "iopub.execute_input": "2024-10-09T09:55:51.031921Z",
     "iopub.status.busy": "2024-10-09T09:55:51.031564Z",
     "iopub.status.idle": "2024-10-09T09:55:51.708126Z",
     "shell.execute_reply": "2024-10-09T09:55:51.707205Z"
    },
    "papermill": {
     "duration": 0.714893,
     "end_time": "2024-10-09T09:55:51.710831",
     "exception": false,
     "start_time": "2024-10-09T09:55:50.995938",
     "status": "completed"
    },
    "tags": []
   },
   "outputs": [
    {
     "data": {
      "image/png": "[encoded data removed]",
      "text/plain": [
       "<Figure size 1500x500 with 1 Axes>"
      ]
     },
     "metadata": {},
     "output_type": "display_data"
    }
   ],
   "source": [
    "plt.figure(figsize=(15,5))\n",
    "sns.scatterplot(data=data,y='milage' , x='price' , color = 'r' )\n",
    "plt.title('Milage by Price')\n",
    "plt.xlabel('Price')\n",
    "plt.ylabel('Milage')\n",
    "plt.show()"
   ]
  },
  {
   "cell_type": "code",
   "execution_count": 17,
   "id": "9c7b6724",
   "metadata": {
    "execution": {
     "iopub.execute_input": "2024-10-09T09:55:51.784947Z",
     "iopub.status.busy": "2024-10-09T09:55:51.784641Z",
     "iopub.status.idle": "2024-10-09T09:55:52.312319Z",
     "shell.execute_reply": "2024-10-09T09:55:52.311431Z"
    },
    "papermill": {
     "duration": 0.567378,
     "end_time": "2024-10-09T09:55:52.314412",
     "exception": false,
     "start_time": "2024-10-09T09:55:51.747034",
     "status": "completed"
    },
    "tags": []
   },
   "outputs": [
    {
     "data": {
      "text/plain": [
       "Text(0.5, 1.0, 'Count of Car Fuel type')"
      ]
     },
     "execution_count": 17,
     "metadata": {},
     "output_type": "execute_result"
    },
    {
     "data": {
      "image/png": "[encoded data removed]",
      "text/plain": [
       "<Figure size 1500x500 with 1 Axes>"
      ]
     },
     "metadata": {},
     "output_type": "display_data"
    }
   ],
   "source": [
    "plt.figure(figsize=(15,5))\n",
    "sns.countplot(data=data,x='fuel_type',palette = 'coolwarm')\n",
    "plt.title('Count of Car Fuel type')"
   ]
  },
  {
   "cell_type": "code",
   "execution_count": 18,
   "id": "d1eda074",
   "metadata": {
    "execution": {
     "iopub.execute_input": "2024-10-09T09:55:52.389779Z",
     "iopub.status.busy": "2024-10-09T09:55:52.389446Z",
     "iopub.status.idle": "2024-10-09T09:56:01.963466Z",
     "shell.execute_reply": "2024-10-09T09:56:01.962634Z"
    },
    "papermill": {
     "duration": 9.614768,
     "end_time": "2024-10-09T09:56:01.966044",
     "exception": false,
     "start_time": "2024-10-09T09:55:52.351276",
     "status": "completed"
    },
    "tags": []
   },
   "outputs": [
    {
     "data": {
      "text/plain": [
       "Text(0, 0.5, 'Milage')"
      ]
     },
     "execution_count": 18,
     "metadata": {},
     "output_type": "execute_result"
    },
    {
     "data": {
      "image/png": "[encoded data removed]",
      "text/plain": [
       "<Figure size 1500x500 with 1 Axes>"
      ]
     },
     "metadata": {},
     "output_type": "display_data"
    }
   ],
   "source": [
    "plt.figure(figsize=(15,5))\n",
    "sns.scatterplot(data=data,y='milage' , x='price' ,hue='fuel_type')\n",
    "plt.xlabel('Price')\n",
    "plt.ylabel('Milage')"
   ]
  },
  {
   "cell_type": "code",
   "execution_count": 19,
   "id": "be46b352",
   "metadata": {
    "execution": {
     "iopub.execute_input": "2024-10-09T09:56:02.044519Z",
     "iopub.status.busy": "2024-10-09T09:56:02.044188Z",
     "iopub.status.idle": "2024-10-09T09:56:02.459869Z",
     "shell.execute_reply": "2024-10-09T09:56:02.458905Z"
    },
    "papermill": {
     "duration": 0.457279,
     "end_time": "2024-10-09T09:56:02.462120",
     "exception": false,
     "start_time": "2024-10-09T09:56:02.004841",
     "status": "completed"
    },
    "tags": []
   },
   "outputs": [
    {
     "data": {
      "image/png": "[encoded data removed]",
      "text/plain": [
       "<Figure size 1000x800 with 1 Axes>"
      ]
     },
     "metadata": {},
     "output_type": "display_data"
    }
   ],
   "source": [
    "plt.figure(figsize=(10,8))\n",
    "ax = sns.countplot(data=data,x='accident')\n",
    "# Add count labels on top of each bar\n",
    "for p in ax.patches:\n",
    "    ax.annotate(f'{int(p.get_height())}', \n",
    "                (p.get_x() + p.get_width() / 2., p.get_height()), \n",
    "                ha='center', va='baseline', fontsize=12, color='black', \n",
    "                xytext=(0, 5), textcoords='offset points')\n",
    "plt.show()"
   ]
  },
  {
   "cell_type": "code",
   "execution_count": 20,
   "id": "61bca5f1",
   "metadata": {
    "execution": {
     "iopub.execute_input": "2024-10-09T09:56:02.543671Z",
     "iopub.status.busy": "2024-10-09T09:56:02.543087Z",
     "iopub.status.idle": "2024-10-09T09:56:03.189316Z",
     "shell.execute_reply": "2024-10-09T09:56:03.188385Z"
    },
    "papermill": {
     "duration": 0.688619,
     "end_time": "2024-10-09T09:56:03.191301",
     "exception": false,
     "start_time": "2024-10-09T09:56:02.502682",
     "status": "completed"
    },
    "tags": []
   },
   "outputs": [
    {
     "data": {
      "text/plain": [
       "Text(0, 0.5, 'Count')"
      ]
     },
     "execution_count": 20,
     "metadata": {},
     "output_type": "execute_result"
    },
    {
     "data": {
      "image/png": "[encoded data removed]",
      "text/plain": [
       "<Figure size 1000x800 with 1 Axes>"
      ]
     },
     "metadata": {},
     "output_type": "display_data"
    }
   ],
   "source": [
    "plt.figure(figsize=(10,8))\n",
    "sns.countplot(data=data , x='brand' , hue='accident', order = brand_order)\n",
    "plt.title('Accident Status of top 10 Brands')\n",
    "plt.xlabel('Brand')\n",
    "plt.ylabel('Count')"
   ]
  },
  {
   "cell_type": "code",
   "execution_count": 21,
   "id": "25e8d19a",
   "metadata": {
    "execution": {
     "iopub.execute_input": "2024-10-09T09:56:03.272128Z",
     "iopub.status.busy": "2024-10-09T09:56:03.271723Z",
     "iopub.status.idle": "2024-10-09T09:56:03.610866Z",
     "shell.execute_reply": "2024-10-09T09:56:03.609652Z"
    },
    "papermill": {
     "duration": 0.382996,
     "end_time": "2024-10-09T09:56:03.614333",
     "exception": false,
     "start_time": "2024-10-09T09:56:03.231337",
     "status": "completed"
    },
    "tags": []
   },
   "outputs": [
    {
     "data": {
      "text/plain": [
       "<Axes: xlabel='clean_title', ylabel='count'>"
      ]
     },
     "execution_count": 21,
     "metadata": {},
     "output_type": "execute_result"
    },
    {
     "data": {
      "image/png": "[encoded data removed]",
      "text/plain": [
       "<Figure size 640x480 with 1 Axes>"
      ]
     },
     "metadata": {},
     "output_type": "display_data"
    }
   ],
   "source": [
    "sns.countplot(data=data , x = 'clean_title')"
   ]
  },
  {
   "cell_type": "markdown",
   "id": "cc9d2a39",
   "metadata": {
    "papermill": {
     "duration": 0.040057,
     "end_time": "2024-10-09T09:56:03.703307",
     "exception": false,
     "start_time": "2024-10-09T09:56:03.663250",
     "status": "completed"
    },
    "tags": []
   },
   "source": [
    "# 3. DATA CLEANING"
   ]
  },
  {
   "cell_type": "code",
   "execution_count": 22,
   "id": "41df8c0c",
   "metadata": {
    "execution": {
     "iopub.execute_input": "2024-10-09T09:56:03.785349Z",
     "iopub.status.busy": "2024-10-09T09:56:03.785016Z",
     "iopub.status.idle": "2024-10-09T09:56:03.944463Z",
     "shell.execute_reply": "2024-10-09T09:56:03.943595Z"
    },
    "papermill": {
     "duration": 0.203173,
     "end_time": "2024-10-09T09:56:03.946368",
     "exception": false,
     "start_time": "2024-10-09T09:56:03.743195",
     "status": "completed"
    },
    "tags": []
   },
   "outputs": [
    {
     "data": {
      "text/plain": [
       "id                  0\n",
       "brand               0\n",
       "model               0\n",
       "model_year          0\n",
       "milage              0\n",
       "fuel_type        5083\n",
       "engine              0\n",
       "transmission        0\n",
       "ext_col             0\n",
       "int_col             0\n",
       "accident         2452\n",
       "clean_title     21419\n",
       "price               0\n",
       "dtype: int64"
      ]
     },
     "execution_count": 22,
     "metadata": {},
     "output_type": "execute_result"
    }
   ],
   "source": [
    "data.isna().sum()"
   ]
  },
  {
   "cell_type": "code",
   "execution_count": 23,
   "id": "857ca2a1",
   "metadata": {
    "execution": {
     "iopub.execute_input": "2024-10-09T09:56:04.028549Z",
     "iopub.status.busy": "2024-10-09T09:56:04.027970Z",
     "iopub.status.idle": "2024-10-09T09:56:04.052102Z",
     "shell.execute_reply": "2024-10-09T09:56:04.051048Z"
    },
    "papermill": {
     "duration": 0.06744,
     "end_time": "2024-10-09T09:56:04.054091",
     "exception": false,
     "start_time": "2024-10-09T09:56:03.986651",
     "status": "completed"
    },
    "tags": []
   },
   "outputs": [
    {
     "name": "stderr",
     "output_type": "stream",
     "text": [
      "/tmp/ipykernel_24/3972989972.py:1: FutureWarning: A value is trying to be set on a copy of a DataFrame or Series through chained assignment using an inplace method.\n",
      "The behavior will change in pandas 3.0. This inplace method will never work because the intermediate object on which we are setting values always behaves as a copy.\n",
      "\n",
      "For example, when doing 'df[col].method(value, inplace=True)', try using 'df.method({col: value}, inplace=True)' or df[col] = df[col].method(value) instead, to perform the operation inplace on the original object.\n",
      "\n",
      "\n",
      "  data['accident'].fillna('None reported' ,inplace = True)\n"
     ]
    }
   ],
   "source": [
    "data['accident'].fillna('None reported' ,inplace = True)"
   ]
  },
  {
   "cell_type": "code",
   "execution_count": 24,
   "id": "778b5f9f",
   "metadata": {
    "execution": {
     "iopub.execute_input": "2024-10-09T09:56:04.137233Z",
     "iopub.status.busy": "2024-10-09T09:56:04.136693Z",
     "iopub.status.idle": "2024-10-09T09:56:04.142460Z",
     "shell.execute_reply": "2024-10-09T09:56:04.141626Z"
    },
    "papermill": {
     "duration": 0.049341,
     "end_time": "2024-10-09T09:56:04.144242",
     "exception": false,
     "start_time": "2024-10-09T09:56:04.094901",
     "status": "completed"
    },
    "tags": []
   },
   "outputs": [
    {
     "data": {
      "text/plain": [
       "(188533, 13)"
      ]
     },
     "execution_count": 24,
     "metadata": {},
     "output_type": "execute_result"
    }
   ],
   "source": [
    "data.shape"
   ]
  },
  {
   "cell_type": "code",
   "execution_count": 25,
   "id": "e25d3c7d",
   "metadata": {
    "execution": {
     "iopub.execute_input": "2024-10-09T09:56:04.225657Z",
     "iopub.status.busy": "2024-10-09T09:56:04.225352Z",
     "iopub.status.idle": "2024-10-09T09:56:04.249745Z",
     "shell.execute_reply": "2024-10-09T09:56:04.248727Z"
    },
    "papermill": {
     "duration": 0.067429,
     "end_time": "2024-10-09T09:56:04.251723",
     "exception": false,
     "start_time": "2024-10-09T09:56:04.184294",
     "status": "completed"
    },
    "tags": []
   },
   "outputs": [
    {
     "name": "stderr",
     "output_type": "stream",
     "text": [
      "/tmp/ipykernel_24/2653428194.py:1: FutureWarning: A value is trying to be set on a copy of a DataFrame or Series through chained assignment using an inplace method.\n",
      "The behavior will change in pandas 3.0. This inplace method will never work because the intermediate object on which we are setting values always behaves as a copy.\n",
      "\n",
      "For example, when doing 'df[col].method(value, inplace=True)', try using 'df.method({col: value}, inplace=True)' or df[col] = df[col].method(value) instead, to perform the operation inplace on the original object.\n",
      "\n",
      "\n",
      "  data['clean_title'].fillna('No',inplace = True)\n"
     ]
    }
   ],
   "source": [
    "data['clean_title'].fillna('No',inplace = True)"
   ]
  },
  {
   "cell_type": "code",
   "execution_count": 26,
   "id": "916b206c",
   "metadata": {
    "execution": {
     "iopub.execute_input": "2024-10-09T09:56:04.339891Z",
     "iopub.status.busy": "2024-10-09T09:56:04.339311Z",
     "iopub.status.idle": "2024-10-09T09:56:04.345285Z",
     "shell.execute_reply": "2024-10-09T09:56:04.344478Z"
    },
    "papermill": {
     "duration": 0.052291,
     "end_time": "2024-10-09T09:56:04.347244",
     "exception": false,
     "start_time": "2024-10-09T09:56:04.294953",
     "status": "completed"
    },
    "tags": []
   },
   "outputs": [
    {
     "data": {
      "text/plain": [
       "Index(['id', 'brand', 'model', 'model_year', 'milage', 'fuel_type', 'engine',\n",
       "       'transmission', 'ext_col', 'int_col', 'accident', 'clean_title',\n",
       "       'price'],\n",
       "      dtype='object')"
      ]
     },
     "execution_count": 26,
     "metadata": {},
     "output_type": "execute_result"
    }
   ],
   "source": [
    "data.columns"
   ]
  },
  {
   "cell_type": "code",
   "execution_count": 27,
   "id": "f477bbd1",
   "metadata": {
    "execution": {
     "iopub.execute_input": "2024-10-09T09:56:04.430047Z",
     "iopub.status.busy": "2024-10-09T09:56:04.429771Z",
     "iopub.status.idle": "2024-10-09T09:56:04.608025Z",
     "shell.execute_reply": "2024-10-09T09:56:04.607140Z"
    },
    "papermill": {
     "duration": 0.222233,
     "end_time": "2024-10-09T09:56:04.609970",
     "exception": false,
     "start_time": "2024-10-09T09:56:04.387737",
     "status": "completed"
    },
    "tags": []
   },
   "outputs": [
    {
     "data": {
      "text/html": [
       "<div>\n",
       "<style scoped>\n",
       "    .dataframe tbody tr th:only-of-type {\n",
       "        vertical-align: middle;\n",
       "    }\n",
       "\n",
       "    .dataframe tbody tr th {\n",
       "        vertical-align: top;\n",
       "    }\n",
       "\n",
       "    .dataframe thead th {\n",
       "        text-align: right;\n",
       "    }\n",
       "</style>\n",
       "<table border=\"1\" class=\"dataframe\">\n",
       "  <thead>\n",
       "    <tr style=\"text-align: right;\">\n",
       "      <th></th>\n",
       "      <th>engine</th>\n",
       "      <th>fuel_type</th>\n",
       "    </tr>\n",
       "  </thead>\n",
       "  <tbody>\n",
       "    <tr>\n",
       "      <th>51</th>\n",
       "      <td>Dual Motor - Standard</td>\n",
       "      <td>NaN</td>\n",
       "    </tr>\n",
       "    <tr>\n",
       "      <th>3286</th>\n",
       "      <td>70.0HP 1.0L 3 Cylinder Engine Gasoline Fuel</td>\n",
       "      <td>NaN</td>\n",
       "    </tr>\n",
       "    <tr>\n",
       "      <th>6794</th>\n",
       "      <td>490.0HP 6.2L 8 Cylinder Engine Gasoline Fuel</td>\n",
       "      <td>NaN</td>\n",
       "    </tr>\n",
       "    <tr>\n",
       "      <th>7233</th>\n",
       "      <td>Dual Motor - Standard</td>\n",
       "      <td>NaN</td>\n",
       "    </tr>\n",
       "    <tr>\n",
       "      <th>7302</th>\n",
       "      <td>134.0HP 1.8L 4 Cylinder Engine Gas/Electric Hy...</td>\n",
       "      <td>NaN</td>\n",
       "    </tr>\n",
       "  </tbody>\n",
       "</table>\n",
       "</div>"
      ],
      "text/plain": [
       "                                                 engine fuel_type\n",
       "51                                Dual Motor - Standard       NaN\n",
       "3286        70.0HP 1.0L 3 Cylinder Engine Gasoline Fuel       NaN\n",
       "6794       490.0HP 6.2L 8 Cylinder Engine Gasoline Fuel       NaN\n",
       "7233                              Dual Motor - Standard       NaN\n",
       "7302  134.0HP 1.8L 4 Cylinder Engine Gas/Electric Hy...       NaN"
      ]
     },
     "execution_count": 27,
     "metadata": {},
     "output_type": "execute_result"
    }
   ],
   "source": [
    "data[(data.fuel_type.isnull()) & (data.engine.apply(lambda x : 'Electric' not in x.split()))][['engine','fuel_type']].head()"
   ]
  },
  {
   "cell_type": "code",
   "execution_count": 28,
   "id": "39b97392",
   "metadata": {
    "execution": {
     "iopub.execute_input": "2024-10-09T09:56:04.693067Z",
     "iopub.status.busy": "2024-10-09T09:56:04.692794Z",
     "iopub.status.idle": "2024-10-09T09:56:12.456203Z",
     "shell.execute_reply": "2024-10-09T09:56:12.455303Z"
    },
    "papermill": {
     "duration": 7.806985,
     "end_time": "2024-10-09T09:56:12.458430",
     "exception": false,
     "start_time": "2024-10-09T09:56:04.651445",
     "status": "completed"
    },
    "tags": []
   },
   "outputs": [],
   "source": [
    "data['fuel_type'] = data.apply(\n",
    "    lambda row: 'Electric' if pd.isnull(row['fuel_type']) and all(feature in row['engine'].split() for feature in ('Electric', 'AH', 'Battery', 'Standard', 'kW'))\n",
    "    else 'Plug-In Hybrid' if pd.isnull(row['fuel_type']) and all(feature in row['engine'].split() for feature in ('DOHC', 'Plug-In'))\n",
    "    else 'Hybrid' if pd.isnull(row['fuel_type']) and 'Hybrid' in row['engine'].split()\n",
    "    else 'E85 Flex Fuel' if pd.isnull(row['fuel_type']) and all(feature in row['engine'].split() for feature in ('Flex', 'Flexible'))\n",
    "    else 'Diesel' if pd.isnull(row['fuel_type']) and 'Diesel' in row['engine'].split()\n",
    "    else 'Gasoline' if pd.isnull(row['fuel_type'])  # Use Gasoline if fuel_type is null\n",
    "    else row['fuel_type'],  # Retain original value if not null\n",
    "    axis=1\n",
    ")"
   ]
  },
  {
   "cell_type": "code",
   "execution_count": null,
   "id": "c01ab837",
   "metadata": {
    "papermill": {
     "duration": 0.041351,
     "end_time": "2024-10-09T09:56:12.541890",
     "exception": false,
     "start_time": "2024-10-09T09:56:12.500539",
     "status": "completed"
    },
    "tags": []
   },
   "outputs": [],
   "source": []
  },
  {
   "cell_type": "code",
   "execution_count": 29,
   "id": "100cef61",
   "metadata": {
    "execution": {
     "iopub.execute_input": "2024-10-09T09:56:12.626027Z",
     "iopub.status.busy": "2024-10-09T09:56:12.625241Z",
     "iopub.status.idle": "2024-10-09T09:56:12.645553Z",
     "shell.execute_reply": "2024-10-09T09:56:12.644555Z"
    },
    "papermill": {
     "duration": 0.064922,
     "end_time": "2024-10-09T09:56:12.647614",
     "exception": false,
     "start_time": "2024-10-09T09:56:12.582692",
     "status": "completed"
    },
    "tags": []
   },
   "outputs": [
    {
     "data": {
      "text/plain": [
       "array(['Gasoline', 'E85 Flex Fuel', 'Hybrid', 'Diesel', 'Plug-In Hybrid',\n",
       "       '–', 'not supported'], dtype=object)"
      ]
     },
     "execution_count": 29,
     "metadata": {},
     "output_type": "execute_result"
    }
   ],
   "source": [
    "data.fuel_type.unique()"
   ]
  },
  {
   "cell_type": "code",
   "execution_count": 30,
   "id": "c3f3e62c",
   "metadata": {
    "execution": {
     "iopub.execute_input": "2024-10-09T09:56:12.732201Z",
     "iopub.status.busy": "2024-10-09T09:56:12.731604Z",
     "iopub.status.idle": "2024-10-09T09:56:12.798643Z",
     "shell.execute_reply": "2024-10-09T09:56:12.797784Z"
    },
    "papermill": {
     "duration": 0.110846,
     "end_time": "2024-10-09T09:56:12.800630",
     "exception": false,
     "start_time": "2024-10-09T09:56:12.689784",
     "status": "completed"
    },
    "tags": []
   },
   "outputs": [
    {
     "data": {
      "text/plain": [
       "engine       772\n",
       "fuel_type    772\n",
       "dtype: int64"
      ]
     },
     "execution_count": 30,
     "metadata": {},
     "output_type": "execute_result"
    }
   ],
   "source": [
    "data[(data.fuel_type == '–') & (data.engine == '–') ][['engine','fuel_type']].count()"
   ]
  },
  {
   "cell_type": "code",
   "execution_count": 31,
   "id": "c7a02563",
   "metadata": {
    "execution": {
     "iopub.execute_input": "2024-10-09T09:56:12.885712Z",
     "iopub.status.busy": "2024-10-09T09:56:12.885192Z",
     "iopub.status.idle": "2024-10-09T09:56:12.951773Z",
     "shell.execute_reply": "2024-10-09T09:56:12.950946Z"
    },
    "papermill": {
     "duration": 0.110542,
     "end_time": "2024-10-09T09:56:12.953642",
     "exception": false,
     "start_time": "2024-10-09T09:56:12.843100",
     "status": "completed"
    },
    "tags": []
   },
   "outputs": [],
   "source": [
    "# Replace '–' with 'Unknown' for both fuel_type and engine where both are '-'\n",
    "data.loc[(data['fuel_type'] == '–') & (data['engine'] == '–'), ['fuel_type', 'engine']] = 'Unknown'"
   ]
  },
  {
   "cell_type": "code",
   "execution_count": 32,
   "id": "d6904495",
   "metadata": {
    "execution": {
     "iopub.execute_input": "2024-10-09T09:56:13.038607Z",
     "iopub.status.busy": "2024-10-09T09:56:13.038076Z",
     "iopub.status.idle": "2024-10-09T09:56:13.076892Z",
     "shell.execute_reply": "2024-10-09T09:56:13.075918Z"
    },
    "papermill": {
     "duration": 0.084004,
     "end_time": "2024-10-09T09:56:13.078809",
     "exception": false,
     "start_time": "2024-10-09T09:56:12.994805",
     "status": "completed"
    },
    "tags": []
   },
   "outputs": [
    {
     "data": {
      "text/html": [
       "<div>\n",
       "<style scoped>\n",
       "    .dataframe tbody tr th:only-of-type {\n",
       "        vertical-align: middle;\n",
       "    }\n",
       "\n",
       "    .dataframe tbody tr th {\n",
       "        vertical-align: top;\n",
       "    }\n",
       "\n",
       "    .dataframe thead th {\n",
       "        text-align: right;\n",
       "    }\n",
       "</style>\n",
       "<table border=\"1\" class=\"dataframe\">\n",
       "  <thead>\n",
       "    <tr style=\"text-align: right;\">\n",
       "      <th></th>\n",
       "      <th>engine</th>\n",
       "      <th>fuel_type</th>\n",
       "    </tr>\n",
       "  </thead>\n",
       "  <tbody>\n",
       "    <tr>\n",
       "      <th>2138</th>\n",
       "      <td>140.0HP 1.8L 4 Cylinder Engine Gasoline Fuel</td>\n",
       "      <td>–</td>\n",
       "    </tr>\n",
       "    <tr>\n",
       "      <th>2741</th>\n",
       "      <td>582.0HP 6.0L 12 Cylinder Engine Gasoline Fuel</td>\n",
       "      <td>–</td>\n",
       "    </tr>\n",
       "    <tr>\n",
       "      <th>8607</th>\n",
       "      <td>310.0HP 6.8L 10 Cylinder Engine Gasoline Fuel</td>\n",
       "      <td>–</td>\n",
       "    </tr>\n",
       "    <tr>\n",
       "      <th>15550</th>\n",
       "      <td>395.0HP 5.7L 8 Cylinder Engine Gasoline/Mild E...</td>\n",
       "      <td>–</td>\n",
       "    </tr>\n",
       "    <tr>\n",
       "      <th>23676</th>\n",
       "      <td>188.0HP 1.6L 4 Cylinder Engine Gasoline Fuel</td>\n",
       "      <td>–</td>\n",
       "    </tr>\n",
       "    <tr>\n",
       "      <th>105015</th>\n",
       "      <td>3.5 Liter</td>\n",
       "      <td>–</td>\n",
       "    </tr>\n",
       "    <tr>\n",
       "      <th>112813</th>\n",
       "      <td>3.6L V6 24V MPFI DOHC</td>\n",
       "      <td>–</td>\n",
       "    </tr>\n",
       "    <tr>\n",
       "      <th>128224</th>\n",
       "      <td>333.0HP 3.2L Straight 6 Cylinder Engine Gasoli...</td>\n",
       "      <td>–</td>\n",
       "    </tr>\n",
       "    <tr>\n",
       "      <th>187495</th>\n",
       "      <td>284.0HP 3.5L V6 Cylinder Engine Gasoline Fuel</td>\n",
       "      <td>–</td>\n",
       "    </tr>\n",
       "  </tbody>\n",
       "</table>\n",
       "</div>"
      ],
      "text/plain": [
       "                                                   engine fuel_type\n",
       "2138         140.0HP 1.8L 4 Cylinder Engine Gasoline Fuel         –\n",
       "2741        582.0HP 6.0L 12 Cylinder Engine Gasoline Fuel         –\n",
       "8607        310.0HP 6.8L 10 Cylinder Engine Gasoline Fuel         –\n",
       "15550   395.0HP 5.7L 8 Cylinder Engine Gasoline/Mild E...         –\n",
       "23676        188.0HP 1.6L 4 Cylinder Engine Gasoline Fuel         –\n",
       "105015                                          3.5 Liter         –\n",
       "112813                              3.6L V6 24V MPFI DOHC         –\n",
       "128224  333.0HP 3.2L Straight 6 Cylinder Engine Gasoli...         –\n",
       "187495      284.0HP 3.5L V6 Cylinder Engine Gasoline Fuel         –"
      ]
     },
     "execution_count": 32,
     "metadata": {},
     "output_type": "execute_result"
    }
   ],
   "source": [
    "data[(data.fuel_type == '–') ][['engine','fuel_type']]"
   ]
  },
  {
   "cell_type": "code",
   "execution_count": 33,
   "id": "6c3c9ca6",
   "metadata": {
    "execution": {
     "iopub.execute_input": "2024-10-09T09:56:13.165754Z",
     "iopub.status.busy": "2024-10-09T09:56:13.165467Z",
     "iopub.status.idle": "2024-10-09T09:56:13.194667Z",
     "shell.execute_reply": "2024-10-09T09:56:13.193826Z"
    },
    "papermill": {
     "duration": 0.073722,
     "end_time": "2024-10-09T09:56:13.196797",
     "exception": false,
     "start_time": "2024-10-09T09:56:13.123075",
     "status": "completed"
    },
    "tags": []
   },
   "outputs": [
    {
     "name": "stderr",
     "output_type": "stream",
     "text": [
      "/tmp/ipykernel_24/290055138.py:1: FutureWarning: A value is trying to be set on a copy of a DataFrame or Series through chained assignment using an inplace method.\n",
      "The behavior will change in pandas 3.0. This inplace method will never work because the intermediate object on which we are setting values always behaves as a copy.\n",
      "\n",
      "For example, when doing 'df[col].method(value, inplace=True)', try using 'df.method({col: value}, inplace=True)' or df[col] = df[col].method(value) instead, to perform the operation inplace on the original object.\n",
      "\n",
      "\n",
      "  data['fuel_type'].replace('–', 'Gasoline', inplace=True) # manually check if all engine are Gasoline or not\n"
     ]
    }
   ],
   "source": [
    "data['fuel_type'].replace('–', 'Gasoline', inplace=True) # manually check if all engine are Gasoline or not "
   ]
  },
  {
   "cell_type": "code",
   "execution_count": 34,
   "id": "10435522",
   "metadata": {
    "execution": {
     "iopub.execute_input": "2024-10-09T09:56:13.280812Z",
     "iopub.status.busy": "2024-10-09T09:56:13.280514Z",
     "iopub.status.idle": "2024-10-09T09:56:13.321887Z",
     "shell.execute_reply": "2024-10-09T09:56:13.320948Z"
    },
    "papermill": {
     "duration": 0.085066,
     "end_time": "2024-10-09T09:56:13.323737",
     "exception": false,
     "start_time": "2024-10-09T09:56:13.238671",
     "status": "completed"
    },
    "tags": []
   },
   "outputs": [
    {
     "data": {
      "text/html": [
       "<div>\n",
       "<style scoped>\n",
       "    .dataframe tbody tr th:only-of-type {\n",
       "        vertical-align: middle;\n",
       "    }\n",
       "\n",
       "    .dataframe tbody tr th {\n",
       "        vertical-align: top;\n",
       "    }\n",
       "\n",
       "    .dataframe thead th {\n",
       "        text-align: right;\n",
       "    }\n",
       "</style>\n",
       "<table border=\"1\" class=\"dataframe\">\n",
       "  <thead>\n",
       "    <tr style=\"text-align: right;\">\n",
       "      <th></th>\n",
       "      <th>engine</th>\n",
       "      <th>fuel_type</th>\n",
       "    </tr>\n",
       "  </thead>\n",
       "  <tbody>\n",
       "    <tr>\n",
       "      <th>4823</th>\n",
       "      <td>320.0HP 5.3L 8 Cylinder Engine Flex Fuel Capab...</td>\n",
       "      <td>not supported</td>\n",
       "    </tr>\n",
       "    <tr>\n",
       "      <th>18000</th>\n",
       "      <td>240.0HP 2.0L 4 Cylinder Engine Gasoline Fuel</td>\n",
       "      <td>not supported</td>\n",
       "    </tr>\n",
       "    <tr>\n",
       "      <th>19182</th>\n",
       "      <td>182.0HP Electric Motor Hydrogen Fuel</td>\n",
       "      <td>not supported</td>\n",
       "    </tr>\n",
       "    <tr>\n",
       "      <th>27199</th>\n",
       "      <td>175.0HP 2.5L 4 Cylinder Engine Gasoline Fuel</td>\n",
       "      <td>not supported</td>\n",
       "    </tr>\n",
       "    <tr>\n",
       "      <th>33030</th>\n",
       "      <td>182.0HP Electric Motor Hydrogen Fuel</td>\n",
       "      <td>not supported</td>\n",
       "    </tr>\n",
       "    <tr>\n",
       "      <th>60717</th>\n",
       "      <td>355.0HP 5.3L 8 Cylinder Engine Gasoline Fuel</td>\n",
       "      <td>not supported</td>\n",
       "    </tr>\n",
       "    <tr>\n",
       "      <th>74096</th>\n",
       "      <td>182.0HP Electric Motor Hydrogen Fuel</td>\n",
       "      <td>not supported</td>\n",
       "    </tr>\n",
       "    <tr>\n",
       "      <th>86897</th>\n",
       "      <td>311.0HP 3.5L V6 Cylinder Engine Gasoline Fuel</td>\n",
       "      <td>not supported</td>\n",
       "    </tr>\n",
       "    <tr>\n",
       "      <th>94425</th>\n",
       "      <td>550.0HP 4.8L 8 Cylinder Engine Gasoline Fuel</td>\n",
       "      <td>not supported</td>\n",
       "    </tr>\n",
       "    <tr>\n",
       "      <th>127066</th>\n",
       "      <td>151.0HP Electric Motor Hydrogen Fuel</td>\n",
       "      <td>not supported</td>\n",
       "    </tr>\n",
       "    <tr>\n",
       "      <th>128917</th>\n",
       "      <td>140.0HP 1.8L 4 Cylinder Engine Gasoline Fuel</td>\n",
       "      <td>not supported</td>\n",
       "    </tr>\n",
       "    <tr>\n",
       "      <th>135865</th>\n",
       "      <td>182.0HP Electric Motor Hydrogen Fuel</td>\n",
       "      <td>not supported</td>\n",
       "    </tr>\n",
       "    <tr>\n",
       "      <th>140206</th>\n",
       "      <td>230.0HP 3.3L V6 Cylinder Engine Gasoline Fuel</td>\n",
       "      <td>not supported</td>\n",
       "    </tr>\n",
       "    <tr>\n",
       "      <th>171120</th>\n",
       "      <td>316.0HP 6.0L 8 Cylinder Engine Gasoline Fuel</td>\n",
       "      <td>not supported</td>\n",
       "    </tr>\n",
       "    <tr>\n",
       "      <th>171659</th>\n",
       "      <td>182.0HP Electric Motor Hydrogen Fuel</td>\n",
       "      <td>not supported</td>\n",
       "    </tr>\n",
       "  </tbody>\n",
       "</table>\n",
       "</div>"
      ],
      "text/plain": [
       "                                                   engine      fuel_type\n",
       "4823    320.0HP 5.3L 8 Cylinder Engine Flex Fuel Capab...  not supported\n",
       "18000        240.0HP 2.0L 4 Cylinder Engine Gasoline Fuel  not supported\n",
       "19182                182.0HP Electric Motor Hydrogen Fuel  not supported\n",
       "27199        175.0HP 2.5L 4 Cylinder Engine Gasoline Fuel  not supported\n",
       "33030                182.0HP Electric Motor Hydrogen Fuel  not supported\n",
       "60717        355.0HP 5.3L 8 Cylinder Engine Gasoline Fuel  not supported\n",
       "74096                182.0HP Electric Motor Hydrogen Fuel  not supported\n",
       "86897       311.0HP 3.5L V6 Cylinder Engine Gasoline Fuel  not supported\n",
       "94425        550.0HP 4.8L 8 Cylinder Engine Gasoline Fuel  not supported\n",
       "127066               151.0HP Electric Motor Hydrogen Fuel  not supported\n",
       "128917       140.0HP 1.8L 4 Cylinder Engine Gasoline Fuel  not supported\n",
       "135865               182.0HP Electric Motor Hydrogen Fuel  not supported\n",
       "140206      230.0HP 3.3L V6 Cylinder Engine Gasoline Fuel  not supported\n",
       "171120       316.0HP 6.0L 8 Cylinder Engine Gasoline Fuel  not supported\n",
       "171659               182.0HP Electric Motor Hydrogen Fuel  not supported"
      ]
     },
     "execution_count": 34,
     "metadata": {},
     "output_type": "execute_result"
    }
   ],
   "source": [
    "data[data.fuel_type == 'not supported'][['engine','fuel_type']]"
   ]
  },
  {
   "cell_type": "code",
   "execution_count": 35,
   "id": "02f9b9a9",
   "metadata": {
    "execution": {
     "iopub.execute_input": "2024-10-09T09:56:13.408569Z",
     "iopub.status.busy": "2024-10-09T09:56:13.408083Z",
     "iopub.status.idle": "2024-10-09T09:56:15.979280Z",
     "shell.execute_reply": "2024-10-09T09:56:15.978520Z"
    },
    "papermill": {
     "duration": 2.616129,
     "end_time": "2024-10-09T09:56:15.981492",
     "exception": false,
     "start_time": "2024-10-09T09:56:13.365363",
     "status": "completed"
    },
    "tags": []
   },
   "outputs": [],
   "source": [
    "data['fuel_type'] = data.apply(\n",
    "                                lambda row : 'Gasoline' if any(keyword in row['engine'] for keyword in ['Gasoline', 'L', 'Liter']) else 'Electric'\n",
    "                                if row['fuel_type']=='not supported' else row['fuel_type'],\n",
    "                                axis = 1 )\n"
   ]
  },
  {
   "cell_type": "code",
   "execution_count": 36,
   "id": "0ad62176",
   "metadata": {
    "execution": {
     "iopub.execute_input": "2024-10-09T09:56:16.068116Z",
     "iopub.status.busy": "2024-10-09T09:56:16.067184Z",
     "iopub.status.idle": "2024-10-09T09:56:16.106460Z",
     "shell.execute_reply": "2024-10-09T09:56:16.105555Z"
    },
    "papermill": {
     "duration": 0.085117,
     "end_time": "2024-10-09T09:56:16.108756",
     "exception": false,
     "start_time": "2024-10-09T09:56:16.023639",
     "status": "completed"
    },
    "tags": []
   },
   "outputs": [
    {
     "data": {
      "text/html": [
       "<div>\n",
       "<style scoped>\n",
       "    .dataframe tbody tr th:only-of-type {\n",
       "        vertical-align: middle;\n",
       "    }\n",
       "\n",
       "    .dataframe tbody tr th {\n",
       "        vertical-align: top;\n",
       "    }\n",
       "\n",
       "    .dataframe thead th {\n",
       "        text-align: right;\n",
       "    }\n",
       "</style>\n",
       "<table border=\"1\" class=\"dataframe\">\n",
       "  <thead>\n",
       "    <tr style=\"text-align: right;\">\n",
       "      <th></th>\n",
       "      <th>engine</th>\n",
       "      <th>fuel_type</th>\n",
       "    </tr>\n",
       "  </thead>\n",
       "  <tbody>\n",
       "  </tbody>\n",
       "</table>\n",
       "</div>"
      ],
      "text/plain": [
       "Empty DataFrame\n",
       "Columns: [engine, fuel_type]\n",
       "Index: []"
      ]
     },
     "execution_count": 36,
     "metadata": {},
     "output_type": "execute_result"
    }
   ],
   "source": [
    "data[data.fuel_type == 'not supported'][['engine','fuel_type']]"
   ]
  },
  {
   "cell_type": "code",
   "execution_count": 37,
   "id": "61bb3c54",
   "metadata": {
    "execution": {
     "iopub.execute_input": "2024-10-09T09:56:16.196868Z",
     "iopub.status.busy": "2024-10-09T09:56:16.196271Z",
     "iopub.status.idle": "2024-10-09T09:56:16.235538Z",
     "shell.execute_reply": "2024-10-09T09:56:16.234706Z"
    },
    "papermill": {
     "duration": 0.083417,
     "end_time": "2024-10-09T09:56:16.237437",
     "exception": false,
     "start_time": "2024-10-09T09:56:16.154020",
     "status": "completed"
    },
    "tags": []
   },
   "outputs": [
    {
     "data": {
      "text/html": [
       "<div>\n",
       "<style scoped>\n",
       "    .dataframe tbody tr th:only-of-type {\n",
       "        vertical-align: middle;\n",
       "    }\n",
       "\n",
       "    .dataframe tbody tr th {\n",
       "        vertical-align: top;\n",
       "    }\n",
       "\n",
       "    .dataframe thead th {\n",
       "        text-align: right;\n",
       "    }\n",
       "</style>\n",
       "<table border=\"1\" class=\"dataframe\">\n",
       "  <thead>\n",
       "    <tr style=\"text-align: right;\">\n",
       "      <th></th>\n",
       "      <th>id</th>\n",
       "      <th>brand</th>\n",
       "      <th>model</th>\n",
       "      <th>model_year</th>\n",
       "      <th>milage</th>\n",
       "      <th>fuel_type</th>\n",
       "      <th>engine</th>\n",
       "      <th>transmission</th>\n",
       "      <th>ext_col</th>\n",
       "      <th>int_col</th>\n",
       "      <th>accident</th>\n",
       "      <th>clean_title</th>\n",
       "      <th>price</th>\n",
       "    </tr>\n",
       "  </thead>\n",
       "  <tbody>\n",
       "  </tbody>\n",
       "</table>\n",
       "</div>"
      ],
      "text/plain": [
       "Empty DataFrame\n",
       "Columns: [id, brand, model, model_year, milage, fuel_type, engine, transmission, ext_col, int_col, accident, clean_title, price]\n",
       "Index: []"
      ]
     },
     "execution_count": 37,
     "metadata": {},
     "output_type": "execute_result"
    }
   ],
   "source": [
    "data[data.engine == 'not supported']"
   ]
  },
  {
   "cell_type": "code",
   "execution_count": 38,
   "id": "ae2f3a30",
   "metadata": {
    "execution": {
     "iopub.execute_input": "2024-10-09T09:56:16.322389Z",
     "iopub.status.busy": "2024-10-09T09:56:16.321896Z",
     "iopub.status.idle": "2024-10-09T09:56:16.485327Z",
     "shell.execute_reply": "2024-10-09T09:56:16.484282Z"
    },
    "papermill": {
     "duration": 0.208037,
     "end_time": "2024-10-09T09:56:16.487386",
     "exception": false,
     "start_time": "2024-10-09T09:56:16.279349",
     "status": "completed"
    },
    "tags": []
   },
   "outputs": [
    {
     "data": {
      "text/plain": [
       "id              0\n",
       "brand           0\n",
       "model           0\n",
       "model_year      0\n",
       "milage          0\n",
       "fuel_type       0\n",
       "engine          0\n",
       "transmission    0\n",
       "ext_col         0\n",
       "int_col         0\n",
       "accident        0\n",
       "clean_title     0\n",
       "price           0\n",
       "dtype: int64"
      ]
     },
     "execution_count": 38,
     "metadata": {},
     "output_type": "execute_result"
    }
   ],
   "source": [
    "data.isna().sum()"
   ]
  },
  {
   "cell_type": "code",
   "execution_count": 39,
   "id": "4b2ddd44",
   "metadata": {
    "execution": {
     "iopub.execute_input": "2024-10-09T09:56:16.581059Z",
     "iopub.status.busy": "2024-10-09T09:56:16.580495Z",
     "iopub.status.idle": "2024-10-09T09:56:16.691552Z",
     "shell.execute_reply": "2024-10-09T09:56:16.690607Z"
    },
    "papermill": {
     "duration": 0.162951,
     "end_time": "2024-10-09T09:56:16.693478",
     "exception": false,
     "start_time": "2024-10-09T09:56:16.530527",
     "status": "completed"
    },
    "tags": []
   },
   "outputs": [
    {
     "data": {
      "text/plain": [
       "id                  0\n",
       "brand               0\n",
       "model               0\n",
       "model_year          0\n",
       "milage              0\n",
       "fuel_type        3383\n",
       "engine              0\n",
       "transmission        0\n",
       "ext_col             0\n",
       "int_col             0\n",
       "accident         1632\n",
       "clean_title     14239\n",
       "dtype: int64"
      ]
     },
     "execution_count": 39,
     "metadata": {},
     "output_type": "execute_result"
    }
   ],
   "source": [
    "test.isna().sum()"
   ]
  },
  {
   "cell_type": "code",
   "execution_count": 40,
   "id": "36f64978",
   "metadata": {
    "execution": {
     "iopub.execute_input": "2024-10-09T09:56:16.780472Z",
     "iopub.status.busy": "2024-10-09T09:56:16.780154Z",
     "iopub.status.idle": "2024-10-09T09:56:16.798592Z",
     "shell.execute_reply": "2024-10-09T09:56:16.797691Z"
    },
    "papermill": {
     "duration": 0.064178,
     "end_time": "2024-10-09T09:56:16.800890",
     "exception": false,
     "start_time": "2024-10-09T09:56:16.736712",
     "status": "completed"
    },
    "tags": []
   },
   "outputs": [
    {
     "name": "stderr",
     "output_type": "stream",
     "text": [
      "/tmp/ipykernel_24/780368835.py:1: FutureWarning: A value is trying to be set on a copy of a DataFrame or Series through chained assignment using an inplace method.\n",
      "The behavior will change in pandas 3.0. This inplace method will never work because the intermediate object on which we are setting values always behaves as a copy.\n",
      "\n",
      "For example, when doing 'df[col].method(value, inplace=True)', try using 'df.method({col: value}, inplace=True)' or df[col] = df[col].method(value) instead, to perform the operation inplace on the original object.\n",
      "\n",
      "\n",
      "  test['accident'].fillna('None reported',inplace = True)\n"
     ]
    }
   ],
   "source": [
    "test['accident'].fillna('None reported',inplace = True)"
   ]
  },
  {
   "cell_type": "code",
   "execution_count": 41,
   "id": "419a0f90",
   "metadata": {
    "execution": {
     "iopub.execute_input": "2024-10-09T09:56:16.890393Z",
     "iopub.status.busy": "2024-10-09T09:56:16.889668Z",
     "iopub.status.idle": "2024-10-09T09:56:16.893871Z",
     "shell.execute_reply": "2024-10-09T09:56:16.893041Z"
    },
    "papermill": {
     "duration": 0.049398,
     "end_time": "2024-10-09T09:56:16.895798",
     "exception": false,
     "start_time": "2024-10-09T09:56:16.846400",
     "status": "completed"
    },
    "tags": []
   },
   "outputs": [],
   "source": [
    "#test[test['fuel_type'].isna()].head(500)"
   ]
  },
  {
   "cell_type": "code",
   "execution_count": 42,
   "id": "a6da5d6f",
   "metadata": {
    "execution": {
     "iopub.execute_input": "2024-10-09T09:56:16.992842Z",
     "iopub.status.busy": "2024-10-09T09:56:16.992298Z",
     "iopub.status.idle": "2024-10-09T09:56:17.010244Z",
     "shell.execute_reply": "2024-10-09T09:56:17.008023Z"
    },
    "papermill": {
     "duration": 0.074622,
     "end_time": "2024-10-09T09:56:17.012885",
     "exception": false,
     "start_time": "2024-10-09T09:56:16.938263",
     "status": "completed"
    },
    "tags": []
   },
   "outputs": [
    {
     "data": {
      "text/plain": [
       "array(['Gasoline', 'Hybrid', 'Diesel', 'E85 Flex Fuel', nan,\n",
       "       'Plug-In Hybrid', '–', 'not supported'], dtype=object)"
      ]
     },
     "execution_count": 42,
     "metadata": {},
     "output_type": "execute_result"
    }
   ],
   "source": [
    "test.fuel_type.unique()"
   ]
  },
  {
   "cell_type": "code",
   "execution_count": 43,
   "id": "df6135b3",
   "metadata": {
    "execution": {
     "iopub.execute_input": "2024-10-09T09:56:17.111019Z",
     "iopub.status.busy": "2024-10-09T09:56:17.110674Z",
     "iopub.status.idle": "2024-10-09T09:56:17.165461Z",
     "shell.execute_reply": "2024-10-09T09:56:17.164400Z"
    },
    "papermill": {
     "duration": 0.102297,
     "end_time": "2024-10-09T09:56:17.168034",
     "exception": false,
     "start_time": "2024-10-09T09:56:17.065737",
     "status": "completed"
    },
    "tags": []
   },
   "outputs": [
    {
     "data": {
      "text/plain": [
       "0      240.0HP 2.0L 4 Cylinder Engine Gasoline Fuel\n",
       "2                   3.5L V6 24V PDI DOHC Twin Turbo\n",
       "3                                    2.0 Liter TFSI\n",
       "4      252.0HP 2.0L 4 Cylinder Engine Gasoline Fuel\n",
       "5      285.0HP 4.8L 8 Cylinder Engine Gasoline Fuel\n",
       "6     270.0HP 3.5L V6 Cylinder Engine Gasoline Fuel\n",
       "7                              3.8L V6 24V GDI DOHC\n",
       "8      536.0HP 5.5L 8 Cylinder Engine Gasoline Fuel\n",
       "9     365.0HP 3.3L V6 Cylinder Engine Gasoline Fuel\n",
       "10    303.0HP 3.7L V6 Cylinder Engine Gasoline Fuel\n",
       "Name: engine, dtype: object"
      ]
     },
     "execution_count": 43,
     "metadata": {},
     "output_type": "execute_result"
    }
   ],
   "source": [
    "test[test.fuel_type == 'Gasoline']['engine'].head(10)"
   ]
  },
  {
   "cell_type": "code",
   "execution_count": 44,
   "id": "15c29ea6",
   "metadata": {
    "execution": {
     "iopub.execute_input": "2024-10-09T09:56:17.264533Z",
     "iopub.status.busy": "2024-10-09T09:56:17.264162Z",
     "iopub.status.idle": "2024-10-09T09:56:17.268331Z",
     "shell.execute_reply": "2024-10-09T09:56:17.267482Z"
    },
    "papermill": {
     "duration": 0.052526,
     "end_time": "2024-10-09T09:56:17.271385",
     "exception": false,
     "start_time": "2024-10-09T09:56:17.218859",
     "status": "completed"
    },
    "tags": []
   },
   "outputs": [],
   "source": [
    "#test[(test.fuel_type.isnull()) & (test['engine'].apply(lambda x : all( features not in x.split() for features in ('Electric','AH','Batery','Standard','kW'))))][['engine','fuel_type']]"
   ]
  },
  {
   "cell_type": "code",
   "execution_count": 45,
   "id": "eeec3856",
   "metadata": {
    "execution": {
     "iopub.execute_input": "2024-10-09T09:56:17.373526Z",
     "iopub.status.busy": "2024-10-09T09:56:17.373151Z",
     "iopub.status.idle": "2024-10-09T09:56:22.575872Z",
     "shell.execute_reply": "2024-10-09T09:56:22.574849Z"
    },
    "papermill": {
     "duration": 5.251948,
     "end_time": "2024-10-09T09:56:22.578259",
     "exception": false,
     "start_time": "2024-10-09T09:56:17.326311",
     "status": "completed"
    },
    "tags": []
   },
   "outputs": [],
   "source": [
    "test['fuel_type'] = test.apply(\n",
    "    lambda row: 'Electric' if pd.isnull(row['fuel_type']) and all(feature in row['engine'].split() for feature in ('Electric', 'AH', 'Battery', 'Standard', 'kW'))\n",
    "    else 'Plug-In Hybrid' if pd.isnull(row['fuel_type']) and all(feature in row['engine'].split() for feature in ('DOHC', 'Plug-In'))\n",
    "    else 'Hybrid' if pd.isnull(row['fuel_type']) and 'Hybrid' in row['engine'].split()\n",
    "    else 'E85 Flex Fuel' if pd.isnull(row['fuel_type']) and all(feature in row['engine'].split() for feature in ('Flex', 'Flexible'))\n",
    "    else 'Diesel' if pd.isnull(row['fuel_type']) and 'Diesel' in row['engine'].split()\n",
    "    else 'Gasoline' if pd.isnull(row['fuel_type'])  # Use Gasoline if fuel_type is null\n",
    "    else row['fuel_type'],  # Retain original value if not null\n",
    "    axis=1\n",
    ")"
   ]
  },
  {
   "cell_type": "code",
   "execution_count": 46,
   "id": "c5032d09",
   "metadata": {
    "execution": {
     "iopub.execute_input": "2024-10-09T09:56:22.667021Z",
     "iopub.status.busy": "2024-10-09T09:56:22.666658Z",
     "iopub.status.idle": "2024-10-09T09:56:22.688008Z",
     "shell.execute_reply": "2024-10-09T09:56:22.687001Z"
    },
    "papermill": {
     "duration": 0.068743,
     "end_time": "2024-10-09T09:56:22.690299",
     "exception": false,
     "start_time": "2024-10-09T09:56:22.621556",
     "status": "completed"
    },
    "tags": []
   },
   "outputs": [
    {
     "data": {
      "text/html": [
       "<div>\n",
       "<style scoped>\n",
       "    .dataframe tbody tr th:only-of-type {\n",
       "        vertical-align: middle;\n",
       "    }\n",
       "\n",
       "    .dataframe tbody tr th {\n",
       "        vertical-align: top;\n",
       "    }\n",
       "\n",
       "    .dataframe thead th {\n",
       "        text-align: right;\n",
       "    }\n",
       "</style>\n",
       "<table border=\"1\" class=\"dataframe\">\n",
       "  <thead>\n",
       "    <tr style=\"text-align: right;\">\n",
       "      <th></th>\n",
       "      <th>engine</th>\n",
       "      <th>fuel_type</th>\n",
       "    </tr>\n",
       "  </thead>\n",
       "  <tbody>\n",
       "  </tbody>\n",
       "</table>\n",
       "</div>"
      ],
      "text/plain": [
       "Empty DataFrame\n",
       "Columns: [engine, fuel_type]\n",
       "Index: []"
      ]
     },
     "execution_count": 46,
     "metadata": {},
     "output_type": "execute_result"
    }
   ],
   "source": [
    "test[(test.fuel_type.isnull())][['engine','fuel_type']]"
   ]
  },
  {
   "cell_type": "code",
   "execution_count": 47,
   "id": "2540e30d",
   "metadata": {
    "execution": {
     "iopub.execute_input": "2024-10-09T09:56:22.784432Z",
     "iopub.status.busy": "2024-10-09T09:56:22.783755Z",
     "iopub.status.idle": "2024-10-09T09:56:22.814552Z",
     "shell.execute_reply": "2024-10-09T09:56:22.813649Z"
    },
    "papermill": {
     "duration": 0.078173,
     "end_time": "2024-10-09T09:56:22.816437",
     "exception": false,
     "start_time": "2024-10-09T09:56:22.738264",
     "status": "completed"
    },
    "tags": []
   },
   "outputs": [
    {
     "data": {
      "text/html": [
       "<div>\n",
       "<style scoped>\n",
       "    .dataframe tbody tr th:only-of-type {\n",
       "        vertical-align: middle;\n",
       "    }\n",
       "\n",
       "    .dataframe tbody tr th {\n",
       "        vertical-align: top;\n",
       "    }\n",
       "\n",
       "    .dataframe thead th {\n",
       "        text-align: right;\n",
       "    }\n",
       "</style>\n",
       "<table border=\"1\" class=\"dataframe\">\n",
       "  <thead>\n",
       "    <tr style=\"text-align: right;\">\n",
       "      <th></th>\n",
       "      <th>engine</th>\n",
       "      <th>fuel_type</th>\n",
       "    </tr>\n",
       "  </thead>\n",
       "  <tbody>\n",
       "    <tr>\n",
       "      <th>704</th>\n",
       "      <td>–</td>\n",
       "      <td>–</td>\n",
       "    </tr>\n",
       "    <tr>\n",
       "      <th>892</th>\n",
       "      <td>–</td>\n",
       "      <td>–</td>\n",
       "    </tr>\n",
       "    <tr>\n",
       "      <th>991</th>\n",
       "      <td>–</td>\n",
       "      <td>–</td>\n",
       "    </tr>\n",
       "    <tr>\n",
       "      <th>1008</th>\n",
       "      <td>–</td>\n",
       "      <td>–</td>\n",
       "    </tr>\n",
       "    <tr>\n",
       "      <th>1011</th>\n",
       "      <td>–</td>\n",
       "      <td>–</td>\n",
       "    </tr>\n",
       "    <tr>\n",
       "      <th>...</th>\n",
       "      <td>...</td>\n",
       "      <td>...</td>\n",
       "    </tr>\n",
       "    <tr>\n",
       "      <th>124669</th>\n",
       "      <td>–</td>\n",
       "      <td>–</td>\n",
       "    </tr>\n",
       "    <tr>\n",
       "      <th>124785</th>\n",
       "      <td>–</td>\n",
       "      <td>–</td>\n",
       "    </tr>\n",
       "    <tr>\n",
       "      <th>124879</th>\n",
       "      <td>–</td>\n",
       "      <td>–</td>\n",
       "    </tr>\n",
       "    <tr>\n",
       "      <th>125101</th>\n",
       "      <td>–</td>\n",
       "      <td>–</td>\n",
       "    </tr>\n",
       "    <tr>\n",
       "      <th>125344</th>\n",
       "      <td>–</td>\n",
       "      <td>–</td>\n",
       "    </tr>\n",
       "  </tbody>\n",
       "</table>\n",
       "<p>538 rows × 2 columns</p>\n",
       "</div>"
      ],
      "text/plain": [
       "       engine fuel_type\n",
       "704         –         –\n",
       "892         –         –\n",
       "991         –         –\n",
       "1008        –         –\n",
       "1011        –         –\n",
       "...       ...       ...\n",
       "124669      –         –\n",
       "124785      –         –\n",
       "124879      –         –\n",
       "125101      –         –\n",
       "125344      –         –\n",
       "\n",
       "[538 rows x 2 columns]"
      ]
     },
     "execution_count": 47,
     "metadata": {},
     "output_type": "execute_result"
    }
   ],
   "source": [
    "test[test.fuel_type == '–'][['engine','fuel_type']]"
   ]
  },
  {
   "cell_type": "code",
   "execution_count": 48,
   "id": "9531056a",
   "metadata": {
    "execution": {
     "iopub.execute_input": "2024-10-09T09:56:22.904098Z",
     "iopub.status.busy": "2024-10-09T09:56:22.903800Z",
     "iopub.status.idle": "2024-10-09T09:56:22.948723Z",
     "shell.execute_reply": "2024-10-09T09:56:22.947979Z"
    },
    "papermill": {
     "duration": 0.090504,
     "end_time": "2024-10-09T09:56:22.950616",
     "exception": false,
     "start_time": "2024-10-09T09:56:22.860112",
     "status": "completed"
    },
    "tags": []
   },
   "outputs": [],
   "source": [
    "# Replace '–' with 'Unknown' for both fuel_type and engine where both are '-'\n",
    "test.loc[(test['fuel_type'] == '–') & (test['engine'] == '–'), ['fuel_type', 'engine']] = 'Unknown'\n"
   ]
  },
  {
   "cell_type": "code",
   "execution_count": 49,
   "id": "a10d6f56",
   "metadata": {
    "execution": {
     "iopub.execute_input": "2024-10-09T09:56:23.037667Z",
     "iopub.status.busy": "2024-10-09T09:56:23.037351Z",
     "iopub.status.idle": "2024-10-09T09:56:23.066685Z",
     "shell.execute_reply": "2024-10-09T09:56:23.065868Z"
    },
    "papermill": {
     "duration": 0.075307,
     "end_time": "2024-10-09T09:56:23.068535",
     "exception": false,
     "start_time": "2024-10-09T09:56:22.993228",
     "status": "completed"
    },
    "tags": []
   },
   "outputs": [
    {
     "data": {
      "text/html": [
       "<div>\n",
       "<style scoped>\n",
       "    .dataframe tbody tr th:only-of-type {\n",
       "        vertical-align: middle;\n",
       "    }\n",
       "\n",
       "    .dataframe tbody tr th {\n",
       "        vertical-align: top;\n",
       "    }\n",
       "\n",
       "    .dataframe thead th {\n",
       "        text-align: right;\n",
       "    }\n",
       "</style>\n",
       "<table border=\"1\" class=\"dataframe\">\n",
       "  <thead>\n",
       "    <tr style=\"text-align: right;\">\n",
       "      <th></th>\n",
       "      <th>engine</th>\n",
       "      <th>fuel_type</th>\n",
       "    </tr>\n",
       "  </thead>\n",
       "  <tbody>\n",
       "    <tr>\n",
       "      <th>12128</th>\n",
       "      <td>181.0HP 1.6L 4 Cylinder Engine Gasoline Fuel</td>\n",
       "      <td>–</td>\n",
       "    </tr>\n",
       "    <tr>\n",
       "      <th>14867</th>\n",
       "      <td>250.0HP 5.9L Straight 6 Cylinder Engine Diesel...</td>\n",
       "      <td>–</td>\n",
       "    </tr>\n",
       "    <tr>\n",
       "      <th>16091</th>\n",
       "      <td>429.0HP 3.0L Straight 6 Cylinder Engine Gasoli...</td>\n",
       "      <td>–</td>\n",
       "    </tr>\n",
       "    <tr>\n",
       "      <th>52090</th>\n",
       "      <td>2.5 Liter</td>\n",
       "      <td>–</td>\n",
       "    </tr>\n",
       "    <tr>\n",
       "      <th>54262</th>\n",
       "      <td>115.0HP 1.6L 4 Cylinder Engine Gasoline Fuel</td>\n",
       "      <td>–</td>\n",
       "    </tr>\n",
       "    <tr>\n",
       "      <th>72030</th>\n",
       "      <td>245.0HP 5.9L Straight 6 Cylinder Engine Diesel...</td>\n",
       "      <td>–</td>\n",
       "    </tr>\n",
       "    <tr>\n",
       "      <th>76736</th>\n",
       "      <td>236.0HP 4.0L V6 Cylinder Engine Gasoline Fuel</td>\n",
       "      <td>–</td>\n",
       "    </tr>\n",
       "    <tr>\n",
       "      <th>80462</th>\n",
       "      <td>140.0HP 1.8L 4 Cylinder Engine Gasoline Fuel</td>\n",
       "      <td>–</td>\n",
       "    </tr>\n",
       "    <tr>\n",
       "      <th>83074</th>\n",
       "      <td>560.0HP 4.4L 8 Cylinder Engine Gasoline Fuel</td>\n",
       "      <td>–</td>\n",
       "    </tr>\n",
       "    <tr>\n",
       "      <th>91041</th>\n",
       "      <td>210.0HP 3.7L V6 Cylinder Engine Gasoline Fuel</td>\n",
       "      <td>–</td>\n",
       "    </tr>\n",
       "    <tr>\n",
       "      <th>94079</th>\n",
       "      <td>275.0HP 2.3L 4 Cylinder Engine Gasoline Fuel</td>\n",
       "      <td>–</td>\n",
       "    </tr>\n",
       "    <tr>\n",
       "      <th>109717</th>\n",
       "      <td>362.0HP 3.0L V6 Cylinder Engine Gasoline Fuel</td>\n",
       "      <td>–</td>\n",
       "    </tr>\n",
       "    <tr>\n",
       "      <th>121408</th>\n",
       "      <td>707.0HP 6.2L 8 Cylinder Engine Gasoline Fuel</td>\n",
       "      <td>–</td>\n",
       "    </tr>\n",
       "  </tbody>\n",
       "</table>\n",
       "</div>"
      ],
      "text/plain": [
       "                                                   engine fuel_type\n",
       "12128        181.0HP 1.6L 4 Cylinder Engine Gasoline Fuel         –\n",
       "14867   250.0HP 5.9L Straight 6 Cylinder Engine Diesel...         –\n",
       "16091   429.0HP 3.0L Straight 6 Cylinder Engine Gasoli...         –\n",
       "52090                                           2.5 Liter         –\n",
       "54262        115.0HP 1.6L 4 Cylinder Engine Gasoline Fuel         –\n",
       "72030   245.0HP 5.9L Straight 6 Cylinder Engine Diesel...         –\n",
       "76736       236.0HP 4.0L V6 Cylinder Engine Gasoline Fuel         –\n",
       "80462        140.0HP 1.8L 4 Cylinder Engine Gasoline Fuel         –\n",
       "83074        560.0HP 4.4L 8 Cylinder Engine Gasoline Fuel         –\n",
       "91041       210.0HP 3.7L V6 Cylinder Engine Gasoline Fuel         –\n",
       "94079        275.0HP 2.3L 4 Cylinder Engine Gasoline Fuel         –\n",
       "109717      362.0HP 3.0L V6 Cylinder Engine Gasoline Fuel         –\n",
       "121408       707.0HP 6.2L 8 Cylinder Engine Gasoline Fuel         –"
      ]
     },
     "execution_count": 49,
     "metadata": {},
     "output_type": "execute_result"
    }
   ],
   "source": [
    "test[(test.fuel_type == '–') ][['engine','fuel_type']]"
   ]
  },
  {
   "cell_type": "code",
   "execution_count": 50,
   "id": "9c18b215",
   "metadata": {
    "execution": {
     "iopub.execute_input": "2024-10-09T09:56:23.155694Z",
     "iopub.status.busy": "2024-10-09T09:56:23.155379Z",
     "iopub.status.idle": "2024-10-09T09:56:24.458834Z",
     "shell.execute_reply": "2024-10-09T09:56:24.458033Z"
    },
    "papermill": {
     "duration": 1.349234,
     "end_time": "2024-10-09T09:56:24.461040",
     "exception": false,
     "start_time": "2024-10-09T09:56:23.111806",
     "status": "completed"
    },
    "tags": []
   },
   "outputs": [],
   "source": [
    "test['fuel_type'] = test.apply(\n",
    "    lambda row: 'Gasoline' if (row['fuel_type'] == '–') and ('Gasoline' in row['engine'].split() and 'Liter' in row['engine'].split())\n",
    "    else 'Diesel',\n",
    "    axis=1\n",
    ")"
   ]
  },
  {
   "cell_type": "code",
   "execution_count": 51,
   "id": "2378f31a",
   "metadata": {
    "execution": {
     "iopub.execute_input": "2024-10-09T09:56:24.552014Z",
     "iopub.status.busy": "2024-10-09T09:56:24.551689Z",
     "iopub.status.idle": "2024-10-09T09:56:24.569058Z",
     "shell.execute_reply": "2024-10-09T09:56:24.568088Z"
    },
    "papermill": {
     "duration": 0.064858,
     "end_time": "2024-10-09T09:56:24.571093",
     "exception": false,
     "start_time": "2024-10-09T09:56:24.506235",
     "status": "completed"
    },
    "tags": []
   },
   "outputs": [
    {
     "name": "stderr",
     "output_type": "stream",
     "text": [
      "/tmp/ipykernel_24/1362350193.py:1: FutureWarning: A value is trying to be set on a copy of a DataFrame or Series through chained assignment using an inplace method.\n",
      "The behavior will change in pandas 3.0. This inplace method will never work because the intermediate object on which we are setting values always behaves as a copy.\n",
      "\n",
      "For example, when doing 'df[col].method(value, inplace=True)', try using 'df.method({col: value}, inplace=True)' or df[col] = df[col].method(value) instead, to perform the operation inplace on the original object.\n",
      "\n",
      "\n",
      "  test['clean_title'].fillna('No',inplace = True)\n"
     ]
    }
   ],
   "source": [
    "test['clean_title'].fillna('No',inplace = True)"
   ]
  },
  {
   "cell_type": "code",
   "execution_count": 52,
   "id": "7dfb3071",
   "metadata": {
    "execution": {
     "iopub.execute_input": "2024-10-09T09:56:24.660518Z",
     "iopub.status.busy": "2024-10-09T09:56:24.660224Z",
     "iopub.status.idle": "2024-10-09T09:56:24.770025Z",
     "shell.execute_reply": "2024-10-09T09:56:24.769122Z"
    },
    "papermill": {
     "duration": 0.157239,
     "end_time": "2024-10-09T09:56:24.772090",
     "exception": false,
     "start_time": "2024-10-09T09:56:24.614851",
     "status": "completed"
    },
    "tags": []
   },
   "outputs": [
    {
     "data": {
      "text/plain": [
       "id              0\n",
       "brand           0\n",
       "model           0\n",
       "model_year      0\n",
       "milage          0\n",
       "fuel_type       0\n",
       "engine          0\n",
       "transmission    0\n",
       "ext_col         0\n",
       "int_col         0\n",
       "accident        0\n",
       "clean_title     0\n",
       "dtype: int64"
      ]
     },
     "execution_count": 52,
     "metadata": {},
     "output_type": "execute_result"
    }
   ],
   "source": [
    "test.isna().sum()"
   ]
  },
  {
   "cell_type": "code",
   "execution_count": 53,
   "id": "4851eb4d",
   "metadata": {
    "execution": {
     "iopub.execute_input": "2024-10-09T09:56:24.864074Z",
     "iopub.status.busy": "2024-10-09T09:56:24.863760Z",
     "iopub.status.idle": "2024-10-09T09:56:24.869309Z",
     "shell.execute_reply": "2024-10-09T09:56:24.868469Z"
    },
    "papermill": {
     "duration": 0.052273,
     "end_time": "2024-10-09T09:56:24.871186",
     "exception": false,
     "start_time": "2024-10-09T09:56:24.818913",
     "status": "completed"
    },
    "tags": []
   },
   "outputs": [
    {
     "data": {
      "text/plain": [
       "(125690, 12)"
      ]
     },
     "execution_count": 53,
     "metadata": {},
     "output_type": "execute_result"
    }
   ],
   "source": [
    "test.shape"
   ]
  },
  {
   "cell_type": "code",
   "execution_count": 54,
   "id": "fb9dd737",
   "metadata": {
    "execution": {
     "iopub.execute_input": "2024-10-09T09:56:24.959797Z",
     "iopub.status.busy": "2024-10-09T09:56:24.959517Z",
     "iopub.status.idle": "2024-10-09T09:56:25.214090Z",
     "shell.execute_reply": "2024-10-09T09:56:25.213261Z"
    },
    "papermill": {
     "duration": 0.301227,
     "end_time": "2024-10-09T09:56:25.216144",
     "exception": false,
     "start_time": "2024-10-09T09:56:24.914917",
     "status": "completed"
    },
    "tags": []
   },
   "outputs": [
    {
     "data": {
      "text/plain": [
       "<Axes: >"
      ]
     },
     "execution_count": 54,
     "metadata": {},
     "output_type": "execute_result"
    },
    {
     "data": {
      "image/png": "[encoded data removed]",
      "text/plain": [
       "<Figure size 640x480 with 1 Axes>"
      ]
     },
     "metadata": {},
     "output_type": "display_data"
    }
   ],
   "source": [
    "sns.boxplot(data['price'])"
   ]
  },
  {
   "cell_type": "code",
   "execution_count": 55,
   "id": "ce73cc0f",
   "metadata": {
    "execution": {
     "iopub.execute_input": "2024-10-09T09:56:25.306959Z",
     "iopub.status.busy": "2024-10-09T09:56:25.306649Z",
     "iopub.status.idle": "2024-10-09T09:56:25.620538Z",
     "shell.execute_reply": "2024-10-09T09:56:25.619664Z"
    },
    "papermill": {
     "duration": 0.361545,
     "end_time": "2024-10-09T09:56:25.622642",
     "exception": false,
     "start_time": "2024-10-09T09:56:25.261097",
     "status": "completed"
    },
    "tags": []
   },
   "outputs": [
    {
     "data": {
      "text/plain": [
       "<Axes: >"
      ]
     },
     "execution_count": 55,
     "metadata": {},
     "output_type": "execute_result"
    },
    {
     "data": {
      "image/png": "[encoded data removed]",
      "text/plain": [
       "<Figure size 640x480 with 1 Axes>"
      ]
     },
     "metadata": {},
     "output_type": "display_data"
    }
   ],
   "source": [
    "sns.boxplot(data['milage'])"
   ]
  },
  {
   "cell_type": "code",
   "execution_count": 56,
   "id": "860e3cc7",
   "metadata": {
    "execution": {
     "iopub.execute_input": "2024-10-09T09:56:25.714192Z",
     "iopub.status.busy": "2024-10-09T09:56:25.713361Z",
     "iopub.status.idle": "2024-10-09T09:56:25.758660Z",
     "shell.execute_reply": "2024-10-09T09:56:25.757697Z"
    },
    "papermill": {
     "duration": 0.093068,
     "end_time": "2024-10-09T09:56:25.761028",
     "exception": false,
     "start_time": "2024-10-09T09:56:25.667960",
     "status": "completed"
    },
    "tags": []
   },
   "outputs": [],
   "source": [
    "numerical_data = ['price','milage']\n",
    "def outlier(df,ft) :\n",
    "    upper_limit = df[ft].mean() + 3*df[ft].std()\n",
    "    lower_limit = df[ft].mean() - 3*df[ft].std()\n",
    "    ls =  df.index[(df[ft] < lower_limit) | (df[ft] > upper_limit)]\n",
    "    return ls\n",
    "index = []\n",
    "for col in numerical_data :\n",
    "    index.extend(outlier(data,col))\n",
    "index = sorted(set(index))\n",
    "def remove_outlier(df,ls) :\n",
    "    df = df.drop(ls,inplace = True)\n",
    "    return df \n",
    "remove_outlier(data,index)\n"
   ]
  },
  {
   "cell_type": "markdown",
   "id": "011e6229",
   "metadata": {
    "papermill": {
     "duration": 0.045121,
     "end_time": "2024-10-09T09:56:25.851811",
     "exception": false,
     "start_time": "2024-10-09T09:56:25.806690",
     "status": "completed"
    },
    "tags": []
   },
   "source": [
    "# 4. FEATURE ENGINEERING"
   ]
  },
  {
   "cell_type": "code",
   "execution_count": 57,
   "id": "96ad73e4",
   "metadata": {
    "execution": {
     "iopub.execute_input": "2024-10-09T09:56:25.944129Z",
     "iopub.status.busy": "2024-10-09T09:56:25.943520Z",
     "iopub.status.idle": "2024-10-09T09:56:25.947512Z",
     "shell.execute_reply": "2024-10-09T09:56:25.946656Z"
    },
    "papermill": {
     "duration": 0.052108,
     "end_time": "2024-10-09T09:56:25.949496",
     "exception": false,
     "start_time": "2024-10-09T09:56:25.897388",
     "status": "completed"
    },
    "tags": []
   },
   "outputs": [],
   "source": [
    "# Extracting information from Transmission column"
   ]
  },
  {
   "cell_type": "code",
   "execution_count": 58,
   "id": "41040805",
   "metadata": {
    "execution": {
     "iopub.execute_input": "2024-10-09T09:56:26.040150Z",
     "iopub.status.busy": "2024-10-09T09:56:26.039642Z",
     "iopub.status.idle": "2024-10-09T09:56:26.043780Z",
     "shell.execute_reply": "2024-10-09T09:56:26.042969Z"
    },
    "papermill": {
     "duration": 0.051448,
     "end_time": "2024-10-09T09:56:26.045720",
     "exception": false,
     "start_time": "2024-10-09T09:56:25.994272",
     "status": "completed"
    },
    "tags": []
   },
   "outputs": [],
   "source": [
    "pd.set_option('display.max_rows' , 500)"
   ]
  },
  {
   "cell_type": "code",
   "execution_count": 59,
   "id": "575d63ba",
   "metadata": {
    "execution": {
     "iopub.execute_input": "2024-10-09T09:56:26.137810Z",
     "iopub.status.busy": "2024-10-09T09:56:26.137282Z",
     "iopub.status.idle": "2024-10-09T09:56:26.593331Z",
     "shell.execute_reply": "2024-10-09T09:56:26.592570Z"
    },
    "papermill": {
     "duration": 0.505193,
     "end_time": "2024-10-09T09:56:26.595656",
     "exception": false,
     "start_time": "2024-10-09T09:56:26.090463",
     "status": "completed"
    },
    "tags": []
   },
   "outputs": [],
   "source": [
    "def transmission_type(trans) :\n",
    "    if 'Automatic' in trans or 'A/T' in  trans :\n",
    "        return 'Automatic'\n",
    "    elif 'Manual' in trans or 'M/T' in trans :\n",
    "        return 'Manual'\n",
    "    else :\n",
    "        return 'Other'\n",
    "import re\n",
    "def gear(trans) :\n",
    "    match = re.search(r'(\\d+)-Speed',trans)\n",
    "    if match : \n",
    "        return int(match.group(1))\n",
    "    else :\n",
    "        return np.nan\n",
    "data['trans_type'] = data['transmission'].apply(transmission_type)\n",
    "data['gear'] = data['transmission'].apply(gear)"
   ]
  },
  {
   "cell_type": "code",
   "execution_count": 60,
   "id": "27acbfcc",
   "metadata": {
    "execution": {
     "iopub.execute_input": "2024-10-09T09:56:26.689230Z",
     "iopub.status.busy": "2024-10-09T09:56:26.688461Z",
     "iopub.status.idle": "2024-10-09T09:56:26.993042Z",
     "shell.execute_reply": "2024-10-09T09:56:26.992127Z"
    },
    "papermill": {
     "duration": 0.352429,
     "end_time": "2024-10-09T09:56:26.995143",
     "exception": false,
     "start_time": "2024-10-09T09:56:26.642714",
     "status": "completed"
    },
    "tags": []
   },
   "outputs": [],
   "source": [
    "test['trans_type'] = test['transmission'].apply(transmission_type)\n",
    "test['gear'] = test['transmission'].apply(gear)"
   ]
  },
  {
   "cell_type": "code",
   "execution_count": 61,
   "id": "f9798c1b",
   "metadata": {
    "execution": {
     "iopub.execute_input": "2024-10-09T09:56:27.084923Z",
     "iopub.status.busy": "2024-10-09T09:56:27.084568Z",
     "iopub.status.idle": "2024-10-09T09:56:27.177059Z",
     "shell.execute_reply": "2024-10-09T09:56:27.176061Z"
    },
    "papermill": {
     "duration": 0.13954,
     "end_time": "2024-10-09T09:56:27.179116",
     "exception": false,
     "start_time": "2024-10-09T09:56:27.039576",
     "status": "completed"
    },
    "tags": []
   },
   "outputs": [
    {
     "data": {
      "text/plain": [
       "brand  model                       trans_type  fuel_type  gear\n",
       "Acura  330 i xDrive                Automatic   Gasoline   6.0     1\n",
       "       ATS 2.0L Turbo Luxury       Automatic   Gasoline   8.0     1\n",
       "       Acadia SLE-1                Automatic   Gasoline   9.0     1\n",
       "       Air Pure                    Automatic   Gasoline   1.0     1\n",
       "       CC Sport                    Manual      Gasoline   6.0     1\n",
       "       CLK-Class CLK 350           Automatic   Gasoline   7.0     1\n",
       "       CX-30 Base                  Automatic   Gasoline   6.0     1\n",
       "       Corvette Stingray w/1LT     Automatic   Gasoline   8.0     1\n",
       "       ILX 2.0L w/Premium Package  Automatic   Gasoline   6.0     5\n",
       "                                                          8.0     4\n",
       "Name: count, dtype: int64"
      ]
     },
     "execution_count": 61,
     "metadata": {},
     "output_type": "execute_result"
    }
   ],
   "source": [
    "data.groupby(['brand', 'model', 'trans_type','fuel_type']).gear.value_counts().head(10)"
   ]
  },
  {
   "cell_type": "code",
   "execution_count": 62,
   "id": "3926f3ce",
   "metadata": {
    "execution": {
     "iopub.execute_input": "2024-10-09T09:56:27.270699Z",
     "iopub.status.busy": "2024-10-09T09:56:27.270148Z",
     "iopub.status.idle": "2024-10-09T09:56:27.274063Z",
     "shell.execute_reply": "2024-10-09T09:56:27.273201Z"
    },
    "papermill": {
     "duration": 0.051769,
     "end_time": "2024-10-09T09:56:27.276042",
     "exception": false,
     "start_time": "2024-10-09T09:56:27.224273",
     "status": "completed"
    },
    "tags": []
   },
   "outputs": [],
   "source": [
    "# Extracting Information from Engine Column"
   ]
  },
  {
   "cell_type": "code",
   "execution_count": 63,
   "id": "85aeff1f",
   "metadata": {
    "execution": {
     "iopub.execute_input": "2024-10-09T09:56:27.368137Z",
     "iopub.status.busy": "2024-10-09T09:56:27.367828Z",
     "iopub.status.idle": "2024-10-09T09:56:58.439339Z",
     "shell.execute_reply": "2024-10-09T09:56:58.438342Z"
    },
    "papermill": {
     "duration": 31.120384,
     "end_time": "2024-10-09T09:56:58.441714",
     "exception": false,
     "start_time": "2024-10-09T09:56:27.321330",
     "status": "completed"
    },
    "tags": []
   },
   "outputs": [],
   "source": [
    "import re \n",
    "def extract_engine_features(raw) :\n",
    "    engine_info = raw['engine']\n",
    "    \n",
    "    #Extracting HorsePower of Car\n",
    "    hp_match = re.search(r'(\\d+\\.?\\d*)HP' , engine_info)\n",
    "    horsepower = float(hp_match.group(1)) if hp_match else None\n",
    "    \n",
    "    #Extracting Engine Size of Car\n",
    "    size_match = re.search(r'(\\d+\\.?\\d*)L' , engine_info)\n",
    "    engine_size = float(size_match.group(1)) if size_match else 0\n",
    "    \n",
    "    #Extracting Cylinders in Car\n",
    "    cyl_match = re.search(r'(\\d+)\\s+Cylinder|V(\\d+)' , engine_info)\n",
    "    cylinders = int(cyl_match.group(1) or cyl_match.group(2)) if cyl_match else None\n",
    "    \n",
    "    return pd.Series([horsepower, engine_size, cylinders])\n",
    "data[['horsepower', 'engine_size', 'cylinders']] = data.apply(extract_engine_features, axis=1)"
   ]
  },
  {
   "cell_type": "code",
   "execution_count": 64,
   "id": "45700761",
   "metadata": {
    "execution": {
     "iopub.execute_input": "2024-10-09T09:56:58.535530Z",
     "iopub.status.busy": "2024-10-09T09:56:58.534939Z",
     "iopub.status.idle": "2024-10-09T09:57:18.800406Z",
     "shell.execute_reply": "2024-10-09T09:57:18.799556Z"
    },
    "papermill": {
     "duration": 20.314795,
     "end_time": "2024-10-09T09:57:18.802775",
     "exception": false,
     "start_time": "2024-10-09T09:56:58.487980",
     "status": "completed"
    },
    "tags": []
   },
   "outputs": [],
   "source": [
    "test[['horsepower', 'engine_size', 'cylinders']] = test.apply(extract_engine_features, axis=1)"
   ]
  },
  {
   "cell_type": "code",
   "execution_count": 65,
   "id": "bbc20860",
   "metadata": {
    "execution": {
     "iopub.execute_input": "2024-10-09T09:57:18.896519Z",
     "iopub.status.busy": "2024-10-09T09:57:18.896190Z",
     "iopub.status.idle": "2024-10-09T09:57:18.915654Z",
     "shell.execute_reply": "2024-10-09T09:57:18.914694Z"
    },
    "papermill": {
     "duration": 0.067782,
     "end_time": "2024-10-09T09:57:18.917616",
     "exception": false,
     "start_time": "2024-10-09T09:57:18.849834",
     "status": "completed"
    },
    "tags": []
   },
   "outputs": [
    {
     "data": {
      "text/html": [
       "<div>\n",
       "<style scoped>\n",
       "    .dataframe tbody tr th:only-of-type {\n",
       "        vertical-align: middle;\n",
       "    }\n",
       "\n",
       "    .dataframe tbody tr th {\n",
       "        vertical-align: top;\n",
       "    }\n",
       "\n",
       "    .dataframe thead th {\n",
       "        text-align: right;\n",
       "    }\n",
       "</style>\n",
       "<table border=\"1\" class=\"dataframe\">\n",
       "  <thead>\n",
       "    <tr style=\"text-align: right;\">\n",
       "      <th></th>\n",
       "      <th>id</th>\n",
       "      <th>brand</th>\n",
       "      <th>model</th>\n",
       "      <th>model_year</th>\n",
       "      <th>milage</th>\n",
       "      <th>fuel_type</th>\n",
       "      <th>engine</th>\n",
       "      <th>transmission</th>\n",
       "      <th>ext_col</th>\n",
       "      <th>int_col</th>\n",
       "      <th>accident</th>\n",
       "      <th>clean_title</th>\n",
       "      <th>price</th>\n",
       "      <th>trans_type</th>\n",
       "      <th>gear</th>\n",
       "      <th>horsepower</th>\n",
       "      <th>engine_size</th>\n",
       "      <th>cylinders</th>\n",
       "    </tr>\n",
       "  </thead>\n",
       "  <tbody>\n",
       "    <tr>\n",
       "      <th>0</th>\n",
       "      <td>0</td>\n",
       "      <td>MINI</td>\n",
       "      <td>Cooper S Base</td>\n",
       "      <td>2007</td>\n",
       "      <td>213000</td>\n",
       "      <td>Gasoline</td>\n",
       "      <td>172.0HP 1.6L 4 Cylinder Engine Gasoline Fuel</td>\n",
       "      <td>A/T</td>\n",
       "      <td>Yellow</td>\n",
       "      <td>Gray</td>\n",
       "      <td>None reported</td>\n",
       "      <td>Yes</td>\n",
       "      <td>4200</td>\n",
       "      <td>Automatic</td>\n",
       "      <td>NaN</td>\n",
       "      <td>172.0</td>\n",
       "      <td>1.6</td>\n",
       "      <td>4.0</td>\n",
       "    </tr>\n",
       "    <tr>\n",
       "      <th>1</th>\n",
       "      <td>1</td>\n",
       "      <td>Lincoln</td>\n",
       "      <td>LS V8</td>\n",
       "      <td>2002</td>\n",
       "      <td>143250</td>\n",
       "      <td>Gasoline</td>\n",
       "      <td>252.0HP 3.9L 8 Cylinder Engine Gasoline Fuel</td>\n",
       "      <td>A/T</td>\n",
       "      <td>Silver</td>\n",
       "      <td>Beige</td>\n",
       "      <td>At least 1 accident or damage reported</td>\n",
       "      <td>Yes</td>\n",
       "      <td>4999</td>\n",
       "      <td>Automatic</td>\n",
       "      <td>NaN</td>\n",
       "      <td>252.0</td>\n",
       "      <td>3.9</td>\n",
       "      <td>8.0</td>\n",
       "    </tr>\n",
       "    <tr>\n",
       "      <th>2</th>\n",
       "      <td>2</td>\n",
       "      <td>Chevrolet</td>\n",
       "      <td>Silverado 2500 LT</td>\n",
       "      <td>2002</td>\n",
       "      <td>136731</td>\n",
       "      <td>Gasoline</td>\n",
       "      <td>320.0HP 5.3L 8 Cylinder Engine Flex Fuel Capab...</td>\n",
       "      <td>A/T</td>\n",
       "      <td>Blue</td>\n",
       "      <td>Gray</td>\n",
       "      <td>None reported</td>\n",
       "      <td>Yes</td>\n",
       "      <td>13900</td>\n",
       "      <td>Automatic</td>\n",
       "      <td>NaN</td>\n",
       "      <td>320.0</td>\n",
       "      <td>5.3</td>\n",
       "      <td>8.0</td>\n",
       "    </tr>\n",
       "    <tr>\n",
       "      <th>3</th>\n",
       "      <td>3</td>\n",
       "      <td>Genesis</td>\n",
       "      <td>G90 5.0 Ultimate</td>\n",
       "      <td>2017</td>\n",
       "      <td>19500</td>\n",
       "      <td>Gasoline</td>\n",
       "      <td>420.0HP 5.0L 8 Cylinder Engine Gasoline Fuel</td>\n",
       "      <td>Transmission w/Dual Shift Mode</td>\n",
       "      <td>Black</td>\n",
       "      <td>Black</td>\n",
       "      <td>None reported</td>\n",
       "      <td>Yes</td>\n",
       "      <td>45000</td>\n",
       "      <td>Other</td>\n",
       "      <td>NaN</td>\n",
       "      <td>420.0</td>\n",
       "      <td>5.0</td>\n",
       "      <td>8.0</td>\n",
       "    </tr>\n",
       "    <tr>\n",
       "      <th>4</th>\n",
       "      <td>4</td>\n",
       "      <td>Mercedes-Benz</td>\n",
       "      <td>Metris Base</td>\n",
       "      <td>2021</td>\n",
       "      <td>7388</td>\n",
       "      <td>Gasoline</td>\n",
       "      <td>208.0HP 2.0L 4 Cylinder Engine Gasoline Fuel</td>\n",
       "      <td>7-Speed A/T</td>\n",
       "      <td>Black</td>\n",
       "      <td>Beige</td>\n",
       "      <td>None reported</td>\n",
       "      <td>Yes</td>\n",
       "      <td>97500</td>\n",
       "      <td>Automatic</td>\n",
       "      <td>7.0</td>\n",
       "      <td>208.0</td>\n",
       "      <td>2.0</td>\n",
       "      <td>4.0</td>\n",
       "    </tr>\n",
       "  </tbody>\n",
       "</table>\n",
       "</div>"
      ],
      "text/plain": [
       "   id          brand              model  model_year  milage fuel_type  \\\n",
       "0   0           MINI      Cooper S Base        2007  213000  Gasoline   \n",
       "1   1        Lincoln              LS V8        2002  143250  Gasoline   \n",
       "2   2      Chevrolet  Silverado 2500 LT        2002  136731  Gasoline   \n",
       "3   3        Genesis   G90 5.0 Ultimate        2017   19500  Gasoline   \n",
       "4   4  Mercedes-Benz        Metris Base        2021    7388  Gasoline   \n",
       "\n",
       "                                              engine  \\\n",
       "0       172.0HP 1.6L 4 Cylinder Engine Gasoline Fuel   \n",
       "1       252.0HP 3.9L 8 Cylinder Engine Gasoline Fuel   \n",
       "2  320.0HP 5.3L 8 Cylinder Engine Flex Fuel Capab...   \n",
       "3       420.0HP 5.0L 8 Cylinder Engine Gasoline Fuel   \n",
       "4       208.0HP 2.0L 4 Cylinder Engine Gasoline Fuel   \n",
       "\n",
       "                     transmission ext_col int_col  \\\n",
       "0                             A/T  Yellow    Gray   \n",
       "1                             A/T  Silver   Beige   \n",
       "2                             A/T    Blue    Gray   \n",
       "3  Transmission w/Dual Shift Mode   Black   Black   \n",
       "4                     7-Speed A/T   Black   Beige   \n",
       "\n",
       "                                 accident clean_title  price trans_type  gear  \\\n",
       "0                           None reported         Yes   4200  Automatic   NaN   \n",
       "1  At least 1 accident or damage reported         Yes   4999  Automatic   NaN   \n",
       "2                           None reported         Yes  13900  Automatic   NaN   \n",
       "3                           None reported         Yes  45000      Other   NaN   \n",
       "4                           None reported         Yes  97500  Automatic   7.0   \n",
       "\n",
       "   horsepower  engine_size  cylinders  \n",
       "0       172.0          1.6        4.0  \n",
       "1       252.0          3.9        8.0  \n",
       "2       320.0          5.3        8.0  \n",
       "3       420.0          5.0        8.0  \n",
       "4       208.0          2.0        4.0  "
      ]
     },
     "execution_count": 65,
     "metadata": {},
     "output_type": "execute_result"
    }
   ],
   "source": [
    "data.head()"
   ]
  },
  {
   "cell_type": "code",
   "execution_count": 66,
   "id": "d2a3cb2a",
   "metadata": {
    "execution": {
     "iopub.execute_input": "2024-10-09T09:57:19.008527Z",
     "iopub.status.busy": "2024-10-09T09:57:19.008202Z",
     "iopub.status.idle": "2024-10-09T09:57:19.014689Z",
     "shell.execute_reply": "2024-10-09T09:57:19.013818Z"
    },
    "papermill": {
     "duration": 0.053943,
     "end_time": "2024-10-09T09:57:19.016627",
     "exception": false,
     "start_time": "2024-10-09T09:57:18.962684",
     "status": "completed"
    },
    "tags": []
   },
   "outputs": [
    {
     "data": {
      "text/plain": [
       "0"
      ]
     },
     "execution_count": 66,
     "metadata": {},
     "output_type": "execute_result"
    }
   ],
   "source": [
    "data.engine_size.isnull().sum()"
   ]
  },
  {
   "cell_type": "code",
   "execution_count": 67,
   "id": "22e37016",
   "metadata": {
    "execution": {
     "iopub.execute_input": "2024-10-09T09:57:19.108511Z",
     "iopub.status.busy": "2024-10-09T09:57:19.108230Z",
     "iopub.status.idle": "2024-10-09T09:57:19.114516Z",
     "shell.execute_reply": "2024-10-09T09:57:19.113680Z"
    },
    "papermill": {
     "duration": 0.053721,
     "end_time": "2024-10-09T09:57:19.116284",
     "exception": false,
     "start_time": "2024-10-09T09:57:19.062563",
     "status": "completed"
    },
    "tags": []
   },
   "outputs": [
    {
     "data": {
      "text/plain": [
       "32630"
      ]
     },
     "execution_count": 67,
     "metadata": {},
     "output_type": "execute_result"
    }
   ],
   "source": [
    "data.horsepower.isnull().sum()"
   ]
  },
  {
   "cell_type": "code",
   "execution_count": 68,
   "id": "48a0fe1a",
   "metadata": {
    "execution": {
     "iopub.execute_input": "2024-10-09T09:57:19.207174Z",
     "iopub.status.busy": "2024-10-09T09:57:19.206675Z",
     "iopub.status.idle": "2024-10-09T09:57:19.213076Z",
     "shell.execute_reply": "2024-10-09T09:57:19.212299Z"
    },
    "papermill": {
     "duration": 0.054066,
     "end_time": "2024-10-09T09:57:19.214945",
     "exception": false,
     "start_time": "2024-10-09T09:57:19.160879",
     "status": "completed"
    },
    "tags": []
   },
   "outputs": [
    {
     "data": {
      "text/plain": [
       "21529"
      ]
     },
     "execution_count": 68,
     "metadata": {},
     "output_type": "execute_result"
    }
   ],
   "source": [
    "data.cylinders.isnull().sum()"
   ]
  },
  {
   "cell_type": "code",
   "execution_count": 69,
   "id": "5d1b2708",
   "metadata": {
    "execution": {
     "iopub.execute_input": "2024-10-09T09:57:19.307133Z",
     "iopub.status.busy": "2024-10-09T09:57:19.306333Z",
     "iopub.status.idle": "2024-10-09T09:57:19.325002Z",
     "shell.execute_reply": "2024-10-09T09:57:19.324111Z"
    },
    "papermill": {
     "duration": 0.066439,
     "end_time": "2024-10-09T09:57:19.326934",
     "exception": false,
     "start_time": "2024-10-09T09:57:19.260495",
     "status": "completed"
    },
    "tags": []
   },
   "outputs": [
    {
     "data": {
      "text/html": [
       "<div>\n",
       "<style scoped>\n",
       "    .dataframe tbody tr th:only-of-type {\n",
       "        vertical-align: middle;\n",
       "    }\n",
       "\n",
       "    .dataframe tbody tr th {\n",
       "        vertical-align: top;\n",
       "    }\n",
       "\n",
       "    .dataframe thead th {\n",
       "        text-align: right;\n",
       "    }\n",
       "</style>\n",
       "<table border=\"1\" class=\"dataframe\">\n",
       "  <thead>\n",
       "    <tr style=\"text-align: right;\">\n",
       "      <th></th>\n",
       "      <th>id</th>\n",
       "      <th>brand</th>\n",
       "      <th>model</th>\n",
       "      <th>model_year</th>\n",
       "      <th>milage</th>\n",
       "      <th>fuel_type</th>\n",
       "      <th>engine</th>\n",
       "      <th>transmission</th>\n",
       "      <th>ext_col</th>\n",
       "      <th>int_col</th>\n",
       "      <th>accident</th>\n",
       "      <th>clean_title</th>\n",
       "      <th>trans_type</th>\n",
       "      <th>gear</th>\n",
       "      <th>horsepower</th>\n",
       "      <th>engine_size</th>\n",
       "      <th>cylinders</th>\n",
       "    </tr>\n",
       "  </thead>\n",
       "  <tbody>\n",
       "    <tr>\n",
       "      <th>0</th>\n",
       "      <td>188533</td>\n",
       "      <td>Land</td>\n",
       "      <td>Rover LR2 Base</td>\n",
       "      <td>2015</td>\n",
       "      <td>98000</td>\n",
       "      <td>Diesel</td>\n",
       "      <td>240.0HP 2.0L 4 Cylinder Engine Gasoline Fuel</td>\n",
       "      <td>6-Speed A/T</td>\n",
       "      <td>White</td>\n",
       "      <td>Beige</td>\n",
       "      <td>None reported</td>\n",
       "      <td>Yes</td>\n",
       "      <td>Automatic</td>\n",
       "      <td>6.0</td>\n",
       "      <td>240.0</td>\n",
       "      <td>2.0</td>\n",
       "      <td>4.0</td>\n",
       "    </tr>\n",
       "    <tr>\n",
       "      <th>1</th>\n",
       "      <td>188534</td>\n",
       "      <td>Land</td>\n",
       "      <td>Rover Defender SE</td>\n",
       "      <td>2020</td>\n",
       "      <td>9142</td>\n",
       "      <td>Diesel</td>\n",
       "      <td>395.0HP 3.0L Straight 6 Cylinder Engine Gasoli...</td>\n",
       "      <td>8-Speed A/T</td>\n",
       "      <td>Silver</td>\n",
       "      <td>Black</td>\n",
       "      <td>None reported</td>\n",
       "      <td>Yes</td>\n",
       "      <td>Automatic</td>\n",
       "      <td>8.0</td>\n",
       "      <td>395.0</td>\n",
       "      <td>3.0</td>\n",
       "      <td>6.0</td>\n",
       "    </tr>\n",
       "    <tr>\n",
       "      <th>2</th>\n",
       "      <td>188535</td>\n",
       "      <td>Ford</td>\n",
       "      <td>Expedition Limited</td>\n",
       "      <td>2022</td>\n",
       "      <td>28121</td>\n",
       "      <td>Diesel</td>\n",
       "      <td>3.5L V6 24V PDI DOHC Twin Turbo</td>\n",
       "      <td>10-Speed Automatic</td>\n",
       "      <td>White</td>\n",
       "      <td>Ebony</td>\n",
       "      <td>None reported</td>\n",
       "      <td>No</td>\n",
       "      <td>Automatic</td>\n",
       "      <td>10.0</td>\n",
       "      <td>NaN</td>\n",
       "      <td>3.5</td>\n",
       "      <td>6.0</td>\n",
       "    </tr>\n",
       "    <tr>\n",
       "      <th>3</th>\n",
       "      <td>188536</td>\n",
       "      <td>Audi</td>\n",
       "      <td>A6 2.0T Sport</td>\n",
       "      <td>2016</td>\n",
       "      <td>61258</td>\n",
       "      <td>Diesel</td>\n",
       "      <td>2.0 Liter TFSI</td>\n",
       "      <td>Automatic</td>\n",
       "      <td>Silician Yellow</td>\n",
       "      <td>Black</td>\n",
       "      <td>None reported</td>\n",
       "      <td>No</td>\n",
       "      <td>Automatic</td>\n",
       "      <td>NaN</td>\n",
       "      <td>NaN</td>\n",
       "      <td>0.0</td>\n",
       "      <td>NaN</td>\n",
       "    </tr>\n",
       "    <tr>\n",
       "      <th>4</th>\n",
       "      <td>188537</td>\n",
       "      <td>Audi</td>\n",
       "      <td>A6 2.0T Premium Plus</td>\n",
       "      <td>2018</td>\n",
       "      <td>59000</td>\n",
       "      <td>Diesel</td>\n",
       "      <td>252.0HP 2.0L 4 Cylinder Engine Gasoline Fuel</td>\n",
       "      <td>A/T</td>\n",
       "      <td>Gray</td>\n",
       "      <td>Black</td>\n",
       "      <td>None reported</td>\n",
       "      <td>Yes</td>\n",
       "      <td>Automatic</td>\n",
       "      <td>NaN</td>\n",
       "      <td>252.0</td>\n",
       "      <td>2.0</td>\n",
       "      <td>4.0</td>\n",
       "    </tr>\n",
       "  </tbody>\n",
       "</table>\n",
       "</div>"
      ],
      "text/plain": [
       "       id brand                 model  model_year  milage fuel_type  \\\n",
       "0  188533  Land        Rover LR2 Base        2015   98000    Diesel   \n",
       "1  188534  Land     Rover Defender SE        2020    9142    Diesel   \n",
       "2  188535  Ford    Expedition Limited        2022   28121    Diesel   \n",
       "3  188536  Audi         A6 2.0T Sport        2016   61258    Diesel   \n",
       "4  188537  Audi  A6 2.0T Premium Plus        2018   59000    Diesel   \n",
       "\n",
       "                                              engine        transmission  \\\n",
       "0       240.0HP 2.0L 4 Cylinder Engine Gasoline Fuel         6-Speed A/T   \n",
       "1  395.0HP 3.0L Straight 6 Cylinder Engine Gasoli...         8-Speed A/T   \n",
       "2                    3.5L V6 24V PDI DOHC Twin Turbo  10-Speed Automatic   \n",
       "3                                     2.0 Liter TFSI           Automatic   \n",
       "4       252.0HP 2.0L 4 Cylinder Engine Gasoline Fuel                 A/T   \n",
       "\n",
       "           ext_col int_col       accident clean_title trans_type  gear  \\\n",
       "0            White   Beige  None reported         Yes  Automatic   6.0   \n",
       "1           Silver   Black  None reported         Yes  Automatic   8.0   \n",
       "2            White   Ebony  None reported          No  Automatic  10.0   \n",
       "3  Silician Yellow   Black  None reported          No  Automatic   NaN   \n",
       "4             Gray   Black  None reported         Yes  Automatic   NaN   \n",
       "\n",
       "   horsepower  engine_size  cylinders  \n",
       "0       240.0          2.0        4.0  \n",
       "1       395.0          3.0        6.0  \n",
       "2         NaN          3.5        6.0  \n",
       "3         NaN          0.0        NaN  \n",
       "4       252.0          2.0        4.0  "
      ]
     },
     "execution_count": 69,
     "metadata": {},
     "output_type": "execute_result"
    }
   ],
   "source": [
    "test.head()"
   ]
  },
  {
   "cell_type": "code",
   "execution_count": 70,
   "id": "23535d11",
   "metadata": {
    "execution": {
     "iopub.execute_input": "2024-10-09T09:57:19.418987Z",
     "iopub.status.busy": "2024-10-09T09:57:19.418685Z",
     "iopub.status.idle": "2024-10-09T09:57:19.425031Z",
     "shell.execute_reply": "2024-10-09T09:57:19.424227Z"
    },
    "papermill": {
     "duration": 0.054744,
     "end_time": "2024-10-09T09:57:19.426917",
     "exception": false,
     "start_time": "2024-10-09T09:57:19.372173",
     "status": "completed"
    },
    "tags": []
   },
   "outputs": [
    {
     "data": {
      "text/plain": [
       "22181"
      ]
     },
     "execution_count": 70,
     "metadata": {},
     "output_type": "execute_result"
    }
   ],
   "source": [
    "test.horsepower.isnull().sum()"
   ]
  },
  {
   "cell_type": "code",
   "execution_count": 71,
   "id": "25d54471",
   "metadata": {
    "execution": {
     "iopub.execute_input": "2024-10-09T09:57:19.519251Z",
     "iopub.status.busy": "2024-10-09T09:57:19.518579Z",
     "iopub.status.idle": "2024-10-09T09:57:19.524914Z",
     "shell.execute_reply": "2024-10-09T09:57:19.524064Z"
    },
    "papermill": {
     "duration": 0.0544,
     "end_time": "2024-10-09T09:57:19.526808",
     "exception": false,
     "start_time": "2024-10-09T09:57:19.472408",
     "status": "completed"
    },
    "tags": []
   },
   "outputs": [
    {
     "data": {
      "text/plain": [
       "0"
      ]
     },
     "execution_count": 71,
     "metadata": {},
     "output_type": "execute_result"
    }
   ],
   "source": [
    "test.engine_size.isnull().sum()"
   ]
  },
  {
   "cell_type": "code",
   "execution_count": 72,
   "id": "77db968d",
   "metadata": {
    "execution": {
     "iopub.execute_input": "2024-10-09T09:57:19.626872Z",
     "iopub.status.busy": "2024-10-09T09:57:19.626459Z",
     "iopub.status.idle": "2024-10-09T09:57:19.634123Z",
     "shell.execute_reply": "2024-10-09T09:57:19.633157Z"
    },
    "papermill": {
     "duration": 0.062205,
     "end_time": "2024-10-09T09:57:19.636815",
     "exception": false,
     "start_time": "2024-10-09T09:57:19.574610",
     "status": "completed"
    },
    "tags": []
   },
   "outputs": [
    {
     "data": {
      "text/plain": [
       "14529"
      ]
     },
     "execution_count": 72,
     "metadata": {},
     "output_type": "execute_result"
    }
   ],
   "source": [
    "test.cylinders.isnull().sum()"
   ]
  },
  {
   "cell_type": "code",
   "execution_count": 73,
   "id": "9a6f7445",
   "metadata": {
    "execution": {
     "iopub.execute_input": "2024-10-09T09:57:19.743204Z",
     "iopub.status.busy": "2024-10-09T09:57:19.742849Z",
     "iopub.status.idle": "2024-10-09T09:57:19.761118Z",
     "shell.execute_reply": "2024-10-09T09:57:19.760237Z"
    },
    "papermill": {
     "duration": 0.071371,
     "end_time": "2024-10-09T09:57:19.763574",
     "exception": false,
     "start_time": "2024-10-09T09:57:19.692203",
     "status": "completed"
    },
    "tags": []
   },
   "outputs": [
    {
     "data": {
      "text/html": [
       "<div>\n",
       "<style scoped>\n",
       "    .dataframe tbody tr th:only-of-type {\n",
       "        vertical-align: middle;\n",
       "    }\n",
       "\n",
       "    .dataframe tbody tr th {\n",
       "        vertical-align: top;\n",
       "    }\n",
       "\n",
       "    .dataframe thead th {\n",
       "        text-align: right;\n",
       "    }\n",
       "</style>\n",
       "<table border=\"1\" class=\"dataframe\">\n",
       "  <thead>\n",
       "    <tr style=\"text-align: right;\">\n",
       "      <th></th>\n",
       "      <th>engine</th>\n",
       "    </tr>\n",
       "  </thead>\n",
       "  <tbody>\n",
       "    <tr>\n",
       "      <th>11</th>\n",
       "      <td>Electric Motor Electric Fuel System</td>\n",
       "    </tr>\n",
       "    <tr>\n",
       "      <th>32</th>\n",
       "      <td>518.0HP Electric Motor Electric Fuel System</td>\n",
       "    </tr>\n",
       "    <tr>\n",
       "      <th>44</th>\n",
       "      <td>835.0HP Electric Motor Electric Fuel System</td>\n",
       "    </tr>\n",
       "    <tr>\n",
       "      <th>51</th>\n",
       "      <td>Dual Motor - Standard</td>\n",
       "    </tr>\n",
       "    <tr>\n",
       "      <th>52</th>\n",
       "      <td>518.0HP Electric Motor Electric Fuel System</td>\n",
       "    </tr>\n",
       "  </tbody>\n",
       "</table>\n",
       "</div>"
      ],
      "text/plain": [
       "                                         engine\n",
       "11          Electric Motor Electric Fuel System\n",
       "32  518.0HP Electric Motor Electric Fuel System\n",
       "44  835.0HP Electric Motor Electric Fuel System\n",
       "51                        Dual Motor - Standard\n",
       "52  518.0HP Electric Motor Electric Fuel System"
      ]
     },
     "execution_count": 73,
     "metadata": {},
     "output_type": "execute_result"
    }
   ],
   "source": [
    "data[data.cylinders.isnull()][['engine']].head()"
   ]
  },
  {
   "cell_type": "code",
   "execution_count": 74,
   "id": "0721edce",
   "metadata": {
    "execution": {
     "iopub.execute_input": "2024-10-09T09:57:19.873459Z",
     "iopub.status.busy": "2024-10-09T09:57:19.872671Z",
     "iopub.status.idle": "2024-10-09T09:57:19.948769Z",
     "shell.execute_reply": "2024-10-09T09:57:19.947800Z"
    },
    "papermill": {
     "duration": 0.13317,
     "end_time": "2024-10-09T09:57:19.951016",
     "exception": false,
     "start_time": "2024-10-09T09:57:19.817846",
     "status": "completed"
    },
    "tags": []
   },
   "outputs": [
    {
     "data": {
      "text/plain": [
       "brand  model                  engine_size  cylinders  horsepower\n",
       "Acura  300 Touring            3.5          6.0        250.0         1\n",
       "       330 i xDrive           3.0          6.0        320.0         1\n",
       "       335 is                 3.0          6.0        320.0         1\n",
       "       ATS 2.0L Turbo Luxury  2.0          4.0        252.0         1\n",
       "       CC Sport               2.4          4.0        201.0         1\n",
       "                                                                   ..\n",
       "Volvo  XC90 T6 Momentum       2.0          4.0        240.0         2\n",
       "                                                      220.0         1\n",
       "       i8 Base                1.5          3.0        357.0         1\n",
       "smart  ForTwo Pure            1.0          3.0        70.0          1\n",
       "                              1.8          4.0        170.0         1\n",
       "Name: count, Length: 13155, dtype: int64"
      ]
     },
     "execution_count": 74,
     "metadata": {},
     "output_type": "execute_result"
    }
   ],
   "source": [
    "\n",
    "data.groupby(['brand','model','engine_size','cylinders']).horsepower.value_counts()"
   ]
  },
  {
   "cell_type": "code",
   "execution_count": 75,
   "id": "7b422a70",
   "metadata": {
    "execution": {
     "iopub.execute_input": "2024-10-09T09:57:20.057594Z",
     "iopub.status.busy": "2024-10-09T09:57:20.056563Z",
     "iopub.status.idle": "2024-10-09T09:57:26.315836Z",
     "shell.execute_reply": "2024-10-09T09:57:26.315010Z"
    },
    "papermill": {
     "duration": 6.313533,
     "end_time": "2024-10-09T09:57:26.318101",
     "exception": false,
     "start_time": "2024-10-09T09:57:20.004568",
     "status": "completed"
    },
    "tags": []
   },
   "outputs": [],
   "source": [
    "import warnings\n",
    "warnings.filterwarnings(\"ignore\", category=RuntimeWarning)\n",
    "data['horsepower']=data.groupby(['brand','model','engine_size','cylinders']).horsepower.transform(lambda x : x.fillna(x.mode()[0] if not x.mode().empty else np.nan))\n",
    "test['horsepower']=test.groupby(['brand','model','engine_size','cylinders']).horsepower.transform(lambda x : x.fillna(x.mode()[0] if not x.mode().empty else np.nan))\n"
   ]
  },
  {
   "cell_type": "code",
   "execution_count": 76,
   "id": "d81c1c59",
   "metadata": {
    "execution": {
     "iopub.execute_input": "2024-10-09T09:57:26.414070Z",
     "iopub.status.busy": "2024-10-09T09:57:26.413729Z",
     "iopub.status.idle": "2024-10-09T09:57:35.598911Z",
     "shell.execute_reply": "2024-10-09T09:57:35.598129Z"
    },
    "papermill": {
     "duration": 9.23558,
     "end_time": "2024-10-09T09:57:35.601156",
     "exception": false,
     "start_time": "2024-10-09T09:57:26.365576",
     "status": "completed"
    },
    "tags": []
   },
   "outputs": [],
   "source": [
    "data['cylinders']=data.groupby(['brand','model','engine_size','horsepower']).cylinders.transform(lambda x : x.fillna(x.mode()[0] if not x.mode().empty else np.nan))\n",
    "test['cylinders']=test.groupby(['brand','model','engine_size','horsepower']).cylinders.transform(lambda x : x.fillna(x.mode()[0] if not x.mode().empty else np.nan))"
   ]
  },
  {
   "cell_type": "code",
   "execution_count": 77,
   "id": "d174e907",
   "metadata": {
    "execution": {
     "iopub.execute_input": "2024-10-09T09:57:35.698463Z",
     "iopub.status.busy": "2024-10-09T09:57:35.697793Z",
     "iopub.status.idle": "2024-10-09T09:57:40.301096Z",
     "shell.execute_reply": "2024-10-09T09:57:40.300309Z"
    },
    "papermill": {
     "duration": 4.653105,
     "end_time": "2024-10-09T09:57:40.303342",
     "exception": false,
     "start_time": "2024-10-09T09:57:35.650237",
     "status": "completed"
    },
    "tags": []
   },
   "outputs": [],
   "source": [
    "data['gear'] = data.groupby(['brand', 'model', 'trans_type','fuel_type'])['gear'].transform(lambda x : x.fillna(x.mode()[0] if not x.mode().empty else np.nan))\n",
    "test['gear'] = test.groupby(['brand', 'model', 'trans_type','fuel_type'])['gear'].transform(lambda x : x.fillna(x.mode()[0] if not x.mode().empty else np.nan))"
   ]
  },
  {
   "cell_type": "code",
   "execution_count": 78,
   "id": "bea6c375",
   "metadata": {
    "execution": {
     "iopub.execute_input": "2024-10-09T09:57:40.399428Z",
     "iopub.status.busy": "2024-10-09T09:57:40.399065Z",
     "iopub.status.idle": "2024-10-09T09:57:40.410940Z",
     "shell.execute_reply": "2024-10-09T09:57:40.409981Z"
    },
    "papermill": {
     "duration": 0.062203,
     "end_time": "2024-10-09T09:57:40.413039",
     "exception": false,
     "start_time": "2024-10-09T09:57:40.350836",
     "status": "completed"
    },
    "tags": []
   },
   "outputs": [
    {
     "data": {
      "text/plain": [
       "gear\n",
       "False    88.357166\n",
       "True     11.642834\n",
       "Name: count, dtype: float64"
      ]
     },
     "execution_count": 78,
     "metadata": {},
     "output_type": "execute_result"
    }
   ],
   "source": [
    "data.gear.isnull().value_counts()/data.shape[0]*100"
   ]
  },
  {
   "cell_type": "code",
   "execution_count": 79,
   "id": "1baf81b8",
   "metadata": {
    "execution": {
     "iopub.execute_input": "2024-10-09T09:57:40.507193Z",
     "iopub.status.busy": "2024-10-09T09:57:40.506816Z",
     "iopub.status.idle": "2024-10-09T09:57:40.524402Z",
     "shell.execute_reply": "2024-10-09T09:57:40.523530Z"
    },
    "papermill": {
     "duration": 0.066929,
     "end_time": "2024-10-09T09:57:40.526336",
     "exception": false,
     "start_time": "2024-10-09T09:57:40.459407",
     "status": "completed"
    },
    "tags": []
   },
   "outputs": [
    {
     "data": {
      "text/html": [
       "<div>\n",
       "<style scoped>\n",
       "    .dataframe tbody tr th:only-of-type {\n",
       "        vertical-align: middle;\n",
       "    }\n",
       "\n",
       "    .dataframe tbody tr th {\n",
       "        vertical-align: top;\n",
       "    }\n",
       "\n",
       "    .dataframe thead th {\n",
       "        text-align: right;\n",
       "    }\n",
       "</style>\n",
       "<table border=\"1\" class=\"dataframe\">\n",
       "  <thead>\n",
       "    <tr style=\"text-align: right;\">\n",
       "      <th></th>\n",
       "      <th>horsepower</th>\n",
       "      <th>cylinders</th>\n",
       "    </tr>\n",
       "  </thead>\n",
       "  <tbody>\n",
       "    <tr>\n",
       "      <th>11</th>\n",
       "      <td>NaN</td>\n",
       "      <td>NaN</td>\n",
       "    </tr>\n",
       "    <tr>\n",
       "      <th>20</th>\n",
       "      <td>NaN</td>\n",
       "      <td>NaN</td>\n",
       "    </tr>\n",
       "    <tr>\n",
       "      <th>32</th>\n",
       "      <td>NaN</td>\n",
       "      <td>NaN</td>\n",
       "    </tr>\n",
       "    <tr>\n",
       "      <th>44</th>\n",
       "      <td>NaN</td>\n",
       "      <td>NaN</td>\n",
       "    </tr>\n",
       "    <tr>\n",
       "      <th>51</th>\n",
       "      <td>NaN</td>\n",
       "      <td>NaN</td>\n",
       "    </tr>\n",
       "  </tbody>\n",
       "</table>\n",
       "</div>"
      ],
      "text/plain": [
       "    horsepower  cylinders\n",
       "11         NaN        NaN\n",
       "20         NaN        NaN\n",
       "32         NaN        NaN\n",
       "44         NaN        NaN\n",
       "51         NaN        NaN"
      ]
     },
     "execution_count": 79,
     "metadata": {},
     "output_type": "execute_result"
    }
   ],
   "source": [
    "data[data.cylinders.isnull()][['horsepower','cylinders']].head()"
   ]
  },
  {
   "cell_type": "code",
   "execution_count": 80,
   "id": "fd2529bc",
   "metadata": {
    "execution": {
     "iopub.execute_input": "2024-10-09T09:57:40.622793Z",
     "iopub.status.busy": "2024-10-09T09:57:40.622480Z",
     "iopub.status.idle": "2024-10-09T09:57:40.626180Z",
     "shell.execute_reply": "2024-10-09T09:57:40.625452Z"
    },
    "papermill": {
     "duration": 0.053509,
     "end_time": "2024-10-09T09:57:40.628112",
     "exception": false,
     "start_time": "2024-10-09T09:57:40.574603",
     "status": "completed"
    },
    "tags": []
   },
   "outputs": [],
   "source": [
    "# Creating model to fill all other missing value"
   ]
  },
  {
   "cell_type": "code",
   "execution_count": 81,
   "id": "dca78da2",
   "metadata": {
    "execution": {
     "iopub.execute_input": "2024-10-09T09:57:40.724471Z",
     "iopub.status.busy": "2024-10-09T09:57:40.724152Z",
     "iopub.status.idle": "2024-10-09T09:57:40.727879Z",
     "shell.execute_reply": "2024-10-09T09:57:40.727067Z"
    },
    "papermill": {
     "duration": 0.053548,
     "end_time": "2024-10-09T09:57:40.729725",
     "exception": false,
     "start_time": "2024-10-09T09:57:40.676177",
     "status": "completed"
    },
    "tags": []
   },
   "outputs": [],
   "source": [
    "# Fillling HorsePower"
   ]
  },
  {
   "cell_type": "code",
   "execution_count": 82,
   "id": "7bf6ffbf",
   "metadata": {
    "execution": {
     "iopub.execute_input": "2024-10-09T09:57:40.823937Z",
     "iopub.status.busy": "2024-10-09T09:57:40.823657Z",
     "iopub.status.idle": "2024-10-09T09:57:41.473862Z",
     "shell.execute_reply": "2024-10-09T09:57:41.472818Z"
    },
    "papermill": {
     "duration": 0.700033,
     "end_time": "2024-10-09T09:57:41.476199",
     "exception": false,
     "start_time": "2024-10-09T09:57:40.776166",
     "status": "completed"
    },
    "tags": []
   },
   "outputs": [],
   "source": [
    "# Fill remaining NaN values for horsepower using a predictive model\n",
    "from sklearn.ensemble import RandomForestRegressor\n",
    "from sklearn.model_selection import cross_val_score\n",
    "# Subset data into complete and incomplete cases\n",
    "complete_hp = data[(data['horsepower'].notnull()) ]\n",
    "incomplete_hp = data[(data['horsepower'].isnull())]\n",
    "\n",
    "# Train the model on complete data\n",
    "X_train_hp = pd.get_dummies(complete_hp[['engine_size','brand','model_year','trans_type']],drop_first =True,dtype = int)\n",
    "y_train_hp = complete_hp['horsepower']\n",
    "\n",
    "\n",
    "#cross_val_score(RandomForestRegressor(),X_train_hp, y_train_hp,cv=5)"
   ]
  },
  {
   "cell_type": "code",
   "execution_count": 83,
   "id": "24515d18",
   "metadata": {
    "execution": {
     "iopub.execute_input": "2024-10-09T09:57:41.572506Z",
     "iopub.status.busy": "2024-10-09T09:57:41.572150Z",
     "iopub.status.idle": "2024-10-09T09:58:19.941616Z",
     "shell.execute_reply": "2024-10-09T09:58:19.940813Z"
    },
    "papermill": {
     "duration": 38.419381,
     "end_time": "2024-10-09T09:58:19.943821",
     "exception": false,
     "start_time": "2024-10-09T09:57:41.524440",
     "status": "completed"
    },
    "tags": []
   },
   "outputs": [],
   "source": [
    "model_hp = RandomForestRegressor()\n",
    "model_hp.fit(X_train_hp, y_train_hp)\n",
    "\n",
    "\n",
    "# Predict missing horsepower values\n",
    "X_null_hp = pd.get_dummies(incomplete_hp[['engine_size', 'brand', 'model_year','trans_type']],drop_first = True , dtype =int)\n",
    "X_null_hp = X_null_hp.reindex(columns=X_train_hp.columns, fill_value=0)\n",
    "data.loc[data['horsepower'].isnull(), 'horsepower'] = model_hp.predict(X_null_hp)\n",
    "\n",
    "incomplete_test_hp = test[(test['horsepower'].isnull())]\n",
    "X2_null_hp = pd.get_dummies(incomplete_test_hp[['engine_size', 'brand', 'model_year','trans_type']],drop_first = True , dtype =int)\n",
    "X2_null_hp = X2_null_hp.reindex(columns=X_train_hp.columns, fill_value=0)\n",
    "test.loc[test['horsepower'].isnull(), 'horsepower'] = model_hp.predict(X2_null_hp)"
   ]
  },
  {
   "cell_type": "code",
   "execution_count": 84,
   "id": "07be1f66",
   "metadata": {
    "execution": {
     "iopub.execute_input": "2024-10-09T09:58:20.039436Z",
     "iopub.status.busy": "2024-10-09T09:58:20.039090Z",
     "iopub.status.idle": "2024-10-09T09:58:20.042968Z",
     "shell.execute_reply": "2024-10-09T09:58:20.042128Z"
    },
    "papermill": {
     "duration": 0.053875,
     "end_time": "2024-10-09T09:58:20.044941",
     "exception": false,
     "start_time": "2024-10-09T09:58:19.991066",
     "status": "completed"
    },
    "tags": []
   },
   "outputs": [],
   "source": [
    "# Filling Cylinders"
   ]
  },
  {
   "cell_type": "code",
   "execution_count": 85,
   "id": "c77b085e",
   "metadata": {
    "execution": {
     "iopub.execute_input": "2024-10-09T09:58:20.142281Z",
     "iopub.status.busy": "2024-10-09T09:58:20.141747Z",
     "iopub.status.idle": "2024-10-09T09:58:20.304364Z",
     "shell.execute_reply": "2024-10-09T09:58:20.303332Z"
    },
    "papermill": {
     "duration": 0.214307,
     "end_time": "2024-10-09T09:58:20.306880",
     "exception": false,
     "start_time": "2024-10-09T09:58:20.092573",
     "status": "completed"
    },
    "tags": []
   },
   "outputs": [],
   "source": [
    "# Fill remaining NaN values for horsepower using a predictive model\n",
    "from sklearn.ensemble import RandomForestRegressor\n",
    "from sklearn.model_selection import cross_val_score\n",
    "# Subset data into complete and incomplete cases\n",
    "complete_hp = data[(data['cylinders'].notnull()) ]\n",
    "incomplete_hp = data[(data['cylinders'].isnull())]\n",
    "\n",
    "# Train the model on complete data\n",
    "X_train_hp = pd.get_dummies(complete_hp[['engine_size','brand','model_year','trans_type','horsepower']],drop_first =True,dtype = int)\n",
    "y_train_hp = complete_hp['cylinders']\n",
    "\n",
    "\n",
    "#cross_val_score(RandomForestRegressor(),X_train_hp, y_train_hp,cv=5)"
   ]
  },
  {
   "cell_type": "code",
   "execution_count": 86,
   "id": "8e547c1e",
   "metadata": {
    "execution": {
     "iopub.execute_input": "2024-10-09T09:58:20.403647Z",
     "iopub.status.busy": "2024-10-09T09:58:20.403298Z",
     "iopub.status.idle": "2024-10-09T09:58:56.270254Z",
     "shell.execute_reply": "2024-10-09T09:58:56.269464Z"
    },
    "papermill": {
     "duration": 35.917411,
     "end_time": "2024-10-09T09:58:56.272553",
     "exception": false,
     "start_time": "2024-10-09T09:58:20.355142",
     "status": "completed"
    },
    "tags": []
   },
   "outputs": [],
   "source": [
    "model_hp = RandomForestRegressor()\n",
    "model_hp.fit(X_train_hp, y_train_hp)\n",
    "\n",
    "\n",
    "# Predict missing horsepower values\n",
    "X_null_hp = pd.get_dummies(incomplete_hp[['engine_size', 'brand', 'model_year','trans_type','horsepower']],drop_first = True , dtype =int)\n",
    "X_null_hp = X_null_hp.reindex(columns=X_train_hp.columns, fill_value=0)\n",
    "data.loc[data['cylinders'].isnull(), 'cylinders'] = model_hp.predict(X_null_hp)\n",
    "\n",
    "incomplete_test_hp = test[(test['cylinders'].isnull())]\n",
    "X2_null_hp = pd.get_dummies(incomplete_test_hp[['engine_size', 'brand', 'model_year','trans_type','horsepower']],drop_first = True , dtype =int)\n",
    "X2_null_hp = X2_null_hp.reindex(columns=X_train_hp.columns, fill_value=0)\n",
    "test.loc[test['cylinders'].isnull(), 'cylinders'] = model_hp.predict(X2_null_hp)"
   ]
  },
  {
   "cell_type": "code",
   "execution_count": 87,
   "id": "78938ce6",
   "metadata": {
    "execution": {
     "iopub.execute_input": "2024-10-09T09:58:56.407171Z",
     "iopub.status.busy": "2024-10-09T09:58:56.406347Z",
     "iopub.status.idle": "2024-10-09T09:58:56.410550Z",
     "shell.execute_reply": "2024-10-09T09:58:56.409657Z"
    },
    "papermill": {
     "duration": 0.054556,
     "end_time": "2024-10-09T09:58:56.412677",
     "exception": false,
     "start_time": "2024-10-09T09:58:56.358121",
     "status": "completed"
    },
    "tags": []
   },
   "outputs": [],
   "source": [
    "#Finding Gears"
   ]
  },
  {
   "cell_type": "code",
   "execution_count": 88,
   "id": "44809186",
   "metadata": {
    "execution": {
     "iopub.execute_input": "2024-10-09T09:58:56.506151Z",
     "iopub.status.busy": "2024-10-09T09:58:56.505619Z",
     "iopub.status.idle": "2024-10-09T09:58:56.675540Z",
     "shell.execute_reply": "2024-10-09T09:58:56.674735Z"
    },
    "papermill": {
     "duration": 0.219026,
     "end_time": "2024-10-09T09:58:56.677732",
     "exception": false,
     "start_time": "2024-10-09T09:58:56.458706",
     "status": "completed"
    },
    "tags": []
   },
   "outputs": [],
   "source": [
    "# Fill remaining NaN values for horsepower using a predictive model\n",
    "from sklearn.ensemble import RandomForestRegressor\n",
    "from sklearn.model_selection import cross_val_score\n",
    "from sklearn.model_selection import train_test_split\n",
    "# Subset data into complete and incomplete cases\n",
    "complete_hp = data[(data['gear'].notnull()) ]\n",
    "incomplete_hp = data[(data['gear'].isnull())]\n",
    "\n",
    "# Train the model on complete data\n",
    "X_train_hp = pd.get_dummies(complete_hp[['engine_size','brand','model_year','trans_type','fuel_type','horsepower','cylinders',]],drop_first =True,dtype = int)\n",
    "y_train_hp = complete_hp['gear']\n",
    "\n",
    "#X_train, X_test, y_train, y_test = train_test_split(X_train_hp,y_train_hp,test_size=0.3)\n",
    "\n",
    "#score=cross_val_score(RandomForestRegressor(),X_train, y_train,cv=5)\n",
    "\n",
    "#model_hp = RandomForestRegressor()\n",
    "#model_hp.fit(X_test, y_test)\n",
    "\n",
    "#print(f'train score : {score.mean()}')\n",
    "#print(f'test score : {model_hp.score(X_test,y_test)}')"
   ]
  },
  {
   "cell_type": "code",
   "execution_count": null,
   "id": "a06507af",
   "metadata": {
    "papermill": {
     "duration": 0.046939,
     "end_time": "2024-10-09T09:58:56.771625",
     "exception": false,
     "start_time": "2024-10-09T09:58:56.724686",
     "status": "completed"
    },
    "tags": []
   },
   "outputs": [],
   "source": []
  },
  {
   "cell_type": "code",
   "execution_count": 89,
   "id": "77e97a1d",
   "metadata": {
    "execution": {
     "iopub.execute_input": "2024-10-09T09:58:56.865839Z",
     "iopub.status.busy": "2024-10-09T09:58:56.865482Z",
     "iopub.status.idle": "2024-10-09T09:59:54.420420Z",
     "shell.execute_reply": "2024-10-09T09:59:54.419563Z"
    },
    "papermill": {
     "duration": 57.605141,
     "end_time": "2024-10-09T09:59:54.422935",
     "exception": false,
     "start_time": "2024-10-09T09:58:56.817794",
     "status": "completed"
    },
    "tags": []
   },
   "outputs": [],
   "source": [
    "model_hp = RandomForestRegressor()\n",
    "model_hp.fit(X_train_hp, y_train_hp)\n",
    "\n",
    "\n",
    "# Predict missing horsepower values\n",
    "X_null_hp = pd.get_dummies(incomplete_hp[['engine_size', 'brand', 'model_year','trans_type','horsepower','cylinders','fuel_type']],drop_first = True , dtype =int)\n",
    "X_null_hp = X_null_hp.reindex(columns=X_train_hp.columns, fill_value=0)\n",
    "data.loc[data['gear'].isnull(), 'gear'] = model_hp.predict(X_null_hp)\n",
    "\n",
    "incomplete_test_hp = test[(test['gear'].isnull())]\n",
    "X2_null_hp = pd.get_dummies(incomplete_test_hp[['engine_size', 'brand', 'model_year','trans_type','horsepower','cylinders','fuel_type']],drop_first = True , dtype =int)\n",
    "X2_null_hp = X2_null_hp.reindex(columns=X_train_hp.columns, fill_value=0)\n",
    "test.loc[test['gear'].isnull(), 'gear'] = model_hp.predict(X2_null_hp)"
   ]
  },
  {
   "cell_type": "code",
   "execution_count": 90,
   "id": "aee4465c",
   "metadata": {
    "execution": {
     "iopub.execute_input": "2024-10-09T09:59:54.517743Z",
     "iopub.status.busy": "2024-10-09T09:59:54.517382Z",
     "iopub.status.idle": "2024-10-09T09:59:54.692744Z",
     "shell.execute_reply": "2024-10-09T09:59:54.691819Z"
    },
    "papermill": {
     "duration": 0.224446,
     "end_time": "2024-10-09T09:59:54.694698",
     "exception": false,
     "start_time": "2024-10-09T09:59:54.470252",
     "status": "completed"
    },
    "tags": []
   },
   "outputs": [
    {
     "data": {
      "text/plain": [
       "id              0\n",
       "brand           0\n",
       "model           0\n",
       "model_year      0\n",
       "milage          0\n",
       "fuel_type       0\n",
       "engine          0\n",
       "transmission    0\n",
       "ext_col         0\n",
       "int_col         0\n",
       "accident        0\n",
       "clean_title     0\n",
       "price           0\n",
       "trans_type      0\n",
       "gear            0\n",
       "horsepower      0\n",
       "engine_size     0\n",
       "cylinders       0\n",
       "dtype: int64"
      ]
     },
     "execution_count": 90,
     "metadata": {},
     "output_type": "execute_result"
    }
   ],
   "source": [
    "data.isna().sum()"
   ]
  },
  {
   "cell_type": "code",
   "execution_count": null,
   "id": "e8a5c2c7",
   "metadata": {
    "papermill": {
     "duration": 0.045951,
     "end_time": "2024-10-09T09:59:54.788186",
     "exception": false,
     "start_time": "2024-10-09T09:59:54.742235",
     "status": "completed"
    },
    "tags": []
   },
   "outputs": [],
   "source": []
  },
  {
   "cell_type": "code",
   "execution_count": 91,
   "id": "9f437a96",
   "metadata": {
    "execution": {
     "iopub.execute_input": "2024-10-09T09:59:54.881778Z",
     "iopub.status.busy": "2024-10-09T09:59:54.881443Z",
     "iopub.status.idle": "2024-10-09T09:59:54.952648Z",
     "shell.execute_reply": "2024-10-09T09:59:54.951732Z"
    },
    "papermill": {
     "duration": 0.120613,
     "end_time": "2024-10-09T09:59:54.954912",
     "exception": false,
     "start_time": "2024-10-09T09:59:54.834299",
     "status": "completed"
    },
    "tags": []
   },
   "outputs": [
    {
     "data": {
      "text/html": [
       "<div>\n",
       "<style scoped>\n",
       "    .dataframe tbody tr th:only-of-type {\n",
       "        vertical-align: middle;\n",
       "    }\n",
       "\n",
       "    .dataframe tbody tr th {\n",
       "        vertical-align: top;\n",
       "    }\n",
       "\n",
       "    .dataframe thead th {\n",
       "        text-align: right;\n",
       "    }\n",
       "</style>\n",
       "<table border=\"1\" class=\"dataframe\">\n",
       "  <thead>\n",
       "    <tr style=\"text-align: right;\">\n",
       "      <th></th>\n",
       "      <th>id</th>\n",
       "      <th>brand</th>\n",
       "      <th>model</th>\n",
       "      <th>model_year</th>\n",
       "      <th>milage</th>\n",
       "      <th>fuel_type</th>\n",
       "      <th>engine</th>\n",
       "      <th>transmission</th>\n",
       "      <th>ext_col</th>\n",
       "      <th>int_col</th>\n",
       "      <th>accident</th>\n",
       "      <th>clean_title</th>\n",
       "      <th>price</th>\n",
       "      <th>trans_type</th>\n",
       "      <th>gear</th>\n",
       "      <th>horsepower</th>\n",
       "      <th>engine_size</th>\n",
       "      <th>cylinders</th>\n",
       "      <th>test_train</th>\n",
       "    </tr>\n",
       "  </thead>\n",
       "  <tbody>\n",
       "    <tr>\n",
       "      <th>0</th>\n",
       "      <td>0</td>\n",
       "      <td>MINI</td>\n",
       "      <td>Cooper S Base</td>\n",
       "      <td>2007</td>\n",
       "      <td>213000</td>\n",
       "      <td>Gasoline</td>\n",
       "      <td>172.0HP 1.6L 4 Cylinder Engine Gasoline Fuel</td>\n",
       "      <td>A/T</td>\n",
       "      <td>Yellow</td>\n",
       "      <td>Gray</td>\n",
       "      <td>None reported</td>\n",
       "      <td>Yes</td>\n",
       "      <td>4200.0</td>\n",
       "      <td>Automatic</td>\n",
       "      <td>6.000000</td>\n",
       "      <td>172.000000</td>\n",
       "      <td>1.6</td>\n",
       "      <td>4.0</td>\n",
       "      <td>1</td>\n",
       "    </tr>\n",
       "    <tr>\n",
       "      <th>1</th>\n",
       "      <td>1</td>\n",
       "      <td>Lincoln</td>\n",
       "      <td>LS V8</td>\n",
       "      <td>2002</td>\n",
       "      <td>143250</td>\n",
       "      <td>Gasoline</td>\n",
       "      <td>252.0HP 3.9L 8 Cylinder Engine Gasoline Fuel</td>\n",
       "      <td>A/T</td>\n",
       "      <td>Silver</td>\n",
       "      <td>Beige</td>\n",
       "      <td>At least 1 accident or damage reported</td>\n",
       "      <td>Yes</td>\n",
       "      <td>4999.0</td>\n",
       "      <td>Automatic</td>\n",
       "      <td>5.000000</td>\n",
       "      <td>252.000000</td>\n",
       "      <td>3.9</td>\n",
       "      <td>8.0</td>\n",
       "      <td>1</td>\n",
       "    </tr>\n",
       "    <tr>\n",
       "      <th>2</th>\n",
       "      <td>2</td>\n",
       "      <td>Chevrolet</td>\n",
       "      <td>Silverado 2500 LT</td>\n",
       "      <td>2002</td>\n",
       "      <td>136731</td>\n",
       "      <td>Gasoline</td>\n",
       "      <td>320.0HP 5.3L 8 Cylinder Engine Flex Fuel Capab...</td>\n",
       "      <td>A/T</td>\n",
       "      <td>Blue</td>\n",
       "      <td>Gray</td>\n",
       "      <td>None reported</td>\n",
       "      <td>Yes</td>\n",
       "      <td>13900.0</td>\n",
       "      <td>Automatic</td>\n",
       "      <td>6.000000</td>\n",
       "      <td>320.000000</td>\n",
       "      <td>5.3</td>\n",
       "      <td>8.0</td>\n",
       "      <td>1</td>\n",
       "    </tr>\n",
       "    <tr>\n",
       "      <th>3</th>\n",
       "      <td>3</td>\n",
       "      <td>Genesis</td>\n",
       "      <td>G90 5.0 Ultimate</td>\n",
       "      <td>2017</td>\n",
       "      <td>19500</td>\n",
       "      <td>Gasoline</td>\n",
       "      <td>420.0HP 5.0L 8 Cylinder Engine Gasoline Fuel</td>\n",
       "      <td>Transmission w/Dual Shift Mode</td>\n",
       "      <td>Black</td>\n",
       "      <td>Black</td>\n",
       "      <td>None reported</td>\n",
       "      <td>Yes</td>\n",
       "      <td>45000.0</td>\n",
       "      <td>Other</td>\n",
       "      <td>7.249345</td>\n",
       "      <td>420.000000</td>\n",
       "      <td>5.0</td>\n",
       "      <td>8.0</td>\n",
       "      <td>1</td>\n",
       "    </tr>\n",
       "    <tr>\n",
       "      <th>4</th>\n",
       "      <td>4</td>\n",
       "      <td>Mercedes-Benz</td>\n",
       "      <td>Metris Base</td>\n",
       "      <td>2021</td>\n",
       "      <td>7388</td>\n",
       "      <td>Gasoline</td>\n",
       "      <td>208.0HP 2.0L 4 Cylinder Engine Gasoline Fuel</td>\n",
       "      <td>7-Speed A/T</td>\n",
       "      <td>Black</td>\n",
       "      <td>Beige</td>\n",
       "      <td>None reported</td>\n",
       "      <td>Yes</td>\n",
       "      <td>97500.0</td>\n",
       "      <td>Automatic</td>\n",
       "      <td>7.000000</td>\n",
       "      <td>208.000000</td>\n",
       "      <td>2.0</td>\n",
       "      <td>4.0</td>\n",
       "      <td>1</td>\n",
       "    </tr>\n",
       "    <tr>\n",
       "      <th>...</th>\n",
       "      <td>...</td>\n",
       "      <td>...</td>\n",
       "      <td>...</td>\n",
       "      <td>...</td>\n",
       "      <td>...</td>\n",
       "      <td>...</td>\n",
       "      <td>...</td>\n",
       "      <td>...</td>\n",
       "      <td>...</td>\n",
       "      <td>...</td>\n",
       "      <td>...</td>\n",
       "      <td>...</td>\n",
       "      <td>...</td>\n",
       "      <td>...</td>\n",
       "      <td>...</td>\n",
       "      <td>...</td>\n",
       "      <td>...</td>\n",
       "      <td>...</td>\n",
       "      <td>...</td>\n",
       "    </tr>\n",
       "    <tr>\n",
       "      <th>125685</th>\n",
       "      <td>314218</td>\n",
       "      <td>Mercedes-Benz</td>\n",
       "      <td>GL-Class GL 450 4MATIC</td>\n",
       "      <td>2014</td>\n",
       "      <td>83315</td>\n",
       "      <td>Diesel</td>\n",
       "      <td>362.0HP 3.0L V6 Cylinder Engine Gasoline Fuel</td>\n",
       "      <td>7-Speed A/T</td>\n",
       "      <td>Black</td>\n",
       "      <td>Black</td>\n",
       "      <td>None reported</td>\n",
       "      <td>Yes</td>\n",
       "      <td>NaN</td>\n",
       "      <td>Automatic</td>\n",
       "      <td>7.000000</td>\n",
       "      <td>362.000000</td>\n",
       "      <td>3.0</td>\n",
       "      <td>6.0</td>\n",
       "      <td>0</td>\n",
       "    </tr>\n",
       "    <tr>\n",
       "      <th>125686</th>\n",
       "      <td>314219</td>\n",
       "      <td>Audi</td>\n",
       "      <td>Q7 55 Prestige</td>\n",
       "      <td>2019</td>\n",
       "      <td>29336</td>\n",
       "      <td>Diesel</td>\n",
       "      <td>3.0 Liter Turbo</td>\n",
       "      <td>Automatic</td>\n",
       "      <td>White</td>\n",
       "      <td>Black</td>\n",
       "      <td>None reported</td>\n",
       "      <td>No</td>\n",
       "      <td>NaN</td>\n",
       "      <td>Automatic</td>\n",
       "      <td>8.000000</td>\n",
       "      <td>154.218431</td>\n",
       "      <td>0.0</td>\n",
       "      <td>3.0</td>\n",
       "      <td>0</td>\n",
       "    </tr>\n",
       "    <tr>\n",
       "      <th>125687</th>\n",
       "      <td>314220</td>\n",
       "      <td>Audi</td>\n",
       "      <td>A6 3.0T Premium Plus</td>\n",
       "      <td>2012</td>\n",
       "      <td>77634</td>\n",
       "      <td>Diesel</td>\n",
       "      <td>333.0HP 3.0L V6 Cylinder Engine Gasoline Fuel</td>\n",
       "      <td>A/T</td>\n",
       "      <td>Black</td>\n",
       "      <td>Black</td>\n",
       "      <td>None reported</td>\n",
       "      <td>Yes</td>\n",
       "      <td>NaN</td>\n",
       "      <td>Automatic</td>\n",
       "      <td>8.000000</td>\n",
       "      <td>333.000000</td>\n",
       "      <td>3.0</td>\n",
       "      <td>6.0</td>\n",
       "      <td>0</td>\n",
       "    </tr>\n",
       "    <tr>\n",
       "      <th>125688</th>\n",
       "      <td>314221</td>\n",
       "      <td>Audi</td>\n",
       "      <td>Q7 3.0T Premium</td>\n",
       "      <td>2012</td>\n",
       "      <td>112000</td>\n",
       "      <td>Diesel</td>\n",
       "      <td>333.0HP 3.0L V6 Cylinder Engine Gasoline Fuel</td>\n",
       "      <td>A/T</td>\n",
       "      <td>Black</td>\n",
       "      <td>Black</td>\n",
       "      <td>None reported</td>\n",
       "      <td>Yes</td>\n",
       "      <td>NaN</td>\n",
       "      <td>Automatic</td>\n",
       "      <td>8.000000</td>\n",
       "      <td>333.000000</td>\n",
       "      <td>3.0</td>\n",
       "      <td>6.0</td>\n",
       "      <td>0</td>\n",
       "    </tr>\n",
       "    <tr>\n",
       "      <th>125689</th>\n",
       "      <td>314222</td>\n",
       "      <td>Chevrolet</td>\n",
       "      <td>Tahoe LT</td>\n",
       "      <td>2018</td>\n",
       "      <td>66840</td>\n",
       "      <td>Diesel</td>\n",
       "      <td>355.0HP 5.3L 8 Cylinder Engine Gasoline Fuel</td>\n",
       "      <td>A/T</td>\n",
       "      <td>Silver</td>\n",
       "      <td>Black</td>\n",
       "      <td>None reported</td>\n",
       "      <td>Yes</td>\n",
       "      <td>NaN</td>\n",
       "      <td>Automatic</td>\n",
       "      <td>6.000000</td>\n",
       "      <td>355.000000</td>\n",
       "      <td>5.3</td>\n",
       "      <td>8.0</td>\n",
       "      <td>0</td>\n",
       "    </tr>\n",
       "  </tbody>\n",
       "</table>\n",
       "<p>311710 rows × 19 columns</p>\n",
       "</div>"
      ],
      "text/plain": [
       "            id          brand                   model  model_year  milage  \\\n",
       "0            0           MINI           Cooper S Base        2007  213000   \n",
       "1            1        Lincoln                   LS V8        2002  143250   \n",
       "2            2      Chevrolet       Silverado 2500 LT        2002  136731   \n",
       "3            3        Genesis        G90 5.0 Ultimate        2017   19500   \n",
       "4            4  Mercedes-Benz             Metris Base        2021    7388   \n",
       "...        ...            ...                     ...         ...     ...   \n",
       "125685  314218  Mercedes-Benz  GL-Class GL 450 4MATIC        2014   83315   \n",
       "125686  314219           Audi          Q7 55 Prestige        2019   29336   \n",
       "125687  314220           Audi    A6 3.0T Premium Plus        2012   77634   \n",
       "125688  314221           Audi         Q7 3.0T Premium        2012  112000   \n",
       "125689  314222      Chevrolet                Tahoe LT        2018   66840   \n",
       "\n",
       "       fuel_type                                             engine  \\\n",
       "0       Gasoline       172.0HP 1.6L 4 Cylinder Engine Gasoline Fuel   \n",
       "1       Gasoline       252.0HP 3.9L 8 Cylinder Engine Gasoline Fuel   \n",
       "2       Gasoline  320.0HP 5.3L 8 Cylinder Engine Flex Fuel Capab...   \n",
       "3       Gasoline       420.0HP 5.0L 8 Cylinder Engine Gasoline Fuel   \n",
       "4       Gasoline       208.0HP 2.0L 4 Cylinder Engine Gasoline Fuel   \n",
       "...          ...                                                ...   \n",
       "125685    Diesel      362.0HP 3.0L V6 Cylinder Engine Gasoline Fuel   \n",
       "125686    Diesel                                    3.0 Liter Turbo   \n",
       "125687    Diesel      333.0HP 3.0L V6 Cylinder Engine Gasoline Fuel   \n",
       "125688    Diesel      333.0HP 3.0L V6 Cylinder Engine Gasoline Fuel   \n",
       "125689    Diesel       355.0HP 5.3L 8 Cylinder Engine Gasoline Fuel   \n",
       "\n",
       "                          transmission ext_col int_col  \\\n",
       "0                                  A/T  Yellow    Gray   \n",
       "1                                  A/T  Silver   Beige   \n",
       "2                                  A/T    Blue    Gray   \n",
       "3       Transmission w/Dual Shift Mode   Black   Black   \n",
       "4                          7-Speed A/T   Black   Beige   \n",
       "...                                ...     ...     ...   \n",
       "125685                     7-Speed A/T   Black   Black   \n",
       "125686                       Automatic   White   Black   \n",
       "125687                             A/T   Black   Black   \n",
       "125688                             A/T   Black   Black   \n",
       "125689                             A/T  Silver   Black   \n",
       "\n",
       "                                      accident clean_title    price  \\\n",
       "0                                None reported         Yes   4200.0   \n",
       "1       At least 1 accident or damage reported         Yes   4999.0   \n",
       "2                                None reported         Yes  13900.0   \n",
       "3                                None reported         Yes  45000.0   \n",
       "4                                None reported         Yes  97500.0   \n",
       "...                                        ...         ...      ...   \n",
       "125685                           None reported         Yes      NaN   \n",
       "125686                           None reported          No      NaN   \n",
       "125687                           None reported         Yes      NaN   \n",
       "125688                           None reported         Yes      NaN   \n",
       "125689                           None reported         Yes      NaN   \n",
       "\n",
       "       trans_type      gear  horsepower  engine_size  cylinders  test_train  \n",
       "0       Automatic  6.000000  172.000000          1.6        4.0           1  \n",
       "1       Automatic  5.000000  252.000000          3.9        8.0           1  \n",
       "2       Automatic  6.000000  320.000000          5.3        8.0           1  \n",
       "3           Other  7.249345  420.000000          5.0        8.0           1  \n",
       "4       Automatic  7.000000  208.000000          2.0        4.0           1  \n",
       "...           ...       ...         ...          ...        ...         ...  \n",
       "125685  Automatic  7.000000  362.000000          3.0        6.0           0  \n",
       "125686  Automatic  8.000000  154.218431          0.0        3.0           0  \n",
       "125687  Automatic  8.000000  333.000000          3.0        6.0           0  \n",
       "125688  Automatic  8.000000  333.000000          3.0        6.0           0  \n",
       "125689  Automatic  6.000000  355.000000          5.3        8.0           0  \n",
       "\n",
       "[311710 rows x 19 columns]"
      ]
     },
     "execution_count": 91,
     "metadata": {},
     "output_type": "execute_result"
    }
   ],
   "source": [
    "data['test_train'] =1\n",
    "test['test_train'] =0\n",
    "test['price'] = np.NaN\n",
    "all_data = pd.concat([data,test])\n",
    "all_data"
   ]
  },
  {
   "cell_type": "code",
   "execution_count": 92,
   "id": "f16475c3",
   "metadata": {
    "execution": {
     "iopub.execute_input": "2024-10-09T09:59:55.052256Z",
     "iopub.status.busy": "2024-10-09T09:59:55.051977Z",
     "iopub.status.idle": "2024-10-09T09:59:56.391314Z",
     "shell.execute_reply": "2024-10-09T09:59:56.390242Z"
    },
    "papermill": {
     "duration": 1.38997,
     "end_time": "2024-10-09T09:59:56.394335",
     "exception": false,
     "start_time": "2024-10-09T09:59:55.004365",
     "status": "completed"
    },
    "tags": []
   },
   "outputs": [],
   "source": [
    "all_dummies = pd.get_dummies(all_data[['brand','model_year','milage','fuel_type','ext_col','int_col','accident','clean_title','trans_type','gear','horsepower','cylinders','test_train']],dtype = int)"
   ]
  },
  {
   "cell_type": "code",
   "execution_count": 93,
   "id": "86429b6a",
   "metadata": {
    "execution": {
     "iopub.execute_input": "2024-10-09T09:59:56.512381Z",
     "iopub.status.busy": "2024-10-09T09:59:56.511458Z",
     "iopub.status.idle": "2024-10-09T09:59:56.632442Z",
     "shell.execute_reply": "2024-10-09T09:59:56.631351Z"
    },
    "papermill": {
     "duration": 0.187202,
     "end_time": "2024-10-09T09:59:56.634822",
     "exception": false,
     "start_time": "2024-10-09T09:59:56.447620",
     "status": "completed"
    },
    "tags": []
   },
   "outputs": [
    {
     "data": {
      "text/html": [
       "<div>\n",
       "<style scoped>\n",
       "    .dataframe tbody tr th:only-of-type {\n",
       "        vertical-align: middle;\n",
       "    }\n",
       "\n",
       "    .dataframe tbody tr th {\n",
       "        vertical-align: top;\n",
       "    }\n",
       "\n",
       "    .dataframe thead th {\n",
       "        text-align: right;\n",
       "    }\n",
       "</style>\n",
       "<table border=\"1\" class=\"dataframe\">\n",
       "  <thead>\n",
       "    <tr style=\"text-align: right;\">\n",
       "      <th></th>\n",
       "      <th>model_year</th>\n",
       "      <th>milage</th>\n",
       "      <th>gear</th>\n",
       "      <th>horsepower</th>\n",
       "      <th>cylinders</th>\n",
       "      <th>test_train</th>\n",
       "      <th>brand_Acura</th>\n",
       "      <th>brand_Alfa</th>\n",
       "      <th>brand_Aston</th>\n",
       "      <th>brand_Audi</th>\n",
       "      <th>...</th>\n",
       "      <th>int_col_White / Brown</th>\n",
       "      <th>int_col_Yellow</th>\n",
       "      <th>int_col_–</th>\n",
       "      <th>accident_At least 1 accident or damage reported</th>\n",
       "      <th>accident_None reported</th>\n",
       "      <th>clean_title_No</th>\n",
       "      <th>clean_title_Yes</th>\n",
       "      <th>trans_type_Automatic</th>\n",
       "      <th>trans_type_Manual</th>\n",
       "      <th>trans_type_Other</th>\n",
       "    </tr>\n",
       "  </thead>\n",
       "  <tbody>\n",
       "    <tr>\n",
       "      <th>0</th>\n",
       "      <td>2007</td>\n",
       "      <td>213000</td>\n",
       "      <td>6.000000</td>\n",
       "      <td>172.000000</td>\n",
       "      <td>4.0</td>\n",
       "      <td>1</td>\n",
       "      <td>0</td>\n",
       "      <td>0</td>\n",
       "      <td>0</td>\n",
       "      <td>0</td>\n",
       "      <td>...</td>\n",
       "      <td>0</td>\n",
       "      <td>0</td>\n",
       "      <td>0</td>\n",
       "      <td>0</td>\n",
       "      <td>1</td>\n",
       "      <td>0</td>\n",
       "      <td>1</td>\n",
       "      <td>1</td>\n",
       "      <td>0</td>\n",
       "      <td>0</td>\n",
       "    </tr>\n",
       "    <tr>\n",
       "      <th>1</th>\n",
       "      <td>2002</td>\n",
       "      <td>143250</td>\n",
       "      <td>5.000000</td>\n",
       "      <td>252.000000</td>\n",
       "      <td>8.0</td>\n",
       "      <td>1</td>\n",
       "      <td>0</td>\n",
       "      <td>0</td>\n",
       "      <td>0</td>\n",
       "      <td>0</td>\n",
       "      <td>...</td>\n",
       "      <td>0</td>\n",
       "      <td>0</td>\n",
       "      <td>0</td>\n",
       "      <td>1</td>\n",
       "      <td>0</td>\n",
       "      <td>0</td>\n",
       "      <td>1</td>\n",
       "      <td>1</td>\n",
       "      <td>0</td>\n",
       "      <td>0</td>\n",
       "    </tr>\n",
       "    <tr>\n",
       "      <th>2</th>\n",
       "      <td>2002</td>\n",
       "      <td>136731</td>\n",
       "      <td>6.000000</td>\n",
       "      <td>320.000000</td>\n",
       "      <td>8.0</td>\n",
       "      <td>1</td>\n",
       "      <td>0</td>\n",
       "      <td>0</td>\n",
       "      <td>0</td>\n",
       "      <td>0</td>\n",
       "      <td>...</td>\n",
       "      <td>0</td>\n",
       "      <td>0</td>\n",
       "      <td>0</td>\n",
       "      <td>0</td>\n",
       "      <td>1</td>\n",
       "      <td>0</td>\n",
       "      <td>1</td>\n",
       "      <td>1</td>\n",
       "      <td>0</td>\n",
       "      <td>0</td>\n",
       "    </tr>\n",
       "    <tr>\n",
       "      <th>3</th>\n",
       "      <td>2017</td>\n",
       "      <td>19500</td>\n",
       "      <td>7.249345</td>\n",
       "      <td>420.000000</td>\n",
       "      <td>8.0</td>\n",
       "      <td>1</td>\n",
       "      <td>0</td>\n",
       "      <td>0</td>\n",
       "      <td>0</td>\n",
       "      <td>0</td>\n",
       "      <td>...</td>\n",
       "      <td>0</td>\n",
       "      <td>0</td>\n",
       "      <td>0</td>\n",
       "      <td>0</td>\n",
       "      <td>1</td>\n",
       "      <td>0</td>\n",
       "      <td>1</td>\n",
       "      <td>0</td>\n",
       "      <td>0</td>\n",
       "      <td>1</td>\n",
       "    </tr>\n",
       "    <tr>\n",
       "      <th>4</th>\n",
       "      <td>2021</td>\n",
       "      <td>7388</td>\n",
       "      <td>7.000000</td>\n",
       "      <td>208.000000</td>\n",
       "      <td>4.0</td>\n",
       "      <td>1</td>\n",
       "      <td>0</td>\n",
       "      <td>0</td>\n",
       "      <td>0</td>\n",
       "      <td>0</td>\n",
       "      <td>...</td>\n",
       "      <td>0</td>\n",
       "      <td>0</td>\n",
       "      <td>0</td>\n",
       "      <td>0</td>\n",
       "      <td>1</td>\n",
       "      <td>0</td>\n",
       "      <td>1</td>\n",
       "      <td>1</td>\n",
       "      <td>0</td>\n",
       "      <td>0</td>\n",
       "    </tr>\n",
       "    <tr>\n",
       "      <th>...</th>\n",
       "      <td>...</td>\n",
       "      <td>...</td>\n",
       "      <td>...</td>\n",
       "      <td>...</td>\n",
       "      <td>...</td>\n",
       "      <td>...</td>\n",
       "      <td>...</td>\n",
       "      <td>...</td>\n",
       "      <td>...</td>\n",
       "      <td>...</td>\n",
       "      <td>...</td>\n",
       "      <td>...</td>\n",
       "      <td>...</td>\n",
       "      <td>...</td>\n",
       "      <td>...</td>\n",
       "      <td>...</td>\n",
       "      <td>...</td>\n",
       "      <td>...</td>\n",
       "      <td>...</td>\n",
       "      <td>...</td>\n",
       "      <td>...</td>\n",
       "    </tr>\n",
       "    <tr>\n",
       "      <th>125685</th>\n",
       "      <td>2014</td>\n",
       "      <td>83315</td>\n",
       "      <td>7.000000</td>\n",
       "      <td>362.000000</td>\n",
       "      <td>6.0</td>\n",
       "      <td>0</td>\n",
       "      <td>0</td>\n",
       "      <td>0</td>\n",
       "      <td>0</td>\n",
       "      <td>0</td>\n",
       "      <td>...</td>\n",
       "      <td>0</td>\n",
       "      <td>0</td>\n",
       "      <td>0</td>\n",
       "      <td>0</td>\n",
       "      <td>1</td>\n",
       "      <td>0</td>\n",
       "      <td>1</td>\n",
       "      <td>1</td>\n",
       "      <td>0</td>\n",
       "      <td>0</td>\n",
       "    </tr>\n",
       "    <tr>\n",
       "      <th>125686</th>\n",
       "      <td>2019</td>\n",
       "      <td>29336</td>\n",
       "      <td>8.000000</td>\n",
       "      <td>154.218431</td>\n",
       "      <td>3.0</td>\n",
       "      <td>0</td>\n",
       "      <td>0</td>\n",
       "      <td>0</td>\n",
       "      <td>0</td>\n",
       "      <td>1</td>\n",
       "      <td>...</td>\n",
       "      <td>0</td>\n",
       "      <td>0</td>\n",
       "      <td>0</td>\n",
       "      <td>0</td>\n",
       "      <td>1</td>\n",
       "      <td>1</td>\n",
       "      <td>0</td>\n",
       "      <td>1</td>\n",
       "      <td>0</td>\n",
       "      <td>0</td>\n",
       "    </tr>\n",
       "    <tr>\n",
       "      <th>125687</th>\n",
       "      <td>2012</td>\n",
       "      <td>77634</td>\n",
       "      <td>8.000000</td>\n",
       "      <td>333.000000</td>\n",
       "      <td>6.0</td>\n",
       "      <td>0</td>\n",
       "      <td>0</td>\n",
       "      <td>0</td>\n",
       "      <td>0</td>\n",
       "      <td>1</td>\n",
       "      <td>...</td>\n",
       "      <td>0</td>\n",
       "      <td>0</td>\n",
       "      <td>0</td>\n",
       "      <td>0</td>\n",
       "      <td>1</td>\n",
       "      <td>0</td>\n",
       "      <td>1</td>\n",
       "      <td>1</td>\n",
       "      <td>0</td>\n",
       "      <td>0</td>\n",
       "    </tr>\n",
       "    <tr>\n",
       "      <th>125688</th>\n",
       "      <td>2012</td>\n",
       "      <td>112000</td>\n",
       "      <td>8.000000</td>\n",
       "      <td>333.000000</td>\n",
       "      <td>6.0</td>\n",
       "      <td>0</td>\n",
       "      <td>0</td>\n",
       "      <td>0</td>\n",
       "      <td>0</td>\n",
       "      <td>1</td>\n",
       "      <td>...</td>\n",
       "      <td>0</td>\n",
       "      <td>0</td>\n",
       "      <td>0</td>\n",
       "      <td>0</td>\n",
       "      <td>1</td>\n",
       "      <td>0</td>\n",
       "      <td>1</td>\n",
       "      <td>1</td>\n",
       "      <td>0</td>\n",
       "      <td>0</td>\n",
       "    </tr>\n",
       "    <tr>\n",
       "      <th>125689</th>\n",
       "      <td>2018</td>\n",
       "      <td>66840</td>\n",
       "      <td>6.000000</td>\n",
       "      <td>355.000000</td>\n",
       "      <td>8.0</td>\n",
       "      <td>0</td>\n",
       "      <td>0</td>\n",
       "      <td>0</td>\n",
       "      <td>0</td>\n",
       "      <td>0</td>\n",
       "      <td>...</td>\n",
       "      <td>0</td>\n",
       "      <td>0</td>\n",
       "      <td>0</td>\n",
       "      <td>0</td>\n",
       "      <td>1</td>\n",
       "      <td>0</td>\n",
       "      <td>1</td>\n",
       "      <td>1</td>\n",
       "      <td>0</td>\n",
       "      <td>0</td>\n",
       "    </tr>\n",
       "  </tbody>\n",
       "</table>\n",
       "<p>311710 rows × 552 columns</p>\n",
       "</div>"
      ],
      "text/plain": [
       "        model_year  milage      gear  horsepower  cylinders  test_train  \\\n",
       "0             2007  213000  6.000000  172.000000        4.0           1   \n",
       "1             2002  143250  5.000000  252.000000        8.0           1   \n",
       "2             2002  136731  6.000000  320.000000        8.0           1   \n",
       "3             2017   19500  7.249345  420.000000        8.0           1   \n",
       "4             2021    7388  7.000000  208.000000        4.0           1   \n",
       "...            ...     ...       ...         ...        ...         ...   \n",
       "125685        2014   83315  7.000000  362.000000        6.0           0   \n",
       "125686        2019   29336  8.000000  154.218431        3.0           0   \n",
       "125687        2012   77634  8.000000  333.000000        6.0           0   \n",
       "125688        2012  112000  8.000000  333.000000        6.0           0   \n",
       "125689        2018   66840  6.000000  355.000000        8.0           0   \n",
       "\n",
       "        brand_Acura  brand_Alfa  brand_Aston  brand_Audi  ...  \\\n",
       "0                 0           0            0           0  ...   \n",
       "1                 0           0            0           0  ...   \n",
       "2                 0           0            0           0  ...   \n",
       "3                 0           0            0           0  ...   \n",
       "4                 0           0            0           0  ...   \n",
       "...             ...         ...          ...         ...  ...   \n",
       "125685            0           0            0           0  ...   \n",
       "125686            0           0            0           1  ...   \n",
       "125687            0           0            0           1  ...   \n",
       "125688            0           0            0           1  ...   \n",
       "125689            0           0            0           0  ...   \n",
       "\n",
       "        int_col_White / Brown  int_col_Yellow  int_col_–  \\\n",
       "0                           0               0          0   \n",
       "1                           0               0          0   \n",
       "2                           0               0          0   \n",
       "3                           0               0          0   \n",
       "4                           0               0          0   \n",
       "...                       ...             ...        ...   \n",
       "125685                      0               0          0   \n",
       "125686                      0               0          0   \n",
       "125687                      0               0          0   \n",
       "125688                      0               0          0   \n",
       "125689                      0               0          0   \n",
       "\n",
       "        accident_At least 1 accident or damage reported  \\\n",
       "0                                                     0   \n",
       "1                                                     1   \n",
       "2                                                     0   \n",
       "3                                                     0   \n",
       "4                                                     0   \n",
       "...                                                 ...   \n",
       "125685                                                0   \n",
       "125686                                                0   \n",
       "125687                                                0   \n",
       "125688                                                0   \n",
       "125689                                                0   \n",
       "\n",
       "        accident_None reported  clean_title_No  clean_title_Yes  \\\n",
       "0                            1               0                1   \n",
       "1                            0               0                1   \n",
       "2                            1               0                1   \n",
       "3                            1               0                1   \n",
       "4                            1               0                1   \n",
       "...                        ...             ...              ...   \n",
       "125685                       1               0                1   \n",
       "125686                       1               1                0   \n",
       "125687                       1               0                1   \n",
       "125688                       1               0                1   \n",
       "125689                       1               0                1   \n",
       "\n",
       "        trans_type_Automatic  trans_type_Manual  trans_type_Other  \n",
       "0                          1                  0                 0  \n",
       "1                          1                  0                 0  \n",
       "2                          1                  0                 0  \n",
       "3                          0                  0                 1  \n",
       "4                          1                  0                 0  \n",
       "...                      ...                ...               ...  \n",
       "125685                     1                  0                 0  \n",
       "125686                     1                  0                 0  \n",
       "125687                     1                  0                 0  \n",
       "125688                     1                  0                 0  \n",
       "125689                     1                  0                 0  \n",
       "\n",
       "[311710 rows x 552 columns]"
      ]
     },
     "execution_count": 93,
     "metadata": {},
     "output_type": "execute_result"
    }
   ],
   "source": [
    "all_dummies"
   ]
  },
  {
   "cell_type": "code",
   "execution_count": 94,
   "id": "2154e234",
   "metadata": {
    "execution": {
     "iopub.execute_input": "2024-10-09T09:59:56.734477Z",
     "iopub.status.busy": "2024-10-09T09:59:56.734134Z",
     "iopub.status.idle": "2024-10-09T09:59:56.741281Z",
     "shell.execute_reply": "2024-10-09T09:59:56.740387Z"
    },
    "papermill": {
     "duration": 0.058601,
     "end_time": "2024-10-09T09:59:56.743269",
     "exception": false,
     "start_time": "2024-10-09T09:59:56.684668",
     "status": "completed"
    },
    "tags": []
   },
   "outputs": [
    {
     "data": {
      "text/plain": [
       "\"from sklearn.compose import ColumnTransformer\\nfrom sklearn.preprocessing import StandardScaler\\n\\n# Assume df is your large dataset with many columns\\n# Define columns to scale (for this example: mileage and model_year)\\ncolumns_to_scale = ['milage', 'model_year','hp']\\n\\n# Use ColumnTransformer to scale specific columns\\npreprocessor = ColumnTransformer(\\n    transformers=[\\n        ('num', StandardScaler(), columns_to_scale),  # Scaling only 'mileage' and 'model_year'\\n    ],\\n    remainder='passthrough'  # Leave the other columns unchanged\\n)\\n\\n# Fit and transform the data\\n# Assuming df is large, this will handle it efficiently\\nscaled_data = preprocessor.fit_transform(all_dummies)\\n\\n# Convert the scaled data back to a DataFrame\\n# Since remainder='passthrough', original column order may change, so we rename them accordingly\\nscaled_all = pd.DataFrame(scaled_data, columns=columns_to_scale + [col for col in all_dummies.columns if col not in columns_to_scale])\\n\\n# Print the first few rows to check the output\\nscaled_all.head()\\n\""
      ]
     },
     "execution_count": 94,
     "metadata": {},
     "output_type": "execute_result"
    }
   ],
   "source": [
    "'''from sklearn.compose import ColumnTransformer\n",
    "from sklearn.preprocessing import StandardScaler\n",
    "\n",
    "# Assume df is your large dataset with many columns\n",
    "# Define columns to scale (for this example: mileage and model_year)\n",
    "columns_to_scale = ['milage', 'model_year','hp']\n",
    "\n",
    "# Use ColumnTransformer to scale specific columns\n",
    "preprocessor = ColumnTransformer(\n",
    "    transformers=[\n",
    "        ('num', StandardScaler(), columns_to_scale),  # Scaling only 'mileage' and 'model_year'\n",
    "    ],\n",
    "    remainder='passthrough'  # Leave the other columns unchanged\n",
    ")\n",
    "\n",
    "# Fit and transform the data\n",
    "# Assuming df is large, this will handle it efficiently\n",
    "scaled_data = preprocessor.fit_transform(all_dummies)\n",
    "\n",
    "# Convert the scaled data back to a DataFrame\n",
    "# Since remainder='passthrough', original column order may change, so we rename them accordingly\n",
    "scaled_all = pd.DataFrame(scaled_data, columns=columns_to_scale + [col for col in all_dummies.columns if col not in columns_to_scale])\n",
    "\n",
    "# Print the first few rows to check the output\n",
    "scaled_all.head()\n",
    "'''"
   ]
  },
  {
   "cell_type": "code",
   "execution_count": 95,
   "id": "ab17458c",
   "metadata": {
    "execution": {
     "iopub.execute_input": "2024-10-09T09:59:56.840175Z",
     "iopub.status.busy": "2024-10-09T09:59:56.839877Z",
     "iopub.status.idle": "2024-10-09T09:59:56.845728Z",
     "shell.execute_reply": "2024-10-09T09:59:56.844798Z"
    },
    "papermill": {
     "duration": 0.056285,
     "end_time": "2024-10-09T09:59:56.847637",
     "exception": false,
     "start_time": "2024-10-09T09:59:56.791352",
     "status": "completed"
    },
    "tags": []
   },
   "outputs": [
    {
     "data": {
      "text/plain": [
       "\"x_train = scaled_all[scaled_all.test_train == 1].drop(['test_train'], axis =1)\\nx_test = scaled_all[scaled_all.test_train == 0].drop(['test_train'], axis =1)\\n\\ny_train  = all_data[all_data.test_train == 1].price\\ny_train.shape,x_train.shape,x_test.shape\""
      ]
     },
     "execution_count": 95,
     "metadata": {},
     "output_type": "execute_result"
    }
   ],
   "source": [
    "'''x_train = scaled_all[scaled_all.test_train == 1].drop(['test_train'], axis =1)\n",
    "x_test = scaled_all[scaled_all.test_train == 0].drop(['test_train'], axis =1)\n",
    "\n",
    "y_train  = all_data[all_data.test_train == 1].price\n",
    "y_train.shape,x_train.shape,x_test.shape'''"
   ]
  },
  {
   "cell_type": "code",
   "execution_count": 96,
   "id": "365ef141",
   "metadata": {
    "execution": {
     "iopub.execute_input": "2024-10-09T09:59:56.944809Z",
     "iopub.status.busy": "2024-10-09T09:59:56.944444Z",
     "iopub.status.idle": "2024-10-09T09:59:56.948540Z",
     "shell.execute_reply": "2024-10-09T09:59:56.947750Z"
    },
    "papermill": {
     "duration": 0.054756,
     "end_time": "2024-10-09T09:59:56.950589",
     "exception": false,
     "start_time": "2024-10-09T09:59:56.895833",
     "status": "completed"
    },
    "tags": []
   },
   "outputs": [],
   "source": [
    "#x_train.shape"
   ]
  },
  {
   "cell_type": "code",
   "execution_count": 97,
   "id": "7c3995d5",
   "metadata": {
    "execution": {
     "iopub.execute_input": "2024-10-09T09:59:57.048642Z",
     "iopub.status.busy": "2024-10-09T09:59:57.048269Z",
     "iopub.status.idle": "2024-10-09T09:59:57.056663Z",
     "shell.execute_reply": "2024-10-09T09:59:57.055848Z"
    },
    "papermill": {
     "duration": 0.059497,
     "end_time": "2024-10-09T09:59:57.058620",
     "exception": false,
     "start_time": "2024-10-09T09:59:56.999123",
     "status": "completed"
    },
    "tags": []
   },
   "outputs": [],
   "source": [
    "# Lets train the data\n",
    "from sklearn.model_selection import cross_val_score\n",
    "from sklearn.linear_model import LogisticRegression\n",
    "from sklearn.linear_model import LinearRegression\n",
    "from sklearn.ensemble import RandomForestRegressor\n",
    "from sklearn.svm import SVR\n",
    "from sklearn.naive_bayes import GaussianNB\n",
    "from sklearn.linear_model import Ridge\n",
    "from sklearn.decomposition import PCA"
   ]
  },
  {
   "cell_type": "code",
   "execution_count": 98,
   "id": "3186c68d",
   "metadata": {
    "execution": {
     "iopub.execute_input": "2024-10-09T09:59:57.158287Z",
     "iopub.status.busy": "2024-10-09T09:59:57.157977Z",
     "iopub.status.idle": "2024-10-09T09:59:57.163459Z",
     "shell.execute_reply": "2024-10-09T09:59:57.162603Z"
    },
    "papermill": {
     "duration": 0.058052,
     "end_time": "2024-10-09T09:59:57.165703",
     "exception": false,
     "start_time": "2024-10-09T09:59:57.107651",
     "status": "completed"
    },
    "tags": []
   },
   "outputs": [
    {
     "data": {
      "text/plain": [
       "'pca = PCA(n_components=59)  # Adjust n_components based on variance explained\\nx_train_pca_L = pca.fit_transform(x_train)\\nx_test_pca_L = pca.transform(x_test)'"
      ]
     },
     "execution_count": 98,
     "metadata": {},
     "output_type": "execute_result"
    }
   ],
   "source": [
    "'''pca = PCA(n_components=59)  # Adjust n_components based on variance explained\n",
    "x_train_pca_L = pca.fit_transform(x_train)\n",
    "x_test_pca_L = pca.transform(x_test)'''"
   ]
  },
  {
   "cell_type": "code",
   "execution_count": 99,
   "id": "1fce963a",
   "metadata": {
    "execution": {
     "iopub.execute_input": "2024-10-09T09:59:57.267075Z",
     "iopub.status.busy": "2024-10-09T09:59:57.266269Z",
     "iopub.status.idle": "2024-10-09T09:59:57.270489Z",
     "shell.execute_reply": "2024-10-09T09:59:57.269631Z"
    },
    "papermill": {
     "duration": 0.055812,
     "end_time": "2024-10-09T09:59:57.272404",
     "exception": false,
     "start_time": "2024-10-09T09:59:57.216592",
     "status": "completed"
    },
    "tags": []
   },
   "outputs": [],
   "source": [
    "#x_train_pca_L.shape"
   ]
  },
  {
   "cell_type": "code",
   "execution_count": 100,
   "id": "9a0fffc4",
   "metadata": {
    "execution": {
     "iopub.execute_input": "2024-10-09T09:59:57.372601Z",
     "iopub.status.busy": "2024-10-09T09:59:57.372295Z",
     "iopub.status.idle": "2024-10-09T09:59:57.378017Z",
     "shell.execute_reply": "2024-10-09T09:59:57.377101Z"
    },
    "papermill": {
     "duration": 0.057923,
     "end_time": "2024-10-09T09:59:57.380279",
     "exception": false,
     "start_time": "2024-10-09T09:59:57.322356",
     "status": "completed"
    },
    "tags": []
   },
   "outputs": [
    {
     "data": {
      "text/plain": [
       "\"pca = PCA()\\npca.fit(X_train)\\nexplained_variance = np.cumsum(pca.explained_variance_ratio_)\\n\\nplt.plot(explained_variance)\\nplt.xlabel('Number of Components')\\nplt.ylabel('Cumulative Explained Variance')\\nplt.title('PCA Explained Variance')\\nplt.show()\""
      ]
     },
     "execution_count": 100,
     "metadata": {},
     "output_type": "execute_result"
    }
   ],
   "source": [
    "'''pca = PCA()\n",
    "pca.fit(X_train)\n",
    "explained_variance = np.cumsum(pca.explained_variance_ratio_)\n",
    "\n",
    "plt.plot(explained_variance)\n",
    "plt.xlabel('Number of Components')\n",
    "plt.ylabel('Cumulative Explained Variance')\n",
    "plt.title('PCA Explained Variance')\n",
    "plt.show()'''\n"
   ]
  },
  {
   "cell_type": "code",
   "execution_count": 101,
   "id": "17c7370c",
   "metadata": {
    "execution": {
     "iopub.execute_input": "2024-10-09T09:59:57.484964Z",
     "iopub.status.busy": "2024-10-09T09:59:57.484675Z",
     "iopub.status.idle": "2024-10-09T09:59:57.490335Z",
     "shell.execute_reply": "2024-10-09T09:59:57.489469Z"
    },
    "papermill": {
     "duration": 0.057135,
     "end_time": "2024-10-09T09:59:57.492374",
     "exception": false,
     "start_time": "2024-10-09T09:59:57.435239",
     "status": "completed"
    },
    "tags": []
   },
   "outputs": [
    {
     "data": {
      "text/plain": [
       "'# Determine the number of components that explain 95% of the variance\\npca = PCA()\\npca.fit(X_train)\\ncumulative_variance = np.cumsum(pca.explained_variance_ratio_)\\nnum_components_95 = np.argmax(cumulative_variance >= 0.95) + 1\\nprint(f\"Number of components that explain 95% of the variance: {num_components_95}\")'"
      ]
     },
     "execution_count": 101,
     "metadata": {},
     "output_type": "execute_result"
    }
   ],
   "source": [
    "'''# Determine the number of components that explain 95% of the variance\n",
    "pca = PCA()\n",
    "pca.fit(X_train)\n",
    "cumulative_variance = np.cumsum(pca.explained_variance_ratio_)\n",
    "num_components_95 = np.argmax(cumulative_variance >= 0.95) + 1\n",
    "print(f\"Number of components that explain 95% of the variance: {num_components_95}\")'''\n"
   ]
  },
  {
   "cell_type": "code",
   "execution_count": 102,
   "id": "ad1d0840",
   "metadata": {
    "execution": {
     "iopub.execute_input": "2024-10-09T09:59:57.591874Z",
     "iopub.status.busy": "2024-10-09T09:59:57.591559Z",
     "iopub.status.idle": "2024-10-09T09:59:57.597228Z",
     "shell.execute_reply": "2024-10-09T09:59:57.596353Z"
    },
    "papermill": {
     "duration": 0.057116,
     "end_time": "2024-10-09T09:59:57.599182",
     "exception": false,
     "start_time": "2024-10-09T09:59:57.542066",
     "status": "completed"
    },
    "tags": []
   },
   "outputs": [
    {
     "data": {
      "text/plain": [
       "\"model = Ridge(solver='saga', alpha=1.0, max_iter=1000)\\nscores = cross_val_score(model,x_train_pca_L,y_train,cv=5,scoring = 'neg_mean_squared_error')\\nrmse_scores = np.sqrt(-scores)\\n\\n# Print RMSE scores for each fold\\nprint(f'Cross-Validated RMSE Scores: {rmse_scores}')\\nprint(f'Mean RMSE: {rmse_scores.mean()}')\""
      ]
     },
     "execution_count": 102,
     "metadata": {},
     "output_type": "execute_result"
    }
   ],
   "source": [
    "'''model = Ridge(solver='saga', alpha=1.0, max_iter=1000)\n",
    "scores = cross_val_score(model,x_train_pca_L,y_train,cv=5,scoring = 'neg_mean_squared_error')\n",
    "rmse_scores = np.sqrt(-scores)\n",
    "\n",
    "# Print RMSE scores for each fold\n",
    "print(f'Cross-Validated RMSE Scores: {rmse_scores}')\n",
    "print(f'Mean RMSE: {rmse_scores.mean()}')'''"
   ]
  },
  {
   "cell_type": "code",
   "execution_count": 103,
   "id": "8cc7879f",
   "metadata": {
    "execution": {
     "iopub.execute_input": "2024-10-09T09:59:57.696927Z",
     "iopub.status.busy": "2024-10-09T09:59:57.696256Z",
     "iopub.status.idle": "2024-10-09T09:59:57.700031Z",
     "shell.execute_reply": "2024-10-09T09:59:57.699217Z"
    },
    "papermill": {
     "duration": 0.054139,
     "end_time": "2024-10-09T09:59:57.701794",
     "exception": false,
     "start_time": "2024-10-09T09:59:57.647655",
     "status": "completed"
    },
    "tags": []
   },
   "outputs": [],
   "source": [
    "#model.fit(x_train_pca_L,y_train)"
   ]
  },
  {
   "cell_type": "code",
   "execution_count": 104,
   "id": "ae3e1e18",
   "metadata": {
    "execution": {
     "iopub.execute_input": "2024-10-09T09:59:57.800348Z",
     "iopub.status.busy": "2024-10-09T09:59:57.799852Z",
     "iopub.status.idle": "2024-10-09T09:59:57.803505Z",
     "shell.execute_reply": "2024-10-09T09:59:57.802670Z"
    },
    "papermill": {
     "duration": 0.054723,
     "end_time": "2024-10-09T09:59:57.805281",
     "exception": false,
     "start_time": "2024-10-09T09:59:57.750558",
     "status": "completed"
    },
    "tags": []
   },
   "outputs": [],
   "source": [
    "#prediction = model.predict(x_test_pca_L)"
   ]
  },
  {
   "cell_type": "code",
   "execution_count": 105,
   "id": "61818499",
   "metadata": {
    "execution": {
     "iopub.execute_input": "2024-10-09T09:59:57.903310Z",
     "iopub.status.busy": "2024-10-09T09:59:57.903045Z",
     "iopub.status.idle": "2024-10-09T09:59:57.906656Z",
     "shell.execute_reply": "2024-10-09T09:59:57.905827Z"
    },
    "papermill": {
     "duration": 0.054652,
     "end_time": "2024-10-09T09:59:57.908476",
     "exception": false,
     "start_time": "2024-10-09T09:59:57.853824",
     "status": "completed"
    },
    "tags": []
   },
   "outputs": [],
   "source": [
    "#df = {'id':test.id , 'price' : prediction}"
   ]
  },
  {
   "cell_type": "code",
   "execution_count": 106,
   "id": "7cf22c4f",
   "metadata": {
    "execution": {
     "iopub.execute_input": "2024-10-09T09:59:58.007951Z",
     "iopub.status.busy": "2024-10-09T09:59:58.007337Z",
     "iopub.status.idle": "2024-10-09T09:59:58.011075Z",
     "shell.execute_reply": "2024-10-09T09:59:58.010222Z"
    },
    "papermill": {
     "duration": 0.055989,
     "end_time": "2024-10-09T09:59:58.012963",
     "exception": false,
     "start_time": "2024-10-09T09:59:57.956974",
     "status": "completed"
    },
    "tags": []
   },
   "outputs": [],
   "source": [
    "#submission = pd.DataFrame(data = df)\n",
    "#submission.to_csv('submission.csv',index = False)"
   ]
  },
  {
   "cell_type": "code",
   "execution_count": 107,
   "id": "9328d461",
   "metadata": {
    "execution": {
     "iopub.execute_input": "2024-10-09T09:59:58.112309Z",
     "iopub.status.busy": "2024-10-09T09:59:58.112016Z",
     "iopub.status.idle": "2024-10-09T09:59:58.116008Z",
     "shell.execute_reply": "2024-10-09T09:59:58.115142Z"
    },
    "papermill": {
     "duration": 0.056518,
     "end_time": "2024-10-09T09:59:58.117959",
     "exception": false,
     "start_time": "2024-10-09T09:59:58.061441",
     "status": "completed"
    },
    "tags": []
   },
   "outputs": [],
   "source": [
    "#submission.head()"
   ]
  },
  {
   "cell_type": "code",
   "execution_count": null,
   "id": "3eb03b4e",
   "metadata": {
    "papermill": {
     "duration": 0.048588,
     "end_time": "2024-10-09T09:59:58.217048",
     "exception": false,
     "start_time": "2024-10-09T09:59:58.168460",
     "status": "completed"
    },
    "tags": []
   },
   "outputs": [],
   "source": []
  },
  {
   "cell_type": "code",
   "execution_count": 108,
   "id": "26f1a1c4",
   "metadata": {
    "execution": {
     "iopub.execute_input": "2024-10-09T09:59:58.315346Z",
     "iopub.status.busy": "2024-10-09T09:59:58.314963Z",
     "iopub.status.idle": "2024-10-09T09:59:58.524157Z",
     "shell.execute_reply": "2024-10-09T09:59:58.523451Z"
    },
    "papermill": {
     "duration": 0.260821,
     "end_time": "2024-10-09T09:59:58.526124",
     "exception": false,
     "start_time": "2024-10-09T09:59:58.265303",
     "status": "completed"
    },
    "tags": []
   },
   "outputs": [],
   "source": [
    " import xgboost as xgb"
   ]
  },
  {
   "cell_type": "code",
   "execution_count": 109,
   "id": "61fccf68",
   "metadata": {
    "execution": {
     "iopub.execute_input": "2024-10-09T09:59:58.624710Z",
     "iopub.status.busy": "2024-10-09T09:59:58.624389Z",
     "iopub.status.idle": "2024-10-09T09:59:59.517652Z",
     "shell.execute_reply": "2024-10-09T09:59:59.516785Z"
    },
    "papermill": {
     "duration": 0.944756,
     "end_time": "2024-10-09T09:59:59.519955",
     "exception": false,
     "start_time": "2024-10-09T09:59:58.575199",
     "status": "completed"
    },
    "tags": []
   },
   "outputs": [],
   "source": [
    "X_train = all_dummies[all_dummies.test_train == 1].drop(['test_train'], axis =1)\n",
    "X_test = all_dummies[all_dummies.test_train == 0].drop(['test_train'], axis =1)\n",
    "\n",
    "y_train  = all_data[all_data.test_train == 1].price"
   ]
  },
  {
   "cell_type": "code",
   "execution_count": 110,
   "id": "73cb1276",
   "metadata": {
    "execution": {
     "iopub.execute_input": "2024-10-09T09:59:59.624982Z",
     "iopub.status.busy": "2024-10-09T09:59:59.624643Z",
     "iopub.status.idle": "2024-10-09T09:59:59.628801Z",
     "shell.execute_reply": "2024-10-09T09:59:59.627903Z"
    },
    "papermill": {
     "duration": 0.058574,
     "end_time": "2024-10-09T09:59:59.630660",
     "exception": false,
     "start_time": "2024-10-09T09:59:59.572086",
     "status": "completed"
    },
    "tags": []
   },
   "outputs": [],
   "source": [
    "#{'subsample': 0.8, 'n_estimators': 1000, 'min_child_weight': 3, 'max_depth': 7, 'learning_rate': 0.02, 'lambda': 1, 'colsample_bytree': 0.6, 'alpha': 0.0"
   ]
  },
  {
   "cell_type": "code",
   "execution_count": 111,
   "id": "628ab71d",
   "metadata": {
    "execution": {
     "iopub.execute_input": "2024-10-09T09:59:59.729064Z",
     "iopub.status.busy": "2024-10-09T09:59:59.728753Z",
     "iopub.status.idle": "2024-10-09T10:09:34.291764Z",
     "shell.execute_reply": "2024-10-09T10:09:34.290672Z"
    },
    "papermill": {
     "duration": 574.661777,
     "end_time": "2024-10-09T10:09:34.340567",
     "exception": false,
     "start_time": "2024-10-09T09:59:59.678790",
     "status": "completed"
    },
    "tags": []
   },
   "outputs": [
    {
     "name": "stdout",
     "output_type": "stream",
     "text": [
      "Cross-Validated RMSE Scores: [25893.47755648 26560.10293976 25815.67286058 26945.77193982\n",
      " 25783.97479485]\n",
      "Mean RMSE: 26199.80001829868\n"
     ]
    }
   ],
   "source": [
    "model_xgb = xgb.XGBRegressor(objective='reg:squarederror',subsample = 0.8, n_estimators = 1000, min_child_weight = 3 ,max_depth = 7, learning_rate = 0.02, colsample_bytree = 0.6 , reg_lambda = 1,reg_alpha = 0.0)\n",
    "scores = cross_val_score(model_xgb,X_train,y_train,cv=5,scoring = 'neg_mean_squared_error')\n",
    "rmse_scores = np.sqrt(-scores)\n",
    "\n",
    "# Print RMSE scores for each fold\n",
    "print(f'Cross-Validated RMSE Scores: {rmse_scores}')\n",
    "print(f'Mean RMSE: {rmse_scores.mean()}')"
   ]
  },
  {
   "cell_type": "code",
   "execution_count": 112,
   "id": "da1fb576",
   "metadata": {
    "execution": {
     "iopub.execute_input": "2024-10-09T10:09:34.439765Z",
     "iopub.status.busy": "2024-10-09T10:09:34.439394Z",
     "iopub.status.idle": "2024-10-09T10:09:34.445358Z",
     "shell.execute_reply": "2024-10-09T10:09:34.444474Z"
    },
    "papermill": {
     "duration": 0.057741,
     "end_time": "2024-10-09T10:09:34.447318",
     "exception": false,
     "start_time": "2024-10-09T10:09:34.389577",
     "status": "completed"
    },
    "tags": []
   },
   "outputs": [
    {
     "data": {
      "text/plain": [
       "'current Mean RMSE : 26775.87061987866\\nmean after feature selection : 26276.38142581412\\nmean after scaling  : 26276.38142581412\\nmean after scaling again : 26197.331748028948'"
      ]
     },
     "execution_count": 112,
     "metadata": {},
     "output_type": "execute_result"
    }
   ],
   "source": [
    "'''current Mean RMSE : 26775.87061987866\n",
    "mean after feature selection : 26276.38142581412\n",
    "mean after scaling  : 26276.38142581412\n",
    "mean after scaling again : 26197.331748028948'''"
   ]
  },
  {
   "cell_type": "code",
   "execution_count": 113,
   "id": "8de1e697",
   "metadata": {
    "execution": {
     "iopub.execute_input": "2024-10-09T10:09:34.547491Z",
     "iopub.status.busy": "2024-10-09T10:09:34.547145Z",
     "iopub.status.idle": "2024-10-09T10:11:55.406324Z",
     "shell.execute_reply": "2024-10-09T10:11:55.405319Z"
    },
    "papermill": {
     "duration": 140.963296,
     "end_time": "2024-10-09T10:11:55.459628",
     "exception": false,
     "start_time": "2024-10-09T10:09:34.496332",
     "status": "completed"
    },
    "tags": []
   },
   "outputs": [
    {
     "data": {
      "text/html": [
       "<style>#sk-container-id-1 {color: black;background-color: white;}#sk-container-id-1 pre{padding: 0;}#sk-container-id-1 div.sk-toggleable {background-color: white;}#sk-container-id-1 label.sk-toggleable__label {cursor: pointer;display: block;width: 100%;margin-bottom: 0;padding: 0.3em;box-sizing: border-box;text-align: center;}#sk-container-id-1 label.sk-toggleable__label-arrow:before {content: \"▸\";float: left;margin-right: 0.25em;color: #696969;}#sk-container-id-1 label.sk-toggleable__label-arrow:hover:before {color: black;}#sk-container-id-1 div.sk-estimator:hover label.sk-toggleable__label-arrow:before {color: black;}#sk-container-id-1 div.sk-toggleable__content {max-height: 0;max-width: 0;overflow: hidden;text-align: left;background-color: #f0f8ff;}#sk-container-id-1 div.sk-toggleable__content pre {margin: 0.2em;color: black;border-radius: 0.25em;background-color: #f0f8ff;}#sk-container-id-1 input.sk-toggleable__control:checked~div.sk-toggleable__content {max-height: 200px;max-width: 100%;overflow: auto;}#sk-container-id-1 input.sk-toggleable__control:checked~label.sk-toggleable__label-arrow:before {content: \"▾\";}#sk-container-id-1 div.sk-estimator input.sk-toggleable__control:checked~label.sk-toggleable__label {background-color: #d4ebff;}#sk-container-id-1 div.sk-label input.sk-toggleable__control:checked~label.sk-toggleable__label {background-color: #d4ebff;}#sk-container-id-1 input.sk-hidden--visually {border: 0;clip: rect(1px 1px 1px 1px);clip: rect(1px, 1px, 1px, 1px);height: 1px;margin: -1px;overflow: hidden;padding: 0;position: absolute;width: 1px;}#sk-container-id-1 div.sk-estimator {font-family: monospace;background-color: #f0f8ff;border: 1px dotted black;border-radius: 0.25em;box-sizing: border-box;margin-bottom: 0.5em;}#sk-container-id-1 div.sk-estimator:hover {background-color: #d4ebff;}#sk-container-id-1 div.sk-parallel-item::after {content: \"\";width: 100%;border-bottom: 1px solid gray;flex-grow: 1;}#sk-container-id-1 div.sk-label:hover label.sk-toggleable__label {background-color: #d4ebff;}#sk-container-id-1 div.sk-serial::before {content: \"\";position: absolute;border-left: 1px solid gray;box-sizing: border-box;top: 0;bottom: 0;left: 50%;z-index: 0;}#sk-container-id-1 div.sk-serial {display: flex;flex-direction: column;align-items: center;background-color: white;padding-right: 0.2em;padding-left: 0.2em;position: relative;}#sk-container-id-1 div.sk-item {position: relative;z-index: 1;}#sk-container-id-1 div.sk-parallel {display: flex;align-items: stretch;justify-content: center;background-color: white;position: relative;}#sk-container-id-1 div.sk-item::before, #sk-container-id-1 div.sk-parallel-item::before {content: \"\";position: absolute;border-left: 1px solid gray;box-sizing: border-box;top: 0;bottom: 0;left: 50%;z-index: -1;}#sk-container-id-1 div.sk-parallel-item {display: flex;flex-direction: column;z-index: 1;position: relative;background-color: white;}#sk-container-id-1 div.sk-parallel-item:first-child::after {align-self: flex-end;width: 50%;}#sk-container-id-1 div.sk-parallel-item:last-child::after {align-self: flex-start;width: 50%;}#sk-container-id-1 div.sk-parallel-item:only-child::after {width: 0;}#sk-container-id-1 div.sk-dashed-wrapped {border: 1px dashed gray;margin: 0 0.4em 0.5em 0.4em;box-sizing: border-box;padding-bottom: 0.4em;background-color: white;}#sk-container-id-1 div.sk-label label {font-family: monospace;font-weight: bold;display: inline-block;line-height: 1.2em;}#sk-container-id-1 div.sk-label-container {text-align: center;}#sk-container-id-1 div.sk-container {/* jupyter's `normalize.less` sets `[hidden] { display: none; }` but bootstrap.min.css set `[hidden] { display: none !important; }` so we also need the `!important` here to be able to override the default hidden behavior on the sphinx rendered scikit-learn.org. See: https://github.com/scikit-learn/scikit-learn/issues/21755 */display: inline-block !important;position: relative;}#sk-container-id-1 div.sk-text-repr-fallback {display: none;}</style><div id=\"sk-container-id-1\" class=\"sk-top-container\"><div class=\"sk-text-repr-fallback\"><pre>XGBRegressor(base_score=None, booster=None, callbacks=None,\n",
       "             colsample_bylevel=None, colsample_bynode=None,\n",
       "             colsample_bytree=0.6, device=None, early_stopping_rounds=None,\n",
       "             enable_categorical=False, eval_metric=None, feature_types=None,\n",
       "             gamma=None, grow_policy=None, importance_type=None,\n",
       "             interaction_constraints=None, learning_rate=0.02, max_bin=None,\n",
       "             max_cat_threshold=None, max_cat_to_onehot=None,\n",
       "             max_delta_step=None, max_depth=7, max_leaves=None,\n",
       "             min_child_weight=3, missing=nan, monotone_constraints=None,\n",
       "             multi_strategy=None, n_estimators=1000, n_jobs=None,\n",
       "             num_parallel_tree=None, random_state=None, ...)</pre><b>In a Jupyter environment, please rerun this cell to show the HTML representation or trust the notebook. <br />On GitHub, the HTML representation is unable to render, please try loading this page with nbviewer.org.</b></div><div class=\"sk-container\" hidden><div class=\"sk-item\"><div class=\"sk-estimator sk-toggleable\"><input class=\"sk-toggleable__control sk-hidden--visually\" id=\"sk-estimator-id-1\" type=\"checkbox\" checked><label for=\"sk-estimator-id-1\" class=\"sk-toggleable__label sk-toggleable__label-arrow\">XGBRegressor</label><div class=\"sk-toggleable__content\"><pre>XGBRegressor(base_score=None, booster=None, callbacks=None,\n",
       "             colsample_bylevel=None, colsample_bynode=None,\n",
       "             colsample_bytree=0.6, device=None, early_stopping_rounds=None,\n",
       "             enable_categorical=False, eval_metric=None, feature_types=None,\n",
       "             gamma=None, grow_policy=None, importance_type=None,\n",
       "             interaction_constraints=None, learning_rate=0.02, max_bin=None,\n",
       "             max_cat_threshold=None, max_cat_to_onehot=None,\n",
       "             max_delta_step=None, max_depth=7, max_leaves=None,\n",
       "             min_child_weight=3, missing=nan, monotone_constraints=None,\n",
       "             multi_strategy=None, n_estimators=1000, n_jobs=None,\n",
       "             num_parallel_tree=None, random_state=None, ...)</pre></div></div></div></div></div>"
      ],
      "text/plain": [
       "XGBRegressor(base_score=None, booster=None, callbacks=None,\n",
       "             colsample_bylevel=None, colsample_bynode=None,\n",
       "             colsample_bytree=0.6, device=None, early_stopping_rounds=None,\n",
       "             enable_categorical=False, eval_metric=None, feature_types=None,\n",
       "             gamma=None, grow_policy=None, importance_type=None,\n",
       "             interaction_constraints=None, learning_rate=0.02, max_bin=None,\n",
       "             max_cat_threshold=None, max_cat_to_onehot=None,\n",
       "             max_delta_step=None, max_depth=7, max_leaves=None,\n",
       "             min_child_weight=3, missing=nan, monotone_constraints=None,\n",
       "             multi_strategy=None, n_estimators=1000, n_jobs=None,\n",
       "             num_parallel_tree=None, random_state=None, ...)"
      ]
     },
     "execution_count": 113,
     "metadata": {},
     "output_type": "execute_result"
    }
   ],
   "source": [
    "model_xgb.fit(X_train,y_train)"
   ]
  },
  {
   "cell_type": "code",
   "execution_count": 114,
   "id": "dae3441e",
   "metadata": {
    "execution": {
     "iopub.execute_input": "2024-10-09T10:11:55.562882Z",
     "iopub.status.busy": "2024-10-09T10:11:55.562543Z",
     "iopub.status.idle": "2024-10-09T10:11:57.662878Z",
     "shell.execute_reply": "2024-10-09T10:11:57.662024Z"
    },
    "papermill": {
     "duration": 2.153493,
     "end_time": "2024-10-09T10:11:57.665068",
     "exception": false,
     "start_time": "2024-10-09T10:11:55.511575",
     "status": "completed"
    },
    "tags": []
   },
   "outputs": [],
   "source": [
    "prediction = model_xgb.predict(X_test)"
   ]
  },
  {
   "cell_type": "code",
   "execution_count": 115,
   "id": "9974cc4f",
   "metadata": {
    "execution": {
     "iopub.execute_input": "2024-10-09T10:11:57.769480Z",
     "iopub.status.busy": "2024-10-09T10:11:57.769137Z",
     "iopub.status.idle": "2024-10-09T10:11:57.773827Z",
     "shell.execute_reply": "2024-10-09T10:11:57.772905Z"
    },
    "papermill": {
     "duration": 0.058553,
     "end_time": "2024-10-09T10:11:57.775778",
     "exception": false,
     "start_time": "2024-10-09T10:11:57.717225",
     "status": "completed"
    },
    "tags": []
   },
   "outputs": [],
   "source": [
    "df = {'id':test.id , 'price' : prediction}"
   ]
  },
  {
   "cell_type": "code",
   "execution_count": 116,
   "id": "37f186a1",
   "metadata": {
    "execution": {
     "iopub.execute_input": "2024-10-09T10:11:57.879351Z",
     "iopub.status.busy": "2024-10-09T10:11:57.879031Z",
     "iopub.status.idle": "2024-10-09T10:11:58.140891Z",
     "shell.execute_reply": "2024-10-09T10:11:58.139899Z"
    },
    "papermill": {
     "duration": 0.316991,
     "end_time": "2024-10-09T10:11:58.143150",
     "exception": false,
     "start_time": "2024-10-09T10:11:57.826159",
     "status": "completed"
    },
    "tags": []
   },
   "outputs": [],
   "source": [
    "submission = pd.DataFrame(data = df)\n",
    "submission.to_csv('submission.csv',index = False)"
   ]
  },
  {
   "cell_type": "code",
   "execution_count": null,
   "id": "17ce3cd9",
   "metadata": {
    "papermill": {
     "duration": 0.048727,
     "end_time": "2024-10-09T10:11:58.242688",
     "exception": false,
     "start_time": "2024-10-09T10:11:58.193961",
     "status": "completed"
    },
    "tags": []
   },
   "outputs": [],
   "source": []
  },
  {
   "cell_type": "code",
   "execution_count": 117,
   "id": "ad936338",
   "metadata": {
    "execution": {
     "iopub.execute_input": "2024-10-09T10:11:58.342955Z",
     "iopub.status.busy": "2024-10-09T10:11:58.342583Z",
     "iopub.status.idle": "2024-10-09T10:11:58.346617Z",
     "shell.execute_reply": "2024-10-09T10:11:58.345708Z"
    },
    "papermill": {
     "duration": 0.056321,
     "end_time": "2024-10-09T10:11:58.348527",
     "exception": false,
     "start_time": "2024-10-09T10:11:58.292206",
     "status": "completed"
    },
    "tags": []
   },
   "outputs": [],
   "source": [
    "#import lightgbm as lgb"
   ]
  },
  {
   "cell_type": "code",
   "execution_count": 118,
   "id": "1b499f75",
   "metadata": {
    "execution": {
     "iopub.execute_input": "2024-10-09T10:11:58.447474Z",
     "iopub.status.busy": "2024-10-09T10:11:58.447144Z",
     "iopub.status.idle": "2024-10-09T10:11:58.453033Z",
     "shell.execute_reply": "2024-10-09T10:11:58.452155Z"
    },
    "papermill": {
     "duration": 0.057619,
     "end_time": "2024-10-09T10:11:58.454970",
     "exception": false,
     "start_time": "2024-10-09T10:11:58.397351",
     "status": "completed"
    },
    "tags": []
   },
   "outputs": [
    {
     "data": {
      "text/plain": [
       "'lgb_model = lgb.LGBMRegressor(n_estimators=100, random_state=42)\\n# Perform 5-fold cross-validation\\ncv_scores = cross_val_score(lgb_model, x_train_pca_L, y_train, cv=5, scoring=\\'neg_mean_squared_error\\')\\n\\n# Convert negative MSE to positive RMSE\\nrmse_scores = np.sqrt(-cv_scores)\\n\\n# Output the scores\\nprint(\"Cross-validation RMSE scores:\", rmse_scores)\\nprint(\"Average RMSE:\", rmse_scores.mean())\\n'"
      ]
     },
     "execution_count": 118,
     "metadata": {},
     "output_type": "execute_result"
    }
   ],
   "source": [
    "'''lgb_model = lgb.LGBMRegressor(n_estimators=100, random_state=42)\n",
    "# Perform 5-fold cross-validation\n",
    "cv_scores = cross_val_score(lgb_model, x_train_pca_L, y_train, cv=5, scoring='neg_mean_squared_error')\n",
    "\n",
    "# Convert negative MSE to positive RMSE\n",
    "rmse_scores = np.sqrt(-cv_scores)\n",
    "\n",
    "# Output the scores\n",
    "print(\"Cross-validation RMSE scores:\", rmse_scores)\n",
    "print(\"Average RMSE:\", rmse_scores.mean())\n",
    "'''"
   ]
  },
  {
   "cell_type": "code",
   "execution_count": 119,
   "id": "0033eb95",
   "metadata": {
    "execution": {
     "iopub.execute_input": "2024-10-09T10:11:58.553968Z",
     "iopub.status.busy": "2024-10-09T10:11:58.553226Z",
     "iopub.status.idle": "2024-10-09T10:11:58.560309Z",
     "shell.execute_reply": "2024-10-09T10:11:58.559481Z"
    },
    "papermill": {
     "duration": 0.058366,
     "end_time": "2024-10-09T10:11:58.562100",
     "exception": false,
     "start_time": "2024-10-09T10:11:58.503734",
     "status": "completed"
    },
    "tags": []
   },
   "outputs": [
    {
     "data": {
      "text/plain": [
       "'from xgboost import XGBRegressor\\nfrom sklearn.model_selection import RandomizedSearchCV\\n\\n# Define the hyperparameter grid\\nparam_dist = {\\n    \\'n_estimators\\': [600, 800, 900, 1000],  # Reduced the range to prevent overfitting\\n    \\'learning_rate\\': [0.01, 0.02, 0.03],    # Increased range to find better convergence\\n    \\'max_depth\\': [4, 5, 6, 7],              # Added lower depth to capture simpler models\\n    \\'subsample\\': [0.7, 0.8, 0.9],           # Adjusted subsample range\\n    \\'colsample_bytree\\': [0.6, 0.7, 0.8],    # Added a lower value for experimentation\\n    \\'min_child_weight\\': [3, 5],              # Added min_child_weight for regularization\\n    \\'alpha\\': [0.0, 0.01],                    # Added L1 regularization parameter\\n    \\'lambda\\': [0.0, 1]                       # Added L2 regularization parameter\\n}\\n\\n# Initialize the model\\nxgb_model = XGBRegressor(objective=\\'reg:squarederror\\')\\n\\n# Perform randomized search\\nrandom_search = RandomizedSearchCV(xgb_model, param_distributions=param_dist, \\n                                   n_iter=20, scoring=\\'neg_mean_squared_error\\', \\n                                    cv= 3 , verbose=1, random_state=42, n_jobs=-1)\\n\\n# Fit the model\\nrandom_search.fit(X_train, y_train)\\n\\n# Best parameters and score\\nprint(f\"Best Parameters: {random_search.best_params_}\")\\nprint(f\"Best RMSE: {np.sqrt(-random_search.best_score_)}\")'"
      ]
     },
     "execution_count": 119,
     "metadata": {},
     "output_type": "execute_result"
    }
   ],
   "source": [
    "'''from xgboost import XGBRegressor\n",
    "from sklearn.model_selection import RandomizedSearchCV\n",
    "\n",
    "# Define the hyperparameter grid\n",
    "param_dist = {\n",
    "    'n_estimators': [600, 800, 900, 1000],  # Reduced the range to prevent overfitting\n",
    "    'learning_rate': [0.01, 0.02, 0.03],    # Increased range to find better convergence\n",
    "    'max_depth': [4, 5, 6, 7],              # Added lower depth to capture simpler models\n",
    "    'subsample': [0.7, 0.8, 0.9],           # Adjusted subsample range\n",
    "    'colsample_bytree': [0.6, 0.7, 0.8],    # Added a lower value for experimentation\n",
    "    'min_child_weight': [3, 5],              # Added min_child_weight for regularization\n",
    "    'alpha': [0.0, 0.01],                    # Added L1 regularization parameter\n",
    "    'lambda': [0.0, 1]                       # Added L2 regularization parameter\n",
    "}\n",
    "\n",
    "# Initialize the model\n",
    "xgb_model = XGBRegressor(objective='reg:squarederror')\n",
    "\n",
    "# Perform randomized search\n",
    "random_search = RandomizedSearchCV(xgb_model, param_distributions=param_dist, \n",
    "                                   n_iter=20, scoring='neg_mean_squared_error', \n",
    "                                    cv= 3 , verbose=1, random_state=42, n_jobs=-1)\n",
    "\n",
    "# Fit the model\n",
    "random_search.fit(X_train, y_train)\n",
    "\n",
    "# Best parameters and score\n",
    "print(f\"Best Parameters: {random_search.best_params_}\")\n",
    "print(f\"Best RMSE: {np.sqrt(-random_search.best_score_)}\")'''"
   ]
  },
  {
   "cell_type": "code",
   "execution_count": 120,
   "id": "3ac3c1c4",
   "metadata": {
    "execution": {
     "iopub.execute_input": "2024-10-09T10:11:58.661777Z",
     "iopub.status.busy": "2024-10-09T10:11:58.661475Z",
     "iopub.status.idle": "2024-10-09T10:11:58.667383Z",
     "shell.execute_reply": "2024-10-09T10:11:58.666525Z"
    },
    "papermill": {
     "duration": 0.058418,
     "end_time": "2024-10-09T10:11:58.669317",
     "exception": false,
     "start_time": "2024-10-09T10:11:58.610899",
     "status": "completed"
    },
    "tags": []
   },
   "outputs": [
    {
     "data": {
      "text/plain": [
       "'from sklearn.model_selection import RandomizedSearchCV\\nridge = Ridge()\\nparam_dist = {\\n    \\'alpha\\': [0.01, 0.1, 1, 10, 100, 1000],\\n    \\'solver\\': [\\'auto\\', \\'svd\\', \\'cholesky\\', \\'saga\\'],\\n    \\'fit_intercept\\': [True, False]\\n}\\n\\nrandom_search = RandomizedSearchCV(ridge, param_distributions=param_dist, n_iter=10, \\n                                   scoring=\\'neg_mean_squared_error\\', cv=2, verbose=1, n_jobs=-1)\\n\\nrandom_search.fit(x_train_pca_L, y_train)\\n\\nprint(f\"Best Parameters: {random_search.best_params_}\")\\nprint(f\"Best RMSE: {np.sqrt(-random_search.best_score_)}\")\\n'"
      ]
     },
     "execution_count": 120,
     "metadata": {},
     "output_type": "execute_result"
    }
   ],
   "source": [
    "'''from sklearn.model_selection import RandomizedSearchCV\n",
    "ridge = Ridge()\n",
    "param_dist = {\n",
    "    'alpha': [0.01, 0.1, 1, 10, 100, 1000],\n",
    "    'solver': ['auto', 'svd', 'cholesky', 'saga'],\n",
    "    'fit_intercept': [True, False]\n",
    "}\n",
    "\n",
    "random_search = RandomizedSearchCV(ridge, param_distributions=param_dist, n_iter=10, \n",
    "                                   scoring='neg_mean_squared_error', cv=2, verbose=1, n_jobs=-1)\n",
    "\n",
    "random_search.fit(x_train_pca_L, y_train)\n",
    "\n",
    "print(f\"Best Parameters: {random_search.best_params_}\")\n",
    "print(f\"Best RMSE: {np.sqrt(-random_search.best_score_)}\")\n",
    "'''"
   ]
  },
  {
   "cell_type": "code",
   "execution_count": 121,
   "id": "b7747cba",
   "metadata": {
    "execution": {
     "iopub.execute_input": "2024-10-09T10:11:58.770068Z",
     "iopub.status.busy": "2024-10-09T10:11:58.769443Z",
     "iopub.status.idle": "2024-10-09T10:11:58.777615Z",
     "shell.execute_reply": "2024-10-09T10:11:58.776750Z"
    },
    "papermill": {
     "duration": 0.061124,
     "end_time": "2024-10-09T10:11:58.779452",
     "exception": false,
     "start_time": "2024-10-09T10:11:58.718328",
     "status": "completed"
    },
    "tags": []
   },
   "outputs": [
    {
     "data": {
      "text/plain": [
       "\"import numpy as np\\nfrom sklearn.model_selection import train_test_split\\nfrom tensorflow.keras.models import Sequential\\nfrom tensorflow.keras.layers import Dense\\nfrom tensorflow.keras.callbacks import EarlyStopping\\nimport matplotlib.pyplot as plt\\n\\n# Assuming your PCA-transformed data (x_train_pca_L) and target (y_train) are already loaded.\\n# x_train_pca_L.shape = (184878, 59)\\n\\n# Split data into training and validation sets\\nX_train, X_val, Y_train, Y_val = train_test_split(x_train_pca_L, y_train, test_size=0.2, random_state=42)\\n\\n# Define your ANN model\\nmodel = Sequential([\\n    Dense(128, activation='relu', input_shape=(X_train.shape[1],)),  # Input layer\\n    Dense(64, activation='relu'),  # Hidden layer\\n    Dense(32, activation='relu'),  # Hidden layer\\n    Dense(1)  # Output layer\\n])\\n\\n# Compile the model\\nmodel.compile(optimizer='adam', loss='mean_squared_error')  # MSE loss\\n\\n# Define early stopping\\nearly_stopping = EarlyStopping(monitor='val_loss', patience=10, restore_best_weights=True)\\n\\n# Fit the model\\nhistory = model.fit(X_train, Y_train, \\n                    validation_data=(X_val, Y_val),\\n                    epochs=100, \\n                    batch_size=32, \\n                    verbose=1, \\n                    callbacks=[early_stopping])\\n\\n# Plot training & validation loss (MSE) values\\nplt.plot(history.history['loss'], label='Train Loss (MSE)')\\nplt.plot(history.history['val_loss'], label='Validation Loss (MSE)')\\nplt.title('Model Loss (MSE)')\\nplt.xlabel('Epoch')\\nplt.ylabel('Loss')\\nplt.legend()\\nplt.show()\\n\\n# Convert the final MSE to RMSE for validation set\\nval_mse = model.evaluate(X_val, Y_val, verbose=0)  # MSE\\nval_rmse = np.sqrt(val_mse)  # RMSE\\nprint(f'Validation RMSE: {val_rmse}')\\n\\n# Optionally, make predictions and calculate RMSE for predictions\\n# Ensure Y_pred is flattened (1D)\\nY_pred = model.predict(X_val).flatten()\\n\\n# Ensure Y_val is also a 1D array\\nY_val = Y_val.values.flatten()  # Convert from pandas series to NumPy array, if necessary\\n\\n# Now calculate RMSE\\nrmse = np.sqrt(np.mean((Y_val - Y_pred) ** 2))\\nprint(f'Calculated RMSE on Validation Set: {rmse}')\\n\""
      ]
     },
     "execution_count": 121,
     "metadata": {},
     "output_type": "execute_result"
    }
   ],
   "source": [
    "'''import numpy as np\n",
    "from sklearn.model_selection import train_test_split\n",
    "from tensorflow.keras.models import Sequential\n",
    "from tensorflow.keras.layers import Dense\n",
    "from tensorflow.keras.callbacks import EarlyStopping\n",
    "import matplotlib.pyplot as plt\n",
    "\n",
    "# Assuming your PCA-transformed data (x_train_pca_L) and target (y_train) are already loaded.\n",
    "# x_train_pca_L.shape = (184878, 59)\n",
    "\n",
    "# Split data into training and validation sets\n",
    "X_train, X_val, Y_train, Y_val = train_test_split(x_train_pca_L, y_train, test_size=0.2, random_state=42)\n",
    "\n",
    "# Define your ANN model\n",
    "model = Sequential([\n",
    "    Dense(128, activation='relu', input_shape=(X_train.shape[1],)),  # Input layer\n",
    "    Dense(64, activation='relu'),  # Hidden layer\n",
    "    Dense(32, activation='relu'),  # Hidden layer\n",
    "    Dense(1)  # Output layer\n",
    "])\n",
    "\n",
    "# Compile the model\n",
    "model.compile(optimizer='adam', loss='mean_squared_error')  # MSE loss\n",
    "\n",
    "# Define early stopping\n",
    "early_stopping = EarlyStopping(monitor='val_loss', patience=10, restore_best_weights=True)\n",
    "\n",
    "# Fit the model\n",
    "history = model.fit(X_train, Y_train, \n",
    "                    validation_data=(X_val, Y_val),\n",
    "                    epochs=100, \n",
    "                    batch_size=32, \n",
    "                    verbose=1, \n",
    "                    callbacks=[early_stopping])\n",
    "\n",
    "# Plot training & validation loss (MSE) values\n",
    "plt.plot(history.history['loss'], label='Train Loss (MSE)')\n",
    "plt.plot(history.history['val_loss'], label='Validation Loss (MSE)')\n",
    "plt.title('Model Loss (MSE)')\n",
    "plt.xlabel('Epoch')\n",
    "plt.ylabel('Loss')\n",
    "plt.legend()\n",
    "plt.show()\n",
    "\n",
    "# Convert the final MSE to RMSE for validation set\n",
    "val_mse = model.evaluate(X_val, Y_val, verbose=0)  # MSE\n",
    "val_rmse = np.sqrt(val_mse)  # RMSE\n",
    "print(f'Validation RMSE: {val_rmse}')\n",
    "\n",
    "# Optionally, make predictions and calculate RMSE for predictions\n",
    "# Ensure Y_pred is flattened (1D)\n",
    "Y_pred = model.predict(X_val).flatten()\n",
    "\n",
    "# Ensure Y_val is also a 1D array\n",
    "Y_val = Y_val.values.flatten()  # Convert from pandas series to NumPy array, if necessary\n",
    "\n",
    "# Now calculate RMSE\n",
    "rmse = np.sqrt(np.mean((Y_val - Y_pred) ** 2))\n",
    "print(f'Calculated RMSE on Validation Set: {rmse}')\n",
    "'''"
   ]
  },
  {
   "cell_type": "code",
   "execution_count": 122,
   "id": "e042296f",
   "metadata": {
    "execution": {
     "iopub.execute_input": "2024-10-09T10:11:58.879168Z",
     "iopub.status.busy": "2024-10-09T10:11:58.878877Z",
     "iopub.status.idle": "2024-10-09T10:11:58.884621Z",
     "shell.execute_reply": "2024-10-09T10:11:58.883726Z"
    },
    "papermill": {
     "duration": 0.05766,
     "end_time": "2024-10-09T10:11:58.886569",
     "exception": false,
     "start_time": "2024-10-09T10:11:58.828909",
     "status": "completed"
    },
    "tags": []
   },
   "outputs": [
    {
     "data": {
      "text/plain": [
       "'# Step 1: Split the data into training and validation sets\\nX_train_full, X_val, y_train_full, y_val = train_test_split(\\n    x_train_pca_L, y_train, test_size=0.2, random_state=42\\n)\\n\\n# Step 2: Sample a portion of the training data for hyperparameter tuning\\nX_train_sample, X_val_tune, y_train_sample, y_val_tune = train_test_split(\\n    X_train_full, y_train_full, test_size=0.1, random_state=42)'"
      ]
     },
     "execution_count": 122,
     "metadata": {},
     "output_type": "execute_result"
    }
   ],
   "source": [
    "'''# Step 1: Split the data into training and validation sets\n",
    "X_train_full, X_val, y_train_full, y_val = train_test_split(\n",
    "    x_train_pca_L, y_train, test_size=0.2, random_state=42\n",
    ")\n",
    "\n",
    "# Step 2: Sample a portion of the training data for hyperparameter tuning\n",
    "X_train_sample, X_val_tune, y_train_sample, y_val_tune = train_test_split(\n",
    "    X_train_full, y_train_full, test_size=0.1, random_state=42)'''"
   ]
  },
  {
   "cell_type": "code",
   "execution_count": 123,
   "id": "de9c2851",
   "metadata": {
    "execution": {
     "iopub.execute_input": "2024-10-09T10:11:58.986998Z",
     "iopub.status.busy": "2024-10-09T10:11:58.986732Z",
     "iopub.status.idle": "2024-10-09T10:11:58.994525Z",
     "shell.execute_reply": "2024-10-09T10:11:58.993682Z"
    },
    "papermill": {
     "duration": 0.060372,
     "end_time": "2024-10-09T10:11:58.996480",
     "exception": false,
     "start_time": "2024-10-09T10:11:58.936108",
     "status": "completed"
    },
    "tags": []
   },
   "outputs": [
    {
     "data": {
      "text/plain": [
       "'import numpy as np\\nimport tensorflow as tf\\nfrom tensorflow.keras.models import Sequential\\nfrom tensorflow.keras.layers import Dense\\nimport optuna\\n\\n# Define a basic model for debugging\\ndef create_model(neurons, optimizer):\\n    model = Sequential()\\n    model.add(Dense(neurons, input_dim=X_train_sample.shape[1], activation=\\'relu\\'))\\n    model.add(Dense(neurons, activation=\\'relu\\'))\\n    model.add(Dense(1))\\n    model.compile(loss=\\'mean_squared_error\\', optimizer=optimizer)\\n    return model\\n\\n# Define the objective function\\ndef objective(trial):\\n    model = create_model(\\n        neurons=trial.suggest_categorical(\\'neurons\\', [32, 64, 128]),\\n        optimizer=trial.suggest_categorical(\\'optimizer\\', [\\'adam\\', \\'rmsprop\\'])\\n    )\\n    \\n    history = model.fit(X_train_sample, y_train_sample,\\n                        epochs=trial.suggest_int(\\'epochs\\', 10, 20),\\n                        batch_size=trial.suggest_categorical(\\'batch_size\\', [16, 32]),\\n                        validation_data=(X_val, y_val),\\n                        verbose=0)\\n    \\n    # Print metrics available in history\\n    print(f\"Available metrics: {history.history.keys()}\")\\n    \\n    # Use validation loss or fallback to training loss\\n    val_loss = min(history.history.get(\\'val_loss\\', [float(\\'inf\\')]))\\n    return val_loss\\n\\n# Create Optuna study and optimize\\nstudy = optuna.create_study(direction=\\'minimize\\')\\nstudy.optimize(objective, n_trials=10)\\n\\n# Print best parameters and best score\\nprint(f\"Best Parameters: {study.best_params}\")\\nprint(f\"Best Score: {study.best_value}\")\\n\\n# Fit the best model with full training data\\nbest_params = study.best_params\\nbest_model = create_model(neurons=best_params[\\'neurons\\'], optimizer=best_params[\\'optimizer\\'])\\nbest_model.fit(X_train, y_train,\\n               epochs=best_params[\\'epochs\\'],\\n               batch_size=best_params[\\'batch_size\\'],\\n               validation_data=(X_val, y_val),\\n               verbose=0)\\n\\n# Evaluate on validation data\\ny_pred = best_model.predict(X_val)\\nrmse = np.sqrt(np.mean((y_val - y_pred)**2))\\nprint(f\"Calculated RMSE on Validation Set: {rmse}\")\\n'"
      ]
     },
     "execution_count": 123,
     "metadata": {},
     "output_type": "execute_result"
    }
   ],
   "source": [
    "'''import numpy as np\n",
    "import tensorflow as tf\n",
    "from tensorflow.keras.models import Sequential\n",
    "from tensorflow.keras.layers import Dense\n",
    "import optuna\n",
    "\n",
    "# Define a basic model for debugging\n",
    "def create_model(neurons, optimizer):\n",
    "    model = Sequential()\n",
    "    model.add(Dense(neurons, input_dim=X_train_sample.shape[1], activation='relu'))\n",
    "    model.add(Dense(neurons, activation='relu'))\n",
    "    model.add(Dense(1))\n",
    "    model.compile(loss='mean_squared_error', optimizer=optimizer)\n",
    "    return model\n",
    "\n",
    "# Define the objective function\n",
    "def objective(trial):\n",
    "    model = create_model(\n",
    "        neurons=trial.suggest_categorical('neurons', [32, 64, 128]),\n",
    "        optimizer=trial.suggest_categorical('optimizer', ['adam', 'rmsprop'])\n",
    "    )\n",
    "    \n",
    "    history = model.fit(X_train_sample, y_train_sample,\n",
    "                        epochs=trial.suggest_int('epochs', 10, 20),\n",
    "                        batch_size=trial.suggest_categorical('batch_size', [16, 32]),\n",
    "                        validation_data=(X_val, y_val),\n",
    "                        verbose=0)\n",
    "    \n",
    "    # Print metrics available in history\n",
    "    print(f\"Available metrics: {history.history.keys()}\")\n",
    "    \n",
    "    # Use validation loss or fallback to training loss\n",
    "    val_loss = min(history.history.get('val_loss', [float('inf')]))\n",
    "    return val_loss\n",
    "\n",
    "# Create Optuna study and optimize\n",
    "study = optuna.create_study(direction='minimize')\n",
    "study.optimize(objective, n_trials=10)\n",
    "\n",
    "# Print best parameters and best score\n",
    "print(f\"Best Parameters: {study.best_params}\")\n",
    "print(f\"Best Score: {study.best_value}\")\n",
    "\n",
    "# Fit the best model with full training data\n",
    "best_params = study.best_params\n",
    "best_model = create_model(neurons=best_params['neurons'], optimizer=best_params['optimizer'])\n",
    "best_model.fit(X_train, y_train,\n",
    "               epochs=best_params['epochs'],\n",
    "               batch_size=best_params['batch_size'],\n",
    "               validation_data=(X_val, y_val),\n",
    "               verbose=0)\n",
    "\n",
    "# Evaluate on validation data\n",
    "y_pred = best_model.predict(X_val)\n",
    "rmse = np.sqrt(np.mean((y_val - y_pred)**2))\n",
    "print(f\"Calculated RMSE on Validation Set: {rmse}\")\n",
    "'''"
   ]
  },
  {
   "cell_type": "code",
   "execution_count": 124,
   "id": "0703c7e6",
   "metadata": {
    "execution": {
     "iopub.execute_input": "2024-10-09T10:11:59.096878Z",
     "iopub.status.busy": "2024-10-09T10:11:59.096317Z",
     "iopub.status.idle": "2024-10-09T10:11:59.101685Z",
     "shell.execute_reply": "2024-10-09T10:11:59.100861Z"
    },
    "papermill": {
     "duration": 0.057744,
     "end_time": "2024-10-09T10:11:59.103620",
     "exception": false,
     "start_time": "2024-10-09T10:11:59.045876",
     "status": "completed"
    },
    "tags": []
   },
   "outputs": [
    {
     "data": {
      "text/plain": [
       "\"prediction = model.predict(x_test_pca_L).flatten()\\ndf = {'id':test.id , 'price' : prediction}\\nsubmission = pd.DataFrame(data = df)\\nsubmission.to_csv('submission.csv',index = False)\""
      ]
     },
     "execution_count": 124,
     "metadata": {},
     "output_type": "execute_result"
    }
   ],
   "source": [
    "'''prediction = model.predict(x_test_pca_L).flatten()\n",
    "df = {'id':test.id , 'price' : prediction}\n",
    "submission = pd.DataFrame(data = df)\n",
    "submission.to_csv('submission.csv',index = False)'''"
   ]
  },
  {
   "cell_type": "code",
   "execution_count": 125,
   "id": "67b56c40",
   "metadata": {
    "execution": {
     "iopub.execute_input": "2024-10-09T10:11:59.204084Z",
     "iopub.status.busy": "2024-10-09T10:11:59.203812Z",
     "iopub.status.idle": "2024-10-09T10:11:59.209239Z",
     "shell.execute_reply": "2024-10-09T10:11:59.208466Z"
    },
    "papermill": {
     "duration": 0.058038,
     "end_time": "2024-10-09T10:11:59.211134",
     "exception": false,
     "start_time": "2024-10-09T10:11:59.153096",
     "status": "completed"
    },
    "tags": []
   },
   "outputs": [
    {
     "data": {
      "text/plain": [
       "'Calculated RMSE on Validation Set: 26806.09499262167 using neural network\\nBest RMSE: 26789.73828625763 using xgboost'"
      ]
     },
     "execution_count": 125,
     "metadata": {},
     "output_type": "execute_result"
    }
   ],
   "source": [
    "'''Calculated RMSE on Validation Set: 26806.09499262167 using neural network\n",
    "Best RMSE: 26789.73828625763 using xgboost'''"
   ]
  },
  {
   "cell_type": "code",
   "execution_count": null,
   "id": "6f775816",
   "metadata": {
    "papermill": {
     "duration": 0.050288,
     "end_time": "2024-10-09T10:11:59.311205",
     "exception": false,
     "start_time": "2024-10-09T10:11:59.260917",
     "status": "completed"
    },
    "tags": []
   },
   "outputs": [],
   "source": []
  },
  {
   "cell_type": "code",
   "execution_count": null,
   "id": "da5758a7",
   "metadata": {
    "papermill": {
     "duration": 0.050561,
     "end_time": "2024-10-09T10:11:59.412653",
     "exception": false,
     "start_time": "2024-10-09T10:11:59.362092",
     "status": "completed"
    },
    "tags": []
   },
   "outputs": [],
   "source": []
  }
 ],
 "metadata": {
  "kaggle": {
   "accelerator": "nvidiaTeslaT4",
   "dataSources": [
    {
     "databundleVersionId": 9057646,
     "sourceId": 76728,
     "sourceType": "competition"
    }
   ],
   "dockerImageVersionId": 30787,
   "isGpuEnabled": true,
   "isInternetEnabled": true,
   "language": "python",
   "sourceType": "notebook"
  },
  "kernelspec": {
   "display_name": "Python 3",
   "language": "python",
   "name": "python3"
  },
  "language_info": {
   "codemirror_mode": {
    "name": "ipython",
    "version": 3
   },
   "file_extension": ".py",
   "mimetype": "text/x-python",
   "name": "python",
   "nbconvert_exporter": "python",
   "pygments_lexer": "ipython3",
   "version": "3.10.14"
  },
  "papermill": {
   "default_parameters": {},
   "duration": 981.150255,
   "end_time": "2024-10-09T10:12:00.081470",
   "environment_variables": {},
   "exception": null,
   "input_path": "__notebook__.ipynb",
   "output_path": "__notebook__.ipynb",
   "parameters": {},
   "start_time": "2024-10-09T09:55:38.931215",
   "version": "2.6.0"
  }
 },
 "nbformat": 4,
 "nbformat_minor": 5
}
